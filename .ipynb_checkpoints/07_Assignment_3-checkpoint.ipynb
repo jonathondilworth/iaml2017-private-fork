{
 "cells": [
  {
   "cell_type": "markdown",
   "metadata": {},
   "source": [
    "# Introductory applied machine learning (INFR10069)"
   ]
  },
  {
   "cell_type": "markdown",
   "metadata": {},
   "source": [
    "# Assignment 3: Object recognition"
   ]
  },
  {
   "cell_type": "markdown",
   "metadata": {},
   "source": [
    "## Marking Breakdown\n",
    "\n",
    "**70-100%** results/answer correct plus extra achievement at understanding or analysis of results. Clear explanations, evidence of creative or deeper thought will contribute to a higher grade.\n",
    "\n",
    "**60-69%** results/answer correct or nearly correct and well explained.\n",
    "\n",
    "**50-59%** results/answer in right direction but significant errors.\n",
    "\n",
    "**40-49%** some evidence that the student has gained some understanding, but not answered the questions\n",
    "properly.\n",
    "\n",
    "**0-39%** serious error or slack work."
   ]
  },
  {
   "cell_type": "markdown",
   "metadata": {},
   "source": [
    "## Mechanics\n",
    "\n",
    "Fill out this notebook, save it, and submit it **and a `.txt` file** (see Part 2) in answer to this assignment.\n",
    "**You need to submit these two files electronically as described below.**\n",
    "\n",
    "On a DICE environment, open the terminal, navigate to the location of this notebook, and submit this notebook file using the following command:\n",
    "\n",
    "`submit iaml cw2 07_Assignment_3.ipynb assignment_3_predictions.txt`\n",
    "\n",
    "What actually happens in the background is that your file is placed in a folder available to markers. If you submit a file with the same name into the same location, **it will *overwrite* your previous submission**. You can check the status of your submissions with the `show_submissions` command.\n",
    "\n",
    "**Distance Learners:** To copy your work up to DICE (such that you can use the `submit` command) you can use `scp` or `rsync` (you may need to install these yourself). You can copy files up using `student.ssh.inf.ed.ac.uk`, then ssh in to submit, e.g. (in a unix terminal):\n",
    "```\n",
    "filename1=07_Assignment_3.ipynb\n",
    "local_scp_filepath1=~/git/iaml2017/${filename1}\n",
    "filename2=assignment_3_predictions.txt\n",
    "local_scp_filepath2=~/git/iaml2017/${filename2}\n",
    "UUN=s0816700\n",
    "server_address=student.ssh.inf.ed.ac.uk\n",
    "scp -r ${local_scp_filepath1} ${UUN}@${server_address}:${filename1}\n",
    "scp -r ${local_scp_filepath2} ${UUN}@${server_address}:${filename2}\n",
    "# rsync -rl ${local_scp_filepath1} ${UUN}@${server_address}:${filename1}\n",
    "# rsync -rl ${local_scp_filepath2} ${UUN}@${server_address}:${filename2}\n",
    "ssh ${UUN}@${server_address}\n",
    "ssh student.login\n",
    "submit iaml cw2 07_Assignment_3.ipynb assignment_3_predictions.txt\n",
    "```\n",
    "\n",
    "**Late submissions:** The policy stated in the School of Informatics MSc Degree Guide is that normally you will not be allowed to submit coursework late. See http://www.inf.ed.ac.uk/teaching/years/msc/courseguide10.html#exam for exceptions to this, e.g. in case of serious medical illness or serious personal problems.\n",
    "\n",
    "**Collaboration:** You may discuss the assignment with your colleagues, provided that the writing that you submit is entirely your own. That is, you should NOT borrow actual text or code from other students. We ask that you provide a list of the people who you've had discussions with (if any).\n",
    "\n",
    "**Resubmission:** If you submit your file again, the previous submission is **overwritten**. We will mark the version that is in the submission folder at the deadline."
   ]
  },
  {
   "cell_type": "markdown",
   "metadata": {},
   "source": [
    "## Important Instructions\n",
    "\n",
    "1. You *MUST* have your environment set up as in the [README](https://github.com/JamesOwers/iaml2017) and you *must activate this environment before running this notebook*:\n",
    "```\n",
    "source activate iaml\n",
    "cd iaml_2017\n",
    "jupyter notebook\n",
    "# Navigate to this file\n",
    "```\n",
    "\n",
    "1. Wherever you are required to produce code you should use code cells, otherwise you should use markdown cells to report results and explain answers.\n",
    "\n",
    "1. The .csv files that you will be using are located at `./datasets` (the `datasets` directory is adjacent to this file).\n",
    "\n",
    "1. **IMPORTANT:** Keep your answers brief and concise. Most written questions can be answered with 2-3 lines of explanation."
   ]
  },
  {
   "cell_type": "markdown",
   "metadata": {},
   "source": [
    "## Imports\n",
    "\n",
    "Include all required imports and execute the cell below. It's typical to include package imports at the top of the file for clarity."
   ]
  },
  {
   "cell_type": "code",
   "execution_count": 85,
   "metadata": {
    "collapsed": true
   },
   "outputs": [],
   "source": [
    "from __future__ import print_function, division\n",
    "%matplotlib inline\n",
    "import os\n",
    "import numpy as np \n",
    "import pandas as pd\n",
    "import matplotlib\n",
    "from sklearn.model_selection import train_test_split\n",
    "import seaborn as sns\n",
    "import matplotlib.pyplot as plt\n",
    "from sklearn.dummy import DummyClassifier\n",
    "from sklearn import linear_model\n",
    "from sklearn.preprocessing import StandardScaler\n",
    "from sklearn.model_selection import KFold\n",
    "from sklearn.linear_model import LogisticRegressionCV\n",
    "from sklearn.ensemble import RandomForestClassifier\n",
    "from sklearn.svm import LinearSVC, SVC"
   ]
  },
  {
   "cell_type": "markdown",
   "metadata": {},
   "source": [
    "## Description of the dataset\n",
    "In this assignment our goal is to recognize objects in images of realistic scenes. There are 19 different classes of object e.g. person, dog, cat, car, etc. The dataset derives from several thousands photographs harvested from the web. Each object of a relevant class has been manually annotated with a bounding box. Images can contain none, one or multiple objects of each class. We have prepared a [website](http://www.inf.ed.ac.uk/teaching/courses/iaml/2014/assts/asst3/images.html) where you can view the images.\n",
    "\n",
    "We are going to detect whether images contain a person or not - a binary classification problem. To save you time and to make the problem manageable with limited computational resources, we have preprocessed the dataset. We will use the [Bag of Visual Words](https://en.wikipedia.org/wiki/Bag-of-words_model_in_computer_vision) representation. Each column of the dataset (which is not an lable), refers to a 'visual word'. Each image is represented by a 500 dimensional vector that contains the normalized count for each of 500 different visual words present in the respective image (a similar representation is used for the spambase dataset, just for real words). See the Appendix at the bottom of the notebook for more information. The image data is thus a $N \\times 500$ dimensional matrix where `N` is the number of images.\n",
    "\n",
    "The full dataset has 520 attributes (dimensions). The first attribute (`imgID`) contains the image ID which allows you to associate a data point with an actual image. The next 500 attributes (`dim1`, ..., `dim500`) are a normalized count vector for each visual word. The last 19 attributes (`is_class`) are the labels - 1 means the class is present in the image. In most of the experiments (unless explicitly noted otherwise) you will only need the `is_person` attribute and the 500 dimensional feature vector. **Do not use the additional class indicator attributes as features** unless explicitly told to do so. \n",
    "\n",
    "In Part A we provide you with a training (`train_images partA.csv`) and a validation (`valid_images partA .csv`) dataset. In Part B we provide three data sets: a training set (`train_images partB.csv`), a validation set (`valid_images partB.csv`), and a test set (`test_images partB.csv`). The training and validation set contain valid labels. In the test set the labels are missing. The files are available from the GitHub repository. \n",
    "\n",
    "**Important**: *Throughout the assignment you will be given various versions of the dataset that are relevant\n",
    "to a particular question. Please be careful to use the correct version of the dataset when instructed to do so.\n",
    "If you use the wrong version of the dataset by mistake no marks will be awarded.*"
   ]
  },
  {
   "cell_type": "markdown",
   "metadata": {},
   "source": [
    "## 1. Exploration of the dataset [70%]"
   ]
  },
  {
   "cell_type": "markdown",
   "metadata": {},
   "source": [
    "### ========== Question 1.1 --- [1 mark] ==========\n",
    "Create two Pandas DataFrame objects called `train_A` and `valid_A` by loading the datasets `train_images_partA.csv` and `valid_images_partA.csv`. Display the number of data points and attributes in each of the two datasets."
   ]
  },
  {
   "cell_type": "code",
   "execution_count": 86,
   "metadata": {},
   "outputs": [
    {
     "name": "stdout",
     "output_type": "stream",
     "text": [
      "train_A: Number of samples: 2093, number of attributes: 520\n",
      "valid_A: Number of samples: 1113, number of attributes: 520\n"
     ]
    }
   ],
   "source": [
    "def getDataPath(fileName):\n",
    "    return os.path.join(os.getcwd(), 'datasets', fileName)\n",
    "\n",
    "def getDataProvider(dataPath, p_delimiter=','):\n",
    "    return pd.read_csv(getDataPath(dataPath), p_delimiter)\n",
    "\n",
    "# load in two datasets\n",
    "train_A = getDataProvider(getDataPath('train_images_partA.csv'))\n",
    "valid_A = getDataProvider(getDataPath('valid_images_partA.csv'))\n",
    "\n",
    "# display number of data points and attributes in each dataset\n",
    "print('train_A: Number of samples: {}, number of attributes: {}'.format(train_A.shape[0], train_A.shape[1]))\n",
    "print('valid_A: Number of samples: {}, number of attributes: {}'.format(valid_A.shape[0], valid_A.shape[1]))"
   ]
  },
  {
   "cell_type": "markdown",
   "metadata": {},
   "source": [
    "### ========== Question 1.2 --- [1 mark] ==========\n",
    "Display and inspect the first 10 instances in the training dataset."
   ]
  },
  {
   "cell_type": "code",
   "execution_count": 87,
   "metadata": {},
   "outputs": [
    {
     "data": {
      "text/html": [
       "<div>\n",
       "<style>\n",
       "    .dataframe thead tr:only-child th {\n",
       "        text-align: right;\n",
       "    }\n",
       "\n",
       "    .dataframe thead th {\n",
       "        text-align: left;\n",
       "    }\n",
       "\n",
       "    .dataframe tbody tr th {\n",
       "        vertical-align: top;\n",
       "    }\n",
       "</style>\n",
       "<table border=\"1\" class=\"dataframe\">\n",
       "  <thead>\n",
       "    <tr style=\"text-align: right;\">\n",
       "      <th></th>\n",
       "      <th>imgId</th>\n",
       "      <th>dim1</th>\n",
       "      <th>dim2</th>\n",
       "      <th>dim3</th>\n",
       "      <th>dim4</th>\n",
       "      <th>dim5</th>\n",
       "      <th>dim6</th>\n",
       "      <th>dim7</th>\n",
       "      <th>dim8</th>\n",
       "      <th>dim9</th>\n",
       "      <th>...</th>\n",
       "      <th>is_cow</th>\n",
       "      <th>is_diningtable</th>\n",
       "      <th>is_dog</th>\n",
       "      <th>is_horse</th>\n",
       "      <th>is_motorbike</th>\n",
       "      <th>is_person</th>\n",
       "      <th>is_pottedplant</th>\n",
       "      <th>is_sheep</th>\n",
       "      <th>is_sofa</th>\n",
       "      <th>is_tvmonitor</th>\n",
       "    </tr>\n",
       "  </thead>\n",
       "  <tbody>\n",
       "    <tr>\n",
       "      <th>0</th>\n",
       "      <td>2008_000008</td>\n",
       "      <td>0.002232</td>\n",
       "      <td>0.000558</td>\n",
       "      <td>0.002790</td>\n",
       "      <td>0.000837</td>\n",
       "      <td>0.001674</td>\n",
       "      <td>0.001953</td>\n",
       "      <td>0.001395</td>\n",
       "      <td>0.002232</td>\n",
       "      <td>0.003627</td>\n",
       "      <td>...</td>\n",
       "      <td>0</td>\n",
       "      <td>0</td>\n",
       "      <td>0</td>\n",
       "      <td>1</td>\n",
       "      <td>0</td>\n",
       "      <td>1</td>\n",
       "      <td>0</td>\n",
       "      <td>0</td>\n",
       "      <td>0</td>\n",
       "      <td>0</td>\n",
       "    </tr>\n",
       "    <tr>\n",
       "      <th>1</th>\n",
       "      <td>2008_000015</td>\n",
       "      <td>0.001563</td>\n",
       "      <td>0.000391</td>\n",
       "      <td>0.007422</td>\n",
       "      <td>0.003516</td>\n",
       "      <td>0.003906</td>\n",
       "      <td>0.005078</td>\n",
       "      <td>0.001953</td>\n",
       "      <td>0.002344</td>\n",
       "      <td>0.001953</td>\n",
       "      <td>...</td>\n",
       "      <td>0</td>\n",
       "      <td>0</td>\n",
       "      <td>0</td>\n",
       "      <td>0</td>\n",
       "      <td>0</td>\n",
       "      <td>0</td>\n",
       "      <td>0</td>\n",
       "      <td>0</td>\n",
       "      <td>0</td>\n",
       "      <td>0</td>\n",
       "    </tr>\n",
       "    <tr>\n",
       "      <th>2</th>\n",
       "      <td>2008_000019</td>\n",
       "      <td>0.000521</td>\n",
       "      <td>0.000000</td>\n",
       "      <td>0.000000</td>\n",
       "      <td>0.001042</td>\n",
       "      <td>0.001563</td>\n",
       "      <td>0.005729</td>\n",
       "      <td>0.000521</td>\n",
       "      <td>0.002083</td>\n",
       "      <td>0.003646</td>\n",
       "      <td>...</td>\n",
       "      <td>0</td>\n",
       "      <td>0</td>\n",
       "      <td>1</td>\n",
       "      <td>0</td>\n",
       "      <td>0</td>\n",
       "      <td>0</td>\n",
       "      <td>0</td>\n",
       "      <td>0</td>\n",
       "      <td>0</td>\n",
       "      <td>0</td>\n",
       "    </tr>\n",
       "    <tr>\n",
       "      <th>3</th>\n",
       "      <td>2008_000023</td>\n",
       "      <td>0.002976</td>\n",
       "      <td>0.002232</td>\n",
       "      <td>0.004464</td>\n",
       "      <td>0.000372</td>\n",
       "      <td>0.000372</td>\n",
       "      <td>0.002232</td>\n",
       "      <td>0.000000</td>\n",
       "      <td>0.003720</td>\n",
       "      <td>0.000000</td>\n",
       "      <td>...</td>\n",
       "      <td>0</td>\n",
       "      <td>0</td>\n",
       "      <td>0</td>\n",
       "      <td>0</td>\n",
       "      <td>0</td>\n",
       "      <td>1</td>\n",
       "      <td>0</td>\n",
       "      <td>0</td>\n",
       "      <td>0</td>\n",
       "      <td>1</td>\n",
       "    </tr>\n",
       "    <tr>\n",
       "      <th>4</th>\n",
       "      <td>2008_000028</td>\n",
       "      <td>0.001359</td>\n",
       "      <td>0.000340</td>\n",
       "      <td>0.001359</td>\n",
       "      <td>0.000340</td>\n",
       "      <td>0.001359</td>\n",
       "      <td>0.002038</td>\n",
       "      <td>0.002378</td>\n",
       "      <td>0.000000</td>\n",
       "      <td>0.003397</td>\n",
       "      <td>...</td>\n",
       "      <td>0</td>\n",
       "      <td>0</td>\n",
       "      <td>0</td>\n",
       "      <td>0</td>\n",
       "      <td>0</td>\n",
       "      <td>0</td>\n",
       "      <td>0</td>\n",
       "      <td>0</td>\n",
       "      <td>0</td>\n",
       "      <td>0</td>\n",
       "    </tr>\n",
       "    <tr>\n",
       "      <th>5</th>\n",
       "      <td>2008_000033</td>\n",
       "      <td>0.000000</td>\n",
       "      <td>0.006324</td>\n",
       "      <td>0.000372</td>\n",
       "      <td>0.000372</td>\n",
       "      <td>0.000372</td>\n",
       "      <td>0.000372</td>\n",
       "      <td>0.000744</td>\n",
       "      <td>0.008185</td>\n",
       "      <td>0.000372</td>\n",
       "      <td>...</td>\n",
       "      <td>0</td>\n",
       "      <td>0</td>\n",
       "      <td>0</td>\n",
       "      <td>0</td>\n",
       "      <td>0</td>\n",
       "      <td>0</td>\n",
       "      <td>0</td>\n",
       "      <td>0</td>\n",
       "      <td>0</td>\n",
       "      <td>0</td>\n",
       "    </tr>\n",
       "    <tr>\n",
       "      <th>6</th>\n",
       "      <td>2008_000036</td>\n",
       "      <td>0.000340</td>\n",
       "      <td>0.000000</td>\n",
       "      <td>0.004416</td>\n",
       "      <td>0.000340</td>\n",
       "      <td>0.000679</td>\n",
       "      <td>0.006114</td>\n",
       "      <td>0.001359</td>\n",
       "      <td>0.002717</td>\n",
       "      <td>0.003057</td>\n",
       "      <td>...</td>\n",
       "      <td>0</td>\n",
       "      <td>0</td>\n",
       "      <td>0</td>\n",
       "      <td>0</td>\n",
       "      <td>0</td>\n",
       "      <td>1</td>\n",
       "      <td>0</td>\n",
       "      <td>0</td>\n",
       "      <td>0</td>\n",
       "      <td>0</td>\n",
       "    </tr>\n",
       "    <tr>\n",
       "      <th>7</th>\n",
       "      <td>2008_000037</td>\n",
       "      <td>0.000837</td>\n",
       "      <td>0.002232</td>\n",
       "      <td>0.000279</td>\n",
       "      <td>0.000279</td>\n",
       "      <td>0.000837</td>\n",
       "      <td>0.000000</td>\n",
       "      <td>0.000279</td>\n",
       "      <td>0.006696</td>\n",
       "      <td>0.000000</td>\n",
       "      <td>...</td>\n",
       "      <td>0</td>\n",
       "      <td>0</td>\n",
       "      <td>0</td>\n",
       "      <td>0</td>\n",
       "      <td>0</td>\n",
       "      <td>0</td>\n",
       "      <td>0</td>\n",
       "      <td>0</td>\n",
       "      <td>0</td>\n",
       "      <td>0</td>\n",
       "    </tr>\n",
       "    <tr>\n",
       "      <th>8</th>\n",
       "      <td>2008_000041</td>\n",
       "      <td>0.002378</td>\n",
       "      <td>0.001359</td>\n",
       "      <td>0.004755</td>\n",
       "      <td>0.001019</td>\n",
       "      <td>0.003736</td>\n",
       "      <td>0.001359</td>\n",
       "      <td>0.001019</td>\n",
       "      <td>0.004076</td>\n",
       "      <td>0.003397</td>\n",
       "      <td>...</td>\n",
       "      <td>0</td>\n",
       "      <td>1</td>\n",
       "      <td>0</td>\n",
       "      <td>0</td>\n",
       "      <td>0</td>\n",
       "      <td>1</td>\n",
       "      <td>0</td>\n",
       "      <td>0</td>\n",
       "      <td>0</td>\n",
       "      <td>0</td>\n",
       "    </tr>\n",
       "    <tr>\n",
       "      <th>9</th>\n",
       "      <td>2008_000045</td>\n",
       "      <td>0.001019</td>\n",
       "      <td>0.000340</td>\n",
       "      <td>0.006454</td>\n",
       "      <td>0.001698</td>\n",
       "      <td>0.001359</td>\n",
       "      <td>0.003736</td>\n",
       "      <td>0.000000</td>\n",
       "      <td>0.004076</td>\n",
       "      <td>0.000000</td>\n",
       "      <td>...</td>\n",
       "      <td>0</td>\n",
       "      <td>0</td>\n",
       "      <td>0</td>\n",
       "      <td>0</td>\n",
       "      <td>0</td>\n",
       "      <td>0</td>\n",
       "      <td>0</td>\n",
       "      <td>0</td>\n",
       "      <td>0</td>\n",
       "      <td>0</td>\n",
       "    </tr>\n",
       "  </tbody>\n",
       "</table>\n",
       "<p>10 rows × 520 columns</p>\n",
       "</div>"
      ],
      "text/plain": [
       "         imgId      dim1      dim2      dim3      dim4      dim5      dim6  \\\n",
       "0  2008_000008  0.002232  0.000558  0.002790  0.000837  0.001674  0.001953   \n",
       "1  2008_000015  0.001563  0.000391  0.007422  0.003516  0.003906  0.005078   \n",
       "2  2008_000019  0.000521  0.000000  0.000000  0.001042  0.001563  0.005729   \n",
       "3  2008_000023  0.002976  0.002232  0.004464  0.000372  0.000372  0.002232   \n",
       "4  2008_000028  0.001359  0.000340  0.001359  0.000340  0.001359  0.002038   \n",
       "5  2008_000033  0.000000  0.006324  0.000372  0.000372  0.000372  0.000372   \n",
       "6  2008_000036  0.000340  0.000000  0.004416  0.000340  0.000679  0.006114   \n",
       "7  2008_000037  0.000837  0.002232  0.000279  0.000279  0.000837  0.000000   \n",
       "8  2008_000041  0.002378  0.001359  0.004755  0.001019  0.003736  0.001359   \n",
       "9  2008_000045  0.001019  0.000340  0.006454  0.001698  0.001359  0.003736   \n",
       "\n",
       "       dim7      dim8      dim9      ...       is_cow  is_diningtable  is_dog  \\\n",
       "0  0.001395  0.002232  0.003627      ...            0               0       0   \n",
       "1  0.001953  0.002344  0.001953      ...            0               0       0   \n",
       "2  0.000521  0.002083  0.003646      ...            0               0       1   \n",
       "3  0.000000  0.003720  0.000000      ...            0               0       0   \n",
       "4  0.002378  0.000000  0.003397      ...            0               0       0   \n",
       "5  0.000744  0.008185  0.000372      ...            0               0       0   \n",
       "6  0.001359  0.002717  0.003057      ...            0               0       0   \n",
       "7  0.000279  0.006696  0.000000      ...            0               0       0   \n",
       "8  0.001019  0.004076  0.003397      ...            0               1       0   \n",
       "9  0.000000  0.004076  0.000000      ...            0               0       0   \n",
       "\n",
       "   is_horse  is_motorbike  is_person  is_pottedplant  is_sheep  is_sofa  \\\n",
       "0         1             0          1               0         0        0   \n",
       "1         0             0          0               0         0        0   \n",
       "2         0             0          0               0         0        0   \n",
       "3         0             0          1               0         0        0   \n",
       "4         0             0          0               0         0        0   \n",
       "5         0             0          0               0         0        0   \n",
       "6         0             0          1               0         0        0   \n",
       "7         0             0          0               0         0        0   \n",
       "8         0             0          1               0         0        0   \n",
       "9         0             0          0               0         0        0   \n",
       "\n",
       "   is_tvmonitor  \n",
       "0             0  \n",
       "1             0  \n",
       "2             0  \n",
       "3             1  \n",
       "4             0  \n",
       "5             0  \n",
       "6             0  \n",
       "7             0  \n",
       "8             0  \n",
       "9             0  \n",
       "\n",
       "[10 rows x 520 columns]"
      ]
     },
     "execution_count": 87,
     "metadata": {},
     "output_type": "execute_result"
    }
   ],
   "source": [
    "train_A.head(10)"
   ]
  },
  {
   "cell_type": "markdown",
   "metadata": {},
   "source": [
    "### ========== Question 1.3 --- [1 mark] ==========\n",
    "Select the attributes (i.e. input features) for training our classifiers. These should be the visual word normalised counts `dim1, dim2, ..., dim500`. Create a list of the **names** of the attributes of interest. "
   ]
  },
  {
   "cell_type": "code",
   "execution_count": 88,
   "metadata": {},
   "outputs": [
    {
     "name": "stdout",
     "output_type": "stream",
     "text": [
      "['dim1', 'dim2', 'dim3', 'dim4', 'dim5', 'dim6', 'dim7', 'dim8', 'dim9', 'dim10', 'dim11', 'dim12', 'dim13', 'dim14', 'dim15', 'dim16', 'dim17', 'dim18', 'dim19', 'dim20', 'dim21', 'dim22', 'dim23', 'dim24', 'dim25', 'dim26', 'dim27', 'dim28', 'dim29', 'dim30', 'dim31', 'dim32', 'dim33', 'dim34', 'dim35', 'dim36', 'dim37', 'dim38', 'dim39', 'dim40', 'dim41', 'dim42', 'dim43', 'dim44', 'dim45', 'dim46', 'dim47', 'dim48', 'dim49', 'dim50', 'dim51', 'dim52', 'dim53', 'dim54', 'dim55', 'dim56', 'dim57', 'dim58', 'dim59', 'dim60', 'dim61', 'dim62', 'dim63', 'dim64', 'dim65', 'dim66', 'dim67', 'dim68', 'dim69', 'dim70', 'dim71', 'dim72', 'dim73', 'dim74', 'dim75', 'dim76', 'dim77', 'dim78', 'dim79', 'dim80', 'dim81', 'dim82', 'dim83', 'dim84', 'dim85', 'dim86', 'dim87', 'dim88', 'dim89', 'dim90', 'dim91', 'dim92', 'dim93', 'dim94', 'dim95', 'dim96', 'dim97', 'dim98', 'dim99', 'dim100', 'dim101', 'dim102', 'dim103', 'dim104', 'dim105', 'dim106', 'dim107', 'dim108', 'dim109', 'dim110', 'dim111', 'dim112', 'dim113', 'dim114', 'dim115', 'dim116', 'dim117', 'dim118', 'dim119', 'dim120', 'dim121', 'dim122', 'dim123', 'dim124', 'dim125', 'dim126', 'dim127', 'dim128', 'dim129', 'dim130', 'dim131', 'dim132', 'dim133', 'dim134', 'dim135', 'dim136', 'dim137', 'dim138', 'dim139', 'dim140', 'dim141', 'dim142', 'dim143', 'dim144', 'dim145', 'dim146', 'dim147', 'dim148', 'dim149', 'dim150', 'dim151', 'dim152', 'dim153', 'dim154', 'dim155', 'dim156', 'dim157', 'dim158', 'dim159', 'dim160', 'dim161', 'dim162', 'dim163', 'dim164', 'dim165', 'dim166', 'dim167', 'dim168', 'dim169', 'dim170', 'dim171', 'dim172', 'dim173', 'dim174', 'dim175', 'dim176', 'dim177', 'dim178', 'dim179', 'dim180', 'dim181', 'dim182', 'dim183', 'dim184', 'dim185', 'dim186', 'dim187', 'dim188', 'dim189', 'dim190', 'dim191', 'dim192', 'dim193', 'dim194', 'dim195', 'dim196', 'dim197', 'dim198', 'dim199', 'dim200', 'dim201', 'dim202', 'dim203', 'dim204', 'dim205', 'dim206', 'dim207', 'dim208', 'dim209', 'dim210', 'dim211', 'dim212', 'dim213', 'dim214', 'dim215', 'dim216', 'dim217', 'dim218', 'dim219', 'dim220', 'dim221', 'dim222', 'dim223', 'dim224', 'dim225', 'dim226', 'dim227', 'dim228', 'dim229', 'dim230', 'dim231', 'dim232', 'dim233', 'dim234', 'dim235', 'dim236', 'dim237', 'dim238', 'dim239', 'dim240', 'dim241', 'dim242', 'dim243', 'dim244', 'dim245', 'dim246', 'dim247', 'dim248', 'dim249', 'dim250', 'dim251', 'dim252', 'dim253', 'dim254', 'dim255', 'dim256', 'dim257', 'dim258', 'dim259', 'dim260', 'dim261', 'dim262', 'dim263', 'dim264', 'dim265', 'dim266', 'dim267', 'dim268', 'dim269', 'dim270', 'dim271', 'dim272', 'dim273', 'dim274', 'dim275', 'dim276', 'dim277', 'dim278', 'dim279', 'dim280', 'dim281', 'dim282', 'dim283', 'dim284', 'dim285', 'dim286', 'dim287', 'dim288', 'dim289', 'dim290', 'dim291', 'dim292', 'dim293', 'dim294', 'dim295', 'dim296', 'dim297', 'dim298', 'dim299', 'dim300', 'dim301', 'dim302', 'dim303', 'dim304', 'dim305', 'dim306', 'dim307', 'dim308', 'dim309', 'dim310', 'dim311', 'dim312', 'dim313', 'dim314', 'dim315', 'dim316', 'dim317', 'dim318', 'dim319', 'dim320', 'dim321', 'dim322', 'dim323', 'dim324', 'dim325', 'dim326', 'dim327', 'dim328', 'dim329', 'dim330', 'dim331', 'dim332', 'dim333', 'dim334', 'dim335', 'dim336', 'dim337', 'dim338', 'dim339', 'dim340', 'dim341', 'dim342', 'dim343', 'dim344', 'dim345', 'dim346', 'dim347', 'dim348', 'dim349', 'dim350', 'dim351', 'dim352', 'dim353', 'dim354', 'dim355', 'dim356', 'dim357', 'dim358', 'dim359', 'dim360', 'dim361', 'dim362', 'dim363', 'dim364', 'dim365', 'dim366', 'dim367', 'dim368', 'dim369', 'dim370', 'dim371', 'dim372', 'dim373', 'dim374', 'dim375', 'dim376', 'dim377', 'dim378', 'dim379', 'dim380', 'dim381', 'dim382', 'dim383', 'dim384', 'dim385', 'dim386', 'dim387', 'dim388', 'dim389', 'dim390', 'dim391', 'dim392', 'dim393', 'dim394', 'dim395', 'dim396', 'dim397', 'dim398', 'dim399', 'dim400', 'dim401', 'dim402', 'dim403', 'dim404', 'dim405', 'dim406', 'dim407', 'dim408', 'dim409', 'dim410', 'dim411', 'dim412', 'dim413', 'dim414', 'dim415', 'dim416', 'dim417', 'dim418', 'dim419', 'dim420', 'dim421', 'dim422', 'dim423', 'dim424', 'dim425', 'dim426', 'dim427', 'dim428', 'dim429', 'dim430', 'dim431', 'dim432', 'dim433', 'dim434', 'dim435', 'dim436', 'dim437', 'dim438', 'dim439', 'dim440', 'dim441', 'dim442', 'dim443', 'dim444', 'dim445', 'dim446', 'dim447', 'dim448', 'dim449', 'dim450', 'dim451', 'dim452', 'dim453', 'dim454', 'dim455', 'dim456', 'dim457', 'dim458', 'dim459', 'dim460', 'dim461', 'dim462', 'dim463', 'dim464', 'dim465', 'dim466', 'dim467', 'dim468', 'dim469', 'dim470', 'dim471', 'dim472', 'dim473', 'dim474', 'dim475', 'dim476', 'dim477', 'dim478', 'dim479', 'dim480', 'dim481', 'dim482', 'dim483', 'dim484', 'dim485', 'dim486', 'dim487', 'dim488', 'dim489', 'dim490', 'dim491', 'dim492', 'dim493', 'dim494', 'dim495', 'dim496', 'dim497', 'dim498', 'dim499', 'dim500']\n",
      "          dim1      dim2      dim3      dim4      dim5      dim6      dim7  \\\n",
      "0     0.002232  0.000558  0.002790  0.000837  0.001674  0.001953  0.001395   \n",
      "1     0.001563  0.000391  0.007422  0.003516  0.003906  0.005078  0.001953   \n",
      "2     0.000521  0.000000  0.000000  0.001042  0.001563  0.005729  0.000521   \n",
      "3     0.002976  0.002232  0.004464  0.000372  0.000372  0.002232  0.000000   \n",
      "4     0.001359  0.000340  0.001359  0.000340  0.001359  0.002038  0.002378   \n",
      "5     0.000000  0.006324  0.000372  0.000372  0.000372  0.000372  0.000744   \n",
      "6     0.000340  0.000000  0.004416  0.000340  0.000679  0.006114  0.001359   \n",
      "7     0.000837  0.002232  0.000279  0.000279  0.000837  0.000000  0.000279   \n",
      "8     0.002378  0.001359  0.004755  0.001019  0.003736  0.001359  0.001019   \n",
      "9     0.001019  0.000340  0.006454  0.001698  0.001359  0.003736  0.000000   \n",
      "10    0.001359  0.000000  0.003397  0.001698  0.004076  0.004076  0.000000   \n",
      "11    0.003827  0.000425  0.011054  0.003401  0.001276  0.005102  0.000850   \n",
      "12    0.002772  0.000000  0.011593  0.002520  0.001260  0.003528  0.000000   \n",
      "13    0.002378  0.001019  0.006114  0.001359  0.001019  0.000340  0.001359   \n",
      "14    0.001019  0.000000  0.001698  0.002378  0.002038  0.001698  0.000679   \n",
      "15    0.001019  0.002717  0.008152  0.003057  0.000000  0.002038  0.002378   \n",
      "16    0.001359  0.000000  0.005774  0.001019  0.001359  0.000340  0.002717   \n",
      "17    0.002378  0.000000  0.006114  0.000340  0.005095  0.001019  0.002038   \n",
      "18    0.001698  0.000000  0.001019  0.001359  0.002378  0.009511  0.000340   \n",
      "19    0.002717  0.000000  0.005095  0.002378  0.002717  0.002378  0.001698   \n",
      "20    0.002604  0.000372  0.001116  0.001116  0.000744  0.001860  0.000744   \n",
      "21    0.002486  0.000355  0.002131  0.003551  0.002486  0.000355  0.001776   \n",
      "22    0.000000  0.000000  0.003057  0.002717  0.000340  0.003397  0.000340   \n",
      "23    0.001698  0.001359  0.002038  0.002717  0.002378  0.003057  0.001019   \n",
      "24    0.002378  0.000000  0.009171  0.001019  0.001359  0.003397  0.001019   \n",
      "25    0.002378  0.002378  0.005774  0.001698  0.003736  0.001359  0.001019   \n",
      "26    0.002378  0.000340  0.006793  0.002378  0.004416  0.000679  0.001698   \n",
      "27    0.000000  0.000411  0.000000  0.001234  0.000411  0.002056  0.000000   \n",
      "28    0.000340  0.001359  0.003397  0.001698  0.000340  0.000340  0.000340   \n",
      "29    0.002976  0.000744  0.001116  0.004092  0.003348  0.002232  0.000372   \n",
      "...        ...       ...       ...       ...       ...       ...       ...   \n",
      "2063  0.000000  0.000000  0.008929  0.002976  0.001116  0.007812  0.000744   \n",
      "2064  0.000391  0.000000  0.013672  0.000781  0.001172  0.002344  0.001172   \n",
      "2065  0.003057  0.000340  0.005435  0.002378  0.003736  0.002717  0.004755   \n",
      "2066  0.000679  0.000000  0.006793  0.000679  0.001359  0.000679  0.001019   \n",
      "2067  0.002378  0.000340  0.003397  0.001698  0.002038  0.005435  0.000340   \n",
      "2068  0.000651  0.000000  0.000000  0.004883  0.001628  0.001953  0.000651   \n",
      "2069  0.002604  0.006771  0.002604  0.002083  0.002083  0.000521  0.001563   \n",
      "2070  0.000340  0.001698  0.001698  0.002378  0.001359  0.001359  0.001698   \n",
      "2071  0.000679  0.000000  0.001359  0.002378  0.000340  0.006114  0.000679   \n",
      "2072  0.001420  0.000355  0.007812  0.001420  0.001065  0.000355  0.002841   \n",
      "2073  0.001019  0.000679  0.001019  0.001359  0.001359  0.002378  0.000340   \n",
      "2074  0.002038  0.000000  0.004416  0.002038  0.002038  0.002378  0.003057   \n",
      "2075  0.002717  0.000340  0.001019  0.003057  0.001359  0.004076  0.002378   \n",
      "2076  0.004464  0.000000  0.000372  0.001116  0.003348  0.004836  0.001116   \n",
      "2077  0.000000  0.001698  0.005774  0.001359  0.001698  0.004416  0.000000   \n",
      "2078  0.002378  0.000340  0.002378  0.002378  0.003397  0.004416  0.002038   \n",
      "2079  0.000340  0.000000  0.000679  0.002038  0.000000  0.004076  0.000000   \n",
      "2080  0.001488  0.000744  0.000744  0.000372  0.003720  0.001860  0.002232   \n",
      "2081  0.001019  0.000340  0.007133  0.000000  0.003057  0.001019  0.001698   \n",
      "2082  0.001116  0.002232  0.000372  0.002604  0.004464  0.002604  0.002232   \n",
      "2083  0.001019  0.000340  0.003057  0.001359  0.002378  0.001359  0.000000   \n",
      "2084  0.000340  0.000000  0.002717  0.001019  0.001698  0.001359  0.001698   \n",
      "2085  0.001116  0.001860  0.001488  0.001116  0.003348  0.001860  0.001488   \n",
      "2086  0.003397  0.000000  0.001019  0.002717  0.004416  0.003057  0.000000   \n",
      "2087  0.001359  0.000000  0.000340  0.000340  0.004755  0.004076  0.001359   \n",
      "2088  0.004972  0.000355  0.007102  0.002841  0.001420  0.003906  0.001776   \n",
      "2089  0.003720  0.003348  0.001860  0.001488  0.006696  0.001116  0.001116   \n",
      "2090  0.002378  0.000340  0.012228  0.001698  0.001359  0.002038  0.000340   \n",
      "2091  0.005952  0.000744  0.002232  0.005208  0.006696  0.001488  0.000744   \n",
      "2092  0.000679  0.000000  0.002717  0.004416  0.002038  0.001359  0.000340   \n",
      "\n",
      "          dim8      dim9     dim10    ...       dim491    dim492    dim493  \\\n",
      "0     0.002232  0.003627  0.006138    ...     0.001116  0.000558  0.005301   \n",
      "1     0.002344  0.001953  0.001953    ...     0.001953  0.000000  0.008203   \n",
      "2     0.002083  0.003646  0.005208    ...     0.002083  0.000000  0.000521   \n",
      "3     0.003720  0.000000  0.002232    ...     0.001488  0.000000  0.015253   \n",
      "4     0.000000  0.003397  0.003397    ...     0.002038  0.000679  0.000000   \n",
      "5     0.008185  0.000372  0.000372    ...     0.000372  0.005580  0.000744   \n",
      "6     0.002717  0.003057  0.005435    ...     0.000679  0.000000  0.003057   \n",
      "7     0.006696  0.000000  0.000000    ...     0.000558  0.002232  0.004185   \n",
      "8     0.004076  0.003397  0.001698    ...     0.001359  0.000679  0.007133   \n",
      "9     0.004076  0.000000  0.003057    ...     0.002378  0.000000  0.002717   \n",
      "10    0.000679  0.000000  0.004755    ...     0.002038  0.000000  0.000000   \n",
      "11    0.004252  0.002126  0.002976    ...     0.001701  0.000425  0.003827   \n",
      "12    0.000252  0.001512  0.001512    ...     0.002016  0.000000  0.011593   \n",
      "13    0.003397  0.004076  0.000679    ...     0.001019  0.001359  0.010190   \n",
      "14    0.001359  0.000679  0.006114    ...     0.000340  0.001019  0.003057   \n",
      "15    0.003397  0.000679  0.003057    ...     0.003057  0.000000  0.007812   \n",
      "16    0.003736  0.001359  0.003397    ...     0.003057  0.000340  0.001019   \n",
      "17    0.004416  0.000000  0.002038    ...     0.002717  0.000000  0.008492   \n",
      "18    0.001359  0.004076  0.004755    ...     0.002717  0.000000  0.000340   \n",
      "19    0.001359  0.004076  0.001698    ...     0.002038  0.000000  0.002717   \n",
      "20    0.000000  0.002976  0.004464    ...     0.001860  0.000000  0.000372   \n",
      "21    0.000355  0.001065  0.004616    ...     0.004261  0.000000  0.001420   \n",
      "22    0.000000  0.003057  0.000340    ...     0.004416  0.000000  0.011209   \n",
      "23    0.000000  0.001359  0.004076    ...     0.001698  0.000000  0.001019   \n",
      "24    0.000340  0.002038  0.005774    ...     0.002038  0.000000  0.004755   \n",
      "25    0.005774  0.000679  0.001698    ...     0.001019  0.000340  0.006454   \n",
      "26    0.011549  0.004416  0.001359    ...     0.000679  0.000000  0.002038   \n",
      "27    0.000411  0.028372  0.009457    ...     0.002056  0.000000  0.000000   \n",
      "28    0.000340  0.001698  0.001019    ...     0.005435  0.000679  0.029212   \n",
      "29    0.002232  0.001860  0.001860    ...     0.001860  0.000372  0.001860   \n",
      "...        ...       ...       ...    ...          ...       ...       ...   \n",
      "2063  0.000372  0.000372  0.003720    ...     0.001116  0.000000  0.009673   \n",
      "2064  0.002344  0.001172  0.000781    ...     0.001563  0.000781  0.031250   \n",
      "2065  0.009511  0.002717  0.000679    ...     0.001698  0.000000  0.003736   \n",
      "2066  0.000340  0.003057  0.001359    ...     0.001019  0.000000  0.010530   \n",
      "2067  0.002038  0.005095  0.003397    ...     0.006793  0.000000  0.004755   \n",
      "2068  0.000326  0.004232  0.012370    ...     0.001302  0.000000  0.000000   \n",
      "2069  0.001042  0.000000  0.000521    ...     0.001563  0.000521  0.001042   \n",
      "2070  0.001359  0.001698  0.000679    ...     0.000000  0.000679  0.003736   \n",
      "2071  0.000000  0.005095  0.007473    ...     0.002038  0.000000  0.001698   \n",
      "2072  0.001420  0.000710  0.002131    ...     0.002486  0.000355  0.011009   \n",
      "2073  0.000000  0.006454  0.004416    ...     0.003397  0.000340  0.004416   \n",
      "2074  0.005774  0.000679  0.001019    ...     0.002038  0.001698  0.010870   \n",
      "2075  0.000679  0.002038  0.003057    ...     0.005435  0.000000  0.000000   \n",
      "2076  0.001488  0.000744  0.005208    ...     0.002976  0.000000  0.000000   \n",
      "2077  0.002378  0.003057  0.003397    ...     0.002717  0.001019  0.004755   \n",
      "2078  0.001698  0.003397  0.001359    ...     0.001359  0.001359  0.000340   \n",
      "2079  0.000000  0.002378  0.009851    ...     0.003397  0.000000  0.000000   \n",
      "2080  0.000744  0.004092  0.004464    ...     0.001860  0.000372  0.001488   \n",
      "2081  0.000679  0.001359  0.004416    ...     0.003736  0.000679  0.006114   \n",
      "2082  0.000372  0.004464  0.001116    ...     0.000744  0.000372  0.001116   \n",
      "2083  0.001698  0.000679  0.001698    ...     0.002378  0.000000  0.004755   \n",
      "2084  0.002038  0.001019  0.004416    ...     0.000679  0.000340  0.003736   \n",
      "2085  0.002232  0.001116  0.001116    ...     0.000744  0.001488  0.001488   \n",
      "2086  0.000000  0.004416  0.007133    ...     0.002378  0.000000  0.000340   \n",
      "2087  0.000340  0.003397  0.003736    ...     0.001698  0.000000  0.000340   \n",
      "2088  0.001420  0.001420  0.000710    ...     0.002841  0.000000  0.009943   \n",
      "2089  0.000372  0.001116  0.002232    ...     0.001860  0.001860  0.000000   \n",
      "2090  0.002038  0.005774  0.003397    ...     0.001359  0.000000  0.006114   \n",
      "2091  0.002232  0.001488  0.002976    ...     0.002604  0.000000  0.001488   \n",
      "2092  0.002038  0.002038  0.001698    ...     0.001698  0.000000  0.004076   \n",
      "\n",
      "        dim494    dim495    dim496    dim497    dim498    dim499    dim500  \n",
      "0     0.001116  0.004185  0.000837  0.006975  0.001953  0.001674  0.000558  \n",
      "1     0.001172  0.007422  0.004297  0.001563  0.000000  0.003125  0.004687  \n",
      "2     0.000521  0.002083  0.000000  0.000000  0.000521  0.003646  0.000000  \n",
      "3     0.000744  0.001488  0.000744  0.000372  0.001860  0.000000  0.001860  \n",
      "4     0.001359  0.001019  0.003736  0.008152  0.003736  0.000679  0.001698  \n",
      "5     0.000000  0.000000  0.000000  0.000000  0.001116  0.000372  0.000372  \n",
      "6     0.001359  0.001698  0.000679  0.006454  0.002378  0.002378  0.001019  \n",
      "7     0.000000  0.000000  0.000837  0.000000  0.000279  0.000279  0.003627  \n",
      "8     0.001359  0.002378  0.002378  0.003736  0.002038  0.003057  0.002378  \n",
      "9     0.002378  0.004755  0.002378  0.000679  0.003057  0.001698  0.003057  \n",
      "10    0.000340  0.005435  0.002378  0.000340  0.002717  0.005774  0.005095  \n",
      "11    0.002126  0.005952  0.004677  0.000000  0.004252  0.005527  0.006378  \n",
      "12    0.000000  0.001764  0.002268  0.000252  0.001512  0.002268  0.005292  \n",
      "13    0.001019  0.003397  0.001019  0.002038  0.000679  0.001698  0.004755  \n",
      "14    0.002038  0.001019  0.001698  0.005095  0.001359  0.000340  0.000340  \n",
      "15    0.001698  0.003057  0.003057  0.002717  0.000340  0.002038  0.009171  \n",
      "16    0.002717  0.005774  0.002038  0.007133  0.000000  0.004076  0.000340  \n",
      "17    0.002717  0.002717  0.002038  0.002717  0.002717  0.001359  0.002038  \n",
      "18    0.001019  0.001359  0.005774  0.001359  0.001359  0.002717  0.001359  \n",
      "19    0.003057  0.003736  0.003057  0.002038  0.002717  0.001698  0.003057  \n",
      "20    0.001116  0.002604  0.000000  0.009301  0.003720  0.002604  0.000372  \n",
      "21    0.000355  0.001065  0.003551  0.001420  0.001065  0.002131  0.003906  \n",
      "22    0.000679  0.005774  0.000679  0.008492  0.002038  0.000679  0.004416  \n",
      "23    0.002038  0.007812  0.000000  0.001019  0.001359  0.002717  0.007812  \n",
      "24    0.001359  0.007812  0.003397  0.001698  0.002378  0.001698  0.003736  \n",
      "25    0.001359  0.004416  0.002717  0.002378  0.002378  0.000000  0.001698  \n",
      "26    0.002717  0.006454  0.002717  0.001019  0.000340  0.000679  0.001698  \n",
      "27    0.000411  0.004934  0.000000  0.015214  0.001645  0.000822  0.000411  \n",
      "28    0.000000  0.004076  0.001359  0.003397  0.000000  0.000679  0.001359  \n",
      "29    0.003348  0.004092  0.004836  0.000744  0.003720  0.003348  0.003348  \n",
      "...        ...       ...       ...       ...       ...       ...       ...  \n",
      "2063  0.003720  0.002604  0.005952  0.002604  0.000744  0.000744  0.002604  \n",
      "2064  0.003906  0.005078  0.006641  0.001563  0.001172  0.000781  0.007031  \n",
      "2065  0.002038  0.002038  0.002717  0.003397  0.001698  0.001019  0.003736  \n",
      "2066  0.001019  0.004416  0.000679  0.001359  0.002038  0.001019  0.001359  \n",
      "2067  0.003057  0.003057  0.003397  0.000340  0.003736  0.006454  0.013587  \n",
      "2068  0.000651  0.000977  0.000000  0.001302  0.000326  0.004883  0.000977  \n",
      "2069  0.000000  0.000521  0.001563  0.000000  0.001563  0.004167  0.003125  \n",
      "2070  0.002717  0.001019  0.001698  0.007812  0.001019  0.000340  0.001019  \n",
      "2071  0.001698  0.001359  0.000340  0.002378  0.000679  0.005435  0.001359  \n",
      "2072  0.002131  0.007457  0.001065  0.002486  0.001420  0.003551  0.001065  \n",
      "2073  0.003397  0.002378  0.000679  0.002038  0.001698  0.002378  0.001359  \n",
      "2074  0.002378  0.004076  0.002378  0.002378  0.002038  0.002038  0.003736  \n",
      "2075  0.001698  0.003736  0.001019  0.001698  0.000679  0.003057  0.000340  \n",
      "2076  0.004836  0.004092  0.000000  0.002976  0.001488  0.007068  0.001860  \n",
      "2077  0.000679  0.002038  0.000340  0.005435  0.003057  0.001698  0.001359  \n",
      "2078  0.001698  0.004755  0.003736  0.004076  0.003397  0.000679  0.003397  \n",
      "2079  0.000340  0.000679  0.000679  0.000679  0.001359  0.006454  0.000679  \n",
      "2080  0.001488  0.000372  0.000000  0.011161  0.001116  0.002604  0.001860  \n",
      "2081  0.001698  0.007133  0.001359  0.002378  0.003057  0.000340  0.001698  \n",
      "2082  0.001860  0.004092  0.001116  0.007068  0.002604  0.002232  0.002232  \n",
      "2083  0.000679  0.007812  0.001359  0.008492  0.000340  0.001359  0.000679  \n",
      "2084  0.000679  0.003057  0.001359  0.004755  0.002038  0.001698  0.005774  \n",
      "2085  0.003720  0.005208  0.001860  0.006696  0.002976  0.001116  0.003348  \n",
      "2086  0.000679  0.001698  0.001359  0.000340  0.002038  0.004416  0.003057  \n",
      "2087  0.002038  0.001698  0.003736  0.002717  0.004416  0.003397  0.002378  \n",
      "2088  0.002131  0.004261  0.001065  0.002486  0.000355  0.001776  0.001776  \n",
      "2089  0.000372  0.001116  0.001860  0.001116  0.008185  0.002604  0.004092  \n",
      "2090  0.002378  0.007133  0.007473  0.007133  0.000679  0.003736  0.002038  \n",
      "2091  0.004464  0.004092  0.002976  0.001488  0.004464  0.003348  0.005580  \n",
      "2092  0.003057  0.002038  0.004076  0.006454  0.001359  0.000679  0.006114  \n",
      "\n",
      "[2093 rows x 500 columns]\n"
     ]
    }
   ],
   "source": [
    "# Note: I'm a devleoper, I quite like building things.\n",
    "# I'm only just starting to pick up python - I hope you don't mind me experimenting.\n",
    "# Probably more work than required for this question, but I'm having fun!\n",
    "# Please let me know in the feedback if less comments are required - I'm use to providing doc comments for functions.\n",
    "\n",
    "# get features from a pandas DF between a start and end index\n",
    "def getInputFeatures(df, init_index, fin_index):\n",
    "    return df[df.columns[init_index:fin_index]]\n",
    "\n",
    "# obtain attribute names from a pandas DF between a start and end index\n",
    "def getDfCols(df, init_index, fin_index):\n",
    "    return df.columns[init_index:fin_index]\n",
    "\n",
    "# default format function that chages nothing\n",
    "def identity(data):\n",
    "    return data\n",
    "\n",
    "# removes a prefix from a string\n",
    "# data: string to be processed\n",
    "# prefix: check for this substring at the beginning of the string\n",
    "# variant of: https://stackoverflow.com/questions/16891340/remove-a-prefix-from-a-string\n",
    "def strip_is_prefix(data):\n",
    "    return data[len('is_'):] if data.startswith('is_') else data\n",
    "\n",
    "# print attributes from a pandas data structure\n",
    "# print_index (bool): outputs an index if ture\n",
    "# format_function (callback): transform each attribute\n",
    "def printCols(data, print_index=False, format_function=identity):\n",
    "    for idx, element in enumerate(data):\n",
    "        print('{} : {}'.format(idx, format_function(element)) if print_index else format_function(element))\n",
    "\n",
    "# generate a list of attribute names from a pandas data structure\n",
    "def getColsList(data, format_function=identity):\n",
    "    return_list = []\n",
    "    for idx, element in enumerate(data):\n",
    "        return_list.append(format_function(element))\n",
    "    return return_list\n",
    "        \n",
    "# START OF NON-FUNCTION / LIBRARY CODE\n",
    "\n",
    "print_additional_stuff = False\n",
    "\n",
    "# uncomment this to get the target label names\n",
    "#init_label_index = 501\n",
    "#final_label_index = train_A.columns.size\n",
    "\n",
    "# adjustable parameters for selecting different column names\n",
    "init_label_index = 1\n",
    "final_label_index = 501\n",
    "\n",
    "df_attribute_names = getDfCols(train_A, init_label_index, final_label_index)\n",
    "\n",
    "# print all attributes\n",
    "\n",
    "if print_additional_stuff:\n",
    "    printCols(df_attribute_names)\n",
    "\n",
    "# print attributes using custom settings\n",
    "\n",
    "if print_additional_stuff:\n",
    "    printCols(df_attribute_names, print_index=True, format_function=strip_is_prefix)\n",
    "\n",
    "# obtain a list of columns\n",
    "\n",
    "attribute_names = getColsList(df_attribute_names)\n",
    "\n",
    "# input features for training our classifers\n",
    "\n",
    "input_features = getInputFeatures(train_A, 1, 501)\n",
    "\n",
    "# check to ensure everything is dandy\n",
    "\n",
    "print(attribute_names)\n",
    "print(input_features)\n"
   ]
  },
  {
   "cell_type": "markdown",
   "metadata": {},
   "source": [
    "### ========== Question 1.4 --- [1 mark] ==========\n",
    "By using the list from Question 1.3 now create 4 numpy arrays `X_tr`, `X_val`, `y_tr` and `y_val` in which to store the training features, validation features, training targets, and validation targets, respectively. Your target vectors should correspond to the `is_person` attribute of the training and validation sets. Display the dimensionalities (i.e shapes) of the 4 arrays. \n",
    "\n",
    "Check this carefully - you will be penalised in following questions if the data is not correct!"
   ]
  },
  {
   "cell_type": "code",
   "execution_count": 89,
   "metadata": {},
   "outputs": [
    {
     "name": "stdout",
     "output_type": "stream",
     "text": [
      "(2093, 500)\n",
      "(1113, 500)\n",
      "(2093,)\n",
      "(1113,)\n"
     ]
    }
   ],
   "source": [
    "X_tr = train_A[attribute_names].as_matrix()\n",
    "X_val = valid_A[attribute_names].as_matrix()\n",
    "\n",
    "print(np.shape(X_tr))\n",
    "print(np.shape(X_val))\n",
    "\n",
    "y_tr = train_A['is_person'].as_matrix()\n",
    "y_val = valid_A['is_person'].as_matrix()\n",
    "\n",
    "print(np.shape(y_tr))\n",
    "print(np.shape(y_val))"
   ]
  },
  {
   "cell_type": "markdown",
   "metadata": {},
   "source": [
    "### ========== Question 1.5 --- [2 marks] ==========\n",
    "\n",
    "Create a [countplots](https://seaborn.github.io/generated/seaborn.countplot.html?highlight=countplot#seaborn.countplot) for the training and validation targets. Create a single figure, and put the two plots inside the single figure. Label axes appropriately and add a title to your plot. Use descriptive `xticklabels` instead of the default numeric ones."
   ]
  },
  {
   "cell_type": "code",
   "execution_count": 90,
   "metadata": {},
   "outputs": [
    {
     "name": "stdout",
     "output_type": "stream",
     "text": [
      "# classified people (X training):  940\n",
      "# classified people (X validation):  527\n",
      "# data points that were not classified as people (X training):  1153\n",
      "# data points that were not classified as people (X validation):  586\n"
     ]
    },
    {
     "data": {
      "image/png": "[encoded data removed]",
      "text/plain": [
       "<matplotlib.figure.Figure at 0x1a22049850>"
      ]
     },
     "metadata": {},
     "output_type": "display_data"
    }
   ],
   "source": [
    "# The following functions / procedures are defined for my own sanity\n",
    "def count_df_classes_set_to(value, df, p_class='is_person'):\n",
    "    return len(df[(df[p_class] == value)])\n",
    "\n",
    "# check the number of classified people within X_tr and X_val\n",
    "print(\"# classified people (X training): \", count_df_classes_set_to(1, train_A))\n",
    "print(\"# classified people (X validation): \", count_df_classes_set_to(1, valid_A))\n",
    "print(\"# data points that were not classified as people (X training): \", count_df_classes_set_to(0, train_A))\n",
    "print(\"# data points that were not classified as people (X validation): \", count_df_classes_set_to(0, valid_A))\n",
    "\n",
    "m_fig, (ax1, ax2) = plt.subplots(1,2, figsize=(10,5))\n",
    "sns.countplot(x=\"is_person\", data=train_A, ax=ax1)\n",
    "ax1.set_title('Classification of Data Points (Training Set)')\n",
    "ax1.set_xlabel('Classification (Person/Non-Person)')\n",
    "ax1.set_ylabel('Count')\n",
    "ax1.set(xticklabels=['Non-Person', 'Person'])\n",
    "sns.countplot(x=\"is_person\", data=valid_A, ax=ax2)\n",
    "ax2.set_title('Classification of Data Points (Validation Set)')\n",
    "ax2.set_xlabel('Classification (Person/Non-Person)')\n",
    "ax2.set_ylabel('Count')\n",
    "ax2.set(xticklabels=['Non-Person', 'Person'])\n",
    "m_fig.suptitle('Classification Distribution (Persons/Non-Persons) across Training and Validation sets')\n",
    "plt.show()"
   ]
  },
  {
   "cell_type": "markdown",
   "metadata": {},
   "source": [
    "### ========== Question 1.6 --- [1 mark] ==========\n",
    "We want to make a baseline classification accuracy to beat. Pick a baseline \"dummy\" classifier, describe in a sentence why you chose it, and report the accuracy it achieves on the validation set?"
   ]
  },
  {
   "cell_type": "markdown",
   "metadata": {},
   "source": [
    "A dummer clasifier makes predictions based on simple rules, (see SKLearn documentation: http://scikit-learn.org/stable/modules/generated/sklearn.dummy.DummyClassifier.html) - this means your classifer would have to be terrible in order to underperform compared to a dummy classifier."
   ]
  },
  {
   "cell_type": "code",
   "execution_count": 91,
   "metadata": {},
   "outputs": [
    {
     "name": "stdout",
     "output_type": "stream",
     "text": [
      "dummy performance on training set: 0.51841868823\n"
     ]
    }
   ],
   "source": [
    "dummy = DummyClassifier()\n",
    "dummy.fit(X_tr, y_tr)\n",
    "print(\"dummy performance on training set:\", dummy.score(X_val, y_val))"
   ]
  },
  {
   "cell_type": "markdown",
   "metadata": {},
   "source": [
    "### ========== Question 1.7 --- [3 marks] ==========\n",
    "Train a [`LogisticRegression`](http://scikit-learn.org/0.17/modules/generated/sklearn.linear_model.LogisticRegression.html) classifier using default settings, except for the `solver` parameter which you should set to `lbfgs`. Report the classification accuracy score on the training and validation sets and compare with the baseline. Comment on the results with 1-2 sentences. You may include any additional plot(s) if you wish to justify your explanation."
   ]
  },
  {
   "cell_type": "code",
   "execution_count": 92,
   "metadata": {},
   "outputs": [
    {
     "name": "stdout",
     "output_type": "stream",
     "text": [
      "Training Accuracy:  0.763497372193\n",
      "Validation Accuracy:  0.678346810422\n"
     ]
    }
   ],
   "source": [
    "model = linear_model.LogisticRegression(C=1e5, solver=\"lbfgs\")\n",
    "model.fit(X_tr, y_tr)\n",
    "training_accuracy = model.score(X_tr, y_tr)\n",
    "validation_accuracy = model.score(X_val, y_val)\n",
    "print(\"Training Accuracy: \", training_accuracy)\n",
    "print(\"Validation Accuracy: \", validation_accuracy)"
   ]
  },
  {
   "cell_type": "markdown",
   "metadata": {},
   "source": [
    "The performance is slightly better than the dummy classifer that acts as a baseline. The training and validation accuracy is not 'state-of-the-art' or as good as other potential models because trying to fit a linear hyperplane through 500 dimensions in order to seperate out documents to clasify them as 'is_person' or not 'is_person' is not possible (with real world data) because there are will various datapoints that sit on either side of the decision boundary in a lot of instances."
   ]
  },
  {
   "cell_type": "markdown",
   "metadata": {},
   "source": [
    "### ========== Question 1.8 --- [1 mark] ==========\n",
    "Display the means and standard deviations of the first 5 features in the training set. *Hint: you want to compute the means and standard deviations for each column in your arrays. Make sure you make appropriate use of the `axis` parameter.*"
   ]
  },
  {
   "cell_type": "code",
   "execution_count": 93,
   "metadata": {},
   "outputs": [
    {
     "name": "stdout",
     "output_type": "stream",
     "text": [
      "Mean result for feature 0: 0.005780\n",
      "Mean result for feature 1: 0.003854\n",
      "Mean result for feature 2: 0.003854\n",
      "Mean result for feature 3: 0.007707\n",
      "Mean result for feature 4: 0.003854\n",
      "\n",
      "STD result for feature 0: 0.061861\n",
      "STD result for feature 1: 0.043801\n",
      "STD result for feature 2: 0.043827\n",
      "STD result for feature 3: 0.075683\n",
      "STD result for feature 4: 0.043821\n"
     ]
    }
   ],
   "source": [
    "mean_result = np.mean(train_A, axis=1)\n",
    "std_result = np.std(train_A, axis=1)\n",
    "\n",
    "for index in xrange(5):\n",
    "    print(\"Mean result for feature {:d}: {:f}\".format(index, mean_result[index]))\n",
    "print()\n",
    "for index in xrange(5):\n",
    "    print(\"STD result for feature {:d}: {:f}\".format(index, std_result[index]))"
   ]
  },
  {
   "cell_type": "markdown",
   "metadata": {},
   "source": [
    "### ========== Question 1.9 --- [3 marks] ==========\n",
    "Feature standardisation is a pre-processing technique used to transform data so that they have zero mean and unit standard deviation. For many algorithms, this is a very important step for training models (both regression and classification). Read about [feature standardisation](http://scikit-learn.org/0.17/modules/preprocessing.html) and make sure you understand what kind of transformation this method applies to the data.\n",
    "\n",
    "`Scikit-learn` offers a [class](http://scikit-learn.org/0.17/modules/generated/sklearn.preprocessing.StandardScaler.html) for feature standardisation. Instansiate a StandardScaler object and fit it using the **training features**. Use this fitted object to transform both your training and validation features to have a standard scale. \n",
    "\n",
    "Once your training and validation input data have been transformed, display the means and standard deviations of the first 5 attributes for **both** the training and validation sets. Are the results as you expected? Explain your answer in 2-3 sentences. Why didn't we use the validation set to standardise the data?\n",
    "\n",
    "**IMPORTANT: You should use the transformed data for the rest of this part.**"
   ]
  },
  {
   "cell_type": "code",
   "execution_count": 94,
   "metadata": {},
   "outputs": [
    {
     "name": "stdout",
     "output_type": "stream",
     "text": [
      "MEAN result for TRAINING feature 0: 0.043188\n",
      "MEAN result for TRAINING feature 1: 0.094904\n",
      "MEAN result for TRAINING feature 2: 0.044257\n",
      "MEAN result for TRAINING feature 3: 0.042884\n",
      "MEAN result for TRAINING feature 4: -0.014494\n",
      "\n",
      "MEAN result for VALIDATION feature 0: 0.102046\n",
      "MEAN result for VALIDATION feature 1: -0.005270\n",
      "MEAN result for VALIDATION feature 2: 0.001594\n",
      "MEAN result for VALIDATION feature 3: -0.022017\n",
      "MEAN result for VALIDATION feature 4: 0.094335\n",
      "\n",
      "STD result for TRAINING feature 0: 0.781257\n",
      "STD result for TRAINING feature 1: 0.908993\n",
      "STD result for TRAINING feature 2: 1.035065\n",
      "STD result for TRAINING feature 3: 0.900654\n",
      "STD result for TRAINING feature 4: 0.858093\n",
      "\n",
      "STD result for VALIDATION feature 0: 0.835422\n",
      "STD result for VALIDATION feature 1: 0.809539\n",
      "STD result for VALIDATION feature 2: 0.853661\n",
      "STD result for VALIDATION feature 3: 0.990606\n",
      "STD result for VALIDATION feature 4: 0.988286\n"
     ]
    }
   ],
   "source": [
    "# I really hate the fact that iPython notebook\n",
    "# and general data scientists use really short and non-well described variables names\n",
    "# It took me bloody ages to figure out why some of this stuff wasn't working, wrong variable names..\n",
    "# descriptive variables names SOLVE THESE PROBLEMS.\n",
    "\n",
    "def reportSetData(data, d_type=\"MEAN\", p_set=\"TRAINING\", length=5):\n",
    "    for index in xrange(length):\n",
    "        print(\"{:s} result for {:s} feature {:d}: {:f}\".format(d_type, p_set, index, data[index]))\n",
    "\n",
    "def generateMeanData(data):\n",
    "    return np.mean(data, axis=1)\n",
    "\n",
    "def generateStdData(data):\n",
    "    return np.std(data, axis=1)\n",
    "\n",
    "def breakline():\n",
    "    print()\n",
    "\n",
    "scaler = StandardScaler()\n",
    "scaler.fit(input_features)\n",
    "\n",
    "transformed_training_features = scaler.transform(X_tr)\n",
    "transformed_validation_features = scaler.transform(X_val)\n",
    "\n",
    "mean_training_data_result = generateMeanData(transformed_training_features)\n",
    "mean_validation_data_result = generateMeanData(transformed_validation_features)\n",
    "std_training_data_result = generateStdData(transformed_training_features)\n",
    "std_validation_data_result = generateStdData(transformed_validation_features)\n",
    "\n",
    "reportSetData(mean_training_data_result)\n",
    "breakline()\n",
    "reportSetData(mean_validation_data_result, d_type=\"MEAN\", p_set=\"VALIDATION\", length=5)\n",
    "breakline()\n",
    "reportSetData(std_training_data_result, d_type=\"STD\", p_set=\"TRAINING\", length=5)\n",
    "breakline()\n",
    "reportSetData(std_validation_data_result, d_type=\"STD\", p_set=\"VALIDATION\", length=5)"
   ]
  },
  {
   "cell_type": "markdown",
   "metadata": {},
   "source": [
    "Yes, these values are what you would expect after having applied feature standardization. This is because the STD results are closer to 1 (unit variance) and the mean values for the features are more scattered, insofar as there are some negative values which is naturally going to average out the result closer towards a zero mean."
   ]
  },
  {
   "cell_type": "markdown",
   "metadata": {},
   "source": [
    "### ========== Question 1.10 --- [3 marks] ==========\n",
    "By using the transformed input data, train a new `LogisticRegression` classifier. Again, set the `solver` parameter to `lbfgs` and use default settings for the other parameters. Report the classification accuracy on both the training and validation sets.\n",
    "\n",
    "Comment on how your model compares to the baseline classifier from Question 1.6? You may use additional plot(s) to support your explanation."
   ]
  },
  {
   "cell_type": "code",
   "execution_count": 95,
   "metadata": {},
   "outputs": [
    {
     "name": "stdout",
     "output_type": "stream",
     "text": [
      "Training Accuracy:  0.75298614429\n",
      "Validation Accuracy:  0.680143755615\n"
     ]
    }
   ],
   "source": [
    "model_again = linear_model.LogisticRegression(C=1e5, solver=\"lbfgs\")\n",
    "model.fit(X_tr, y_tr)\n",
    "training_accuracy = model.score(transformed_training_features, y_tr)\n",
    "validation_accuracy = model.score(transformed_validation_features, y_val)\n",
    "print(\"Training Accuracy: \", training_accuracy)\n",
    "print(\"Validation Accuracy: \", validation_accuracy)"
   ]
  },
  {
   "cell_type": "markdown",
   "metadata": {},
   "source": [
    "The new LogisticRegression classifer using the transformed data outperforms the dummy classifer, as expected. \n",
    "\n",
    "One interesting charctistic to note with regards to the Logistic Regression classifer trained on the transformed data when compared with the non-transformed data is that is appears to generalise better, but it doesn't perform as well on the training data (which you could consider to be a good thing). This is because the normalisation / transformation is shifting the data in such a sense that it's not specifically fitting the training data, it's accounting for more variability in a sense by applying a zero mean and a unit variance."
   ]
  },
  {
   "cell_type": "markdown",
   "metadata": {},
   "source": [
    "### ========== Question 1.11 --- [1 mark] ==========\n",
    "So far we have used default settings for training the logistic regression classifier. Now, we want to use [K-fold cross-validation](http://scikit-learn.org/stable/modules/generated/sklearn.model_selection.KFold.html) to optimise the regularisation parameter `C`. The regularisation parameter controls the degree to which we wish to penalise large magnitudes in the weight vector. This can help us prevent overfitting but, if set too high, could lead us to underfit too.\n",
    "\n",
    "Create a 3-fold cross-validation object. Set the `shuffle` parameter to `True` and the `random_state` to `0`. By using the cross-validation iterator, display the number of test samples for each fold."
   ]
  },
  {
   "cell_type": "code",
   "execution_count": 96,
   "metadata": {},
   "outputs": [
    {
     "name": "stdout",
     "output_type": "stream",
     "text": [
      "Number of test samples for fold 0: 371\n",
      "Number of test samples for fold 1: 371\n",
      "Number of test samples for fold 2: 371\n"
     ]
    }
   ],
   "source": [
    "# Delcaring KFold cross validation\n",
    "folds = KFold(n_splits=3, shuffle=True, random_state=0)\n",
    "\n",
    "for idx, (train_val, test_val) in enumerate(folds.split(valid_A)):\n",
    "    print(\"Number of test samples for fold {:d}: {:d}\".format(idx, len(test_val)))"
   ]
  },
  {
   "cell_type": "markdown",
   "metadata": {},
   "source": [
    "### ========== Question 1.12 --- [2 marks] ========== \n",
    "Using the cross-validation iterator from the previous question, perform a search for the best value for `C`. \n",
    "\n",
    "We are going to loop over each CV fold, and each value of `C`. The values of `C` to search should be 20 equally-spaced values **in log space** ranging from `1e-5` to `1e5` *(hint: look at the `logspace()` function in numpy)*. \n",
    "\n",
    "Create a 2-dimensional array and, for each cross-validation fold and parameter setting pair, compute and store the classification accuracy score e.g. store the score of fold 0 with parameter setting 1 at score_array[0,1]. As previously, set the `solver` parameter to `lbfgs` and use default settings for the other parameters (except for `C` obviously!).\n",
    "\n",
    "*(hint: you could use two loops in your code; one iterating over CV folds and another one iterating over the values for `C`)*. "
   ]
  },
  {
   "cell_type": "code",
   "execution_count": 97,
   "metadata": {
    "scrolled": true
   },
   "outputs": [
    {
     "data": {
      "text/html": [
       "<div>\n",
       "<style>\n",
       "    .dataframe thead tr:only-child th {\n",
       "        text-align: right;\n",
       "    }\n",
       "\n",
       "    .dataframe thead th {\n",
       "        text-align: left;\n",
       "    }\n",
       "\n",
       "    .dataframe tbody tr th {\n",
       "        vertical-align: top;\n",
       "    }\n",
       "</style>\n",
       "<table border=\"1\" class=\"dataframe\">\n",
       "  <thead>\n",
       "    <tr style=\"text-align: right;\">\n",
       "      <th></th>\n",
       "      <th>0</th>\n",
       "      <th>1</th>\n",
       "      <th>2</th>\n",
       "      <th>3</th>\n",
       "      <th>4</th>\n",
       "      <th>5</th>\n",
       "      <th>6</th>\n",
       "      <th>7</th>\n",
       "      <th>8</th>\n",
       "      <th>9</th>\n",
       "      <th>10</th>\n",
       "      <th>11</th>\n",
       "      <th>12</th>\n",
       "      <th>13</th>\n",
       "      <th>14</th>\n",
       "      <th>15</th>\n",
       "      <th>16</th>\n",
       "      <th>17</th>\n",
       "      <th>18</th>\n",
       "      <th>19</th>\n",
       "    </tr>\n",
       "  </thead>\n",
       "  <tbody>\n",
       "    <tr>\n",
       "      <th>0</th>\n",
       "      <td>0.687332</td>\n",
       "      <td>0.660377</td>\n",
       "      <td>0.660377</td>\n",
       "      <td>0.654987</td>\n",
       "      <td>0.638814</td>\n",
       "      <td>0.611860</td>\n",
       "      <td>0.606469</td>\n",
       "      <td>0.533693</td>\n",
       "      <td>0.474394</td>\n",
       "      <td>0.447439</td>\n",
       "      <td>0.436658</td>\n",
       "      <td>0.436658</td>\n",
       "      <td>0.436658</td>\n",
       "      <td>0.436658</td>\n",
       "      <td>0.436658</td>\n",
       "      <td>0.436658</td>\n",
       "      <td>0.436658</td>\n",
       "      <td>0.436658</td>\n",
       "      <td>0.436658</td>\n",
       "      <td>0.436658</td>\n",
       "    </tr>\n",
       "    <tr>\n",
       "      <th>1</th>\n",
       "      <td>0.663073</td>\n",
       "      <td>0.652291</td>\n",
       "      <td>0.657682</td>\n",
       "      <td>0.679245</td>\n",
       "      <td>0.660377</td>\n",
       "      <td>0.649596</td>\n",
       "      <td>0.654987</td>\n",
       "      <td>0.592992</td>\n",
       "      <td>0.530997</td>\n",
       "      <td>0.533693</td>\n",
       "      <td>0.528302</td>\n",
       "      <td>0.528302</td>\n",
       "      <td>0.528302</td>\n",
       "      <td>0.528302</td>\n",
       "      <td>0.528302</td>\n",
       "      <td>0.528302</td>\n",
       "      <td>0.528302</td>\n",
       "      <td>0.528302</td>\n",
       "      <td>0.528302</td>\n",
       "      <td>0.528302</td>\n",
       "    </tr>\n",
       "    <tr>\n",
       "      <th>2</th>\n",
       "      <td>0.657682</td>\n",
       "      <td>0.657682</td>\n",
       "      <td>0.652291</td>\n",
       "      <td>0.644205</td>\n",
       "      <td>0.617251</td>\n",
       "      <td>0.587601</td>\n",
       "      <td>0.576819</td>\n",
       "      <td>0.530997</td>\n",
       "      <td>0.490566</td>\n",
       "      <td>0.479784</td>\n",
       "      <td>0.460916</td>\n",
       "      <td>0.455526</td>\n",
       "      <td>0.455526</td>\n",
       "      <td>0.455526</td>\n",
       "      <td>0.455526</td>\n",
       "      <td>0.455526</td>\n",
       "      <td>0.455526</td>\n",
       "      <td>0.455526</td>\n",
       "      <td>0.455526</td>\n",
       "      <td>0.455526</td>\n",
       "    </tr>\n",
       "  </tbody>\n",
       "</table>\n",
       "</div>"
      ],
      "text/plain": [
       "         0         1         2         3         4         5         6   \\\n",
       "0  0.687332  0.660377  0.660377  0.654987  0.638814  0.611860  0.606469   \n",
       "1  0.663073  0.652291  0.657682  0.679245  0.660377  0.649596  0.654987   \n",
       "2  0.657682  0.657682  0.652291  0.644205  0.617251  0.587601  0.576819   \n",
       "\n",
       "         7         8         9         10        11        12        13  \\\n",
       "0  0.533693  0.474394  0.447439  0.436658  0.436658  0.436658  0.436658   \n",
       "1  0.592992  0.530997  0.533693  0.528302  0.528302  0.528302  0.528302   \n",
       "2  0.530997  0.490566  0.479784  0.460916  0.455526  0.455526  0.455526   \n",
       "\n",
       "         14        15        16        17        18        19  \n",
       "0  0.436658  0.436658  0.436658  0.436658  0.436658  0.436658  \n",
       "1  0.528302  0.528302  0.528302  0.528302  0.528302  0.528302  \n",
       "2  0.455526  0.455526  0.455526  0.455526  0.455526  0.455526  "
      ]
     },
     "execution_count": 97,
     "metadata": {},
     "output_type": "execute_result"
    }
   ],
   "source": [
    "from pandas import DataFrame\n",
    "\n",
    "# a convenient way to obtain a multi-dimensional array\n",
    "def init_multi_dim_arr(rows, cols):\n",
    "    return [[None for x in range(cols)] for y in range(rows)]\n",
    "\n",
    "# 1e-5 to 1e5\n",
    "c_vals = np.logspace(5, -5, 20)\n",
    "c_variable_model = linear_model.LogisticRegression(solver=\"lbfgs\")\n",
    "\n",
    "score_array = init_multi_dim_arr(3, 20)\n",
    "\n",
    "# Note to self: KFold can be quite confusing, it's actually returning the indicies not the data itself\n",
    "\n",
    "# re-evaluate the model based on variables of C\n",
    "for fold_idx, (train_ind, test_ind) in enumerate(folds.split(valid_A)):\n",
    "    for c_idx, value in enumerate(c_vals):\n",
    "        c_variable_model.C = value\n",
    "        c_variable_model.fit(X_tr[train_ind], y_tr[train_ind])\n",
    "        score_array[fold_idx][c_idx] = c_variable_model.score(X_val[test_ind], y_val[test_ind])\n",
    "\n",
    "# present the data in a table\n",
    "DataFrame(score_array)"
   ]
  },
  {
   "cell_type": "markdown",
   "metadata": {},
   "source": [
    "### ========== Question 1.13 --- [1 mark] ========== \n",
    "#Plot the mean classification performance (across CV folds) of the logistic regression classifier against the regularisation parameter `C` by using the range from Question 1.12. Use a logarithmic scale for the x-axis and label both axes appropriately. "
   ]
  },
  {
   "cell_type": "code",
   "execution_count": 98,
   "metadata": {},
   "outputs": [
    {
     "data": {
      "image/png": "[encoded data removed]",
      "text/plain": [
       "<matplotlib.figure.Figure at 0x1a220040d0>"
      ]
     },
     "metadata": {},
     "output_type": "display_data"
    }
   ],
   "source": [
    "# Note: I feel as though this question is worth a little more than one mark..\n",
    "\n",
    "def featureMean(feature):\n",
    "    return np.mean(feature)\n",
    "    \n",
    "def createEmptyArrayOfSize(length):\n",
    "    return [None for x in range(length)]\n",
    "\n",
    "individual_fold_mean_classification_performance = createEmptyArrayOfSize(len(score_array))\n",
    "\n",
    "# assumed that we were going to plot each value of C - still may be useful later\n",
    "for idx, fold in enumerate(score_array):\n",
    "    # print(\"fold %d: %f\" % (idx, np.mean(fold)))\n",
    "    individual_fold_mean_classification_performance[idx] = np.mean(fold)\n",
    "\n",
    "fig = plt.figure(figsize=(14, 14))\n",
    "ax = fig.add_subplot(111)\n",
    "ax.set_xscale('log')\n",
    "ax.set_xticks(c_vals)\n",
    "ax.get_xaxis().set_major_formatter(matplotlib.ticker.ScalarFormatter())\n",
    "ax.grid(which='both')\n",
    "ax.set_ylabel('Classification Accuracy', size=16)\n",
    "ax.set_xlabel('C Value - log scale')\n",
    "\n",
    "mean_classification_performance = np.mean(score_array, axis=0)\n",
    "ax.plot(c_vals, mean_classification_performance)\n",
    "\n",
    "plt.show()"
   ]
  },
  {
   "cell_type": "markdown",
   "metadata": {},
   "source": [
    "### ========== Question 1.14 --- [2 marks] ==========\n",
    "Display the optimal value for the regularisation parameter `C` determined by the search results from Question 1.12. Similarly to Question 1.13, consider the mean classifiation accuracy across CV folds. By using the optimal value (i.e. the one that yields the highest average classification accuracy) train a new `LogisticRegression` classifier and report the classification accuracy on the validation set. *(Hint: Do not pick the optimal value \"by hand\", instead use an appropriate numpy function).*"
   ]
  },
  {
   "cell_type": "code",
   "execution_count": 99,
   "metadata": {},
   "outputs": [
    {
     "name": "stdout",
     "output_type": "stream",
     "text": [
      "Classification Accuracy on validation set using 29763.514416 as C hyperparameter: 0.674753\n"
     ]
    }
   ],
   "source": [
    "# I felt as though this question was easier than the previous question and it's worth more marks.\n",
    "opt_c = c_vals[np.argmax(np.mean(score_array, axis=1))]\n",
    "new_logistic_reg_classifier = linear_model.LogisticRegression(C=opt_c, solver=\"lbfgs\")\n",
    "new_logistic_reg_classifier.fit(X_tr, y_tr)\n",
    "new_acc = new_logistic_reg_classifier.score(X_val, y_val)\n",
    "print(\"Classification Accuracy on validation set using %f as C hyperparameter: %f\" % (opt_c,new_acc))"
   ]
  },
  {
   "cell_type": "markdown",
   "metadata": {},
   "source": [
    "### ========== Question 1.15 --- [1 mark] ========== \n",
    "Scikit-learn offers a [`LogisticRegressionCV`](http://scikit-learn.org/0.17/modules/generated/sklearn.linear_model.LogisticRegressionCV.html) module which implements Logistic Regression with builtin cross-validation to find out the optimal `C` parameter. You can specify the range for the `C` parameter, as well as the cross-validation method you want to use with the `Cs` and `cv` parameters, respectively. Use the `C` range you set up in Question 1.12 and the 3-fold cross-validation iterator from Question 1.11. Once again, train the models by using the `lbfgs` optimisation method and display the optimal value for the parameter `C`. Finally, display the classification accuracy on the validation set. Check your results are consistent with those from Question 1.14!"
   ]
  },
  {
   "cell_type": "code",
   "execution_count": 100,
   "metadata": {},
   "outputs": [
    {
     "name": "stdout",
     "output_type": "stream",
     "text": [
      "0.684636118598\n",
      "\n",
      "I don't understand how to use the KFold (rather than stratified KFold) cv param to verify my results.\n",
      "I am not yet an python genius; and the stack trace they provide doesn't help very much\n",
      "Nonetheless, we're still getting an accuracy that is pretty close to my result.\n",
      "If I could figure out how to use KFold as cv, then I believe the values would be the same.\n"
     ]
    }
   ],
   "source": [
    "lr_cv = linear_model.LogisticRegressionCV(solver=\"lbfgs\", Cs=c_vals)#, cv=KFold)\n",
    "lr_cv.fit(X_tr, y_tr)\n",
    "print(lr_cv.score(X_val, y_val))\n",
    "print()\n",
    "print(\"I don't understand how to use the KFold (rather than stratified KFold) cv param to verify my results.\")\n",
    "print(\"I am not yet an python genius; and the stack trace they provide doesn't help very much\")\n",
    "print(\"Nonetheless, we're still getting an accuracy that is pretty close to my result.\")\n",
    "print(\"If I could figure out how to use KFold as cv, then I believe the values would be the same.\")"
   ]
  },
  {
   "cell_type": "markdown",
   "metadata": {},
   "source": [
    "### ========== Question 1.16 --- [1 mark] ==========\n",
    "Now, we want to validate the importance of various features for classification. For this purpose, we will use a [`RandomForestClassifier`](http://scikit-learn.org/stable/modules/generated/sklearn.ensemble.RandomForestClassifier.html) (you might want to refer to the labs if you are unsure how we can estimate feature importances with decision tree and random forest models).\n",
    "\n",
    "Initialise a random forest classifier and fit the model by using training data only and 500 trees (i.e. `n_estimators`). Set the `RandomState` equal to 42 to ensure reproducible results. Report the accuracy score on both the training and validation sets."
   ]
  },
  {
   "cell_type": "code",
   "execution_count": 101,
   "metadata": {},
   "outputs": [
    {
     "name": "stdout",
     "output_type": "stream",
     "text": [
      "Training Score: 1.000000, Validation Score: 0.693621.\n"
     ]
    }
   ],
   "source": [
    "forest_model = RandomForestClassifier(n_estimators=500, random_state=42)\n",
    "forest_model.fit(X_tr, y_tr)\n",
    "tr_score = forest_model.score(X_tr, y_tr)\n",
    "val_score = forest_model.score(X_val, y_val)\n",
    "print(\"Training Score: %f, Validation Score: %f.\" % (tr_score, val_score))"
   ]
  },
  {
   "cell_type": "markdown",
   "metadata": {},
   "source": [
    "### ========== Question 1.17 --- [2 marks] ==========\n",
    "Comment on the results above. Do you find the discrepancy between training and validation accuracies surprising?"
   ]
  },
  {
   "cell_type": "markdown",
   "metadata": {},
   "source": [
    "I **do not** find the discrepancy between the training and validation scores surprising. Decision trees notoriously overfit datasets if they are not pruned - the scores seem to be to be apprioriate values."
   ]
  },
  {
   "cell_type": "markdown",
   "metadata": {},
   "source": [
    "### ========== Question 1.18 --- [2 marks] ==========\n",
    "By using the random forest model from the previous question order the features by descending importance and display the names of the 50 most important features."
   ]
  },
  {
   "cell_type": "code",
   "execution_count": 102,
   "metadata": {},
   "outputs": [
    {
     "name": "stdout",
     "output_type": "stream",
     "text": [
      "Import feature 0: dim20\n",
      "Import feature 1: dim50\n",
      "Import feature 2: dim359\n",
      "Import feature 3: dim3\n",
      "Import feature 4: dim478\n",
      "Import feature 5: dim75\n",
      "Import feature 6: dim282\n",
      "Import feature 7: dim460\n",
      "Import feature 8: dim342\n",
      "Import feature 9: dim397\n",
      "Import feature 10: dim347\n",
      "Import feature 11: dim73\n",
      "Import feature 12: dim484\n",
      "Import feature 13: dim355\n",
      "Import feature 14: dim329\n",
      "Import feature 15: dim216\n",
      "Import feature 16: dim262\n",
      "Import feature 17: dim221\n",
      "Import feature 18: dim133\n",
      "Import feature 19: dim499\n",
      "Import feature 20: dim273\n",
      "Import feature 21: dim253\n",
      "Import feature 22: dim205\n",
      "Import feature 23: dim422\n",
      "Import feature 24: dim346\n",
      "Import feature 25: dim16\n",
      "Import feature 26: dim325\n",
      "Import feature 27: dim89\n",
      "Import feature 28: dim91\n",
      "Import feature 29: dim328\n",
      "Import feature 30: dim213\n",
      "Import feature 31: dim321\n",
      "Import feature 32: dim288\n",
      "Import feature 33: dim53\n",
      "Import feature 34: dim439\n",
      "Import feature 35: dim426\n",
      "Import feature 36: dim72\n",
      "Import feature 37: dim34\n",
      "Import feature 38: dim76\n",
      "Import feature 39: dim311\n",
      "Import feature 40: dim314\n",
      "Import feature 41: dim95\n",
      "Import feature 42: dim287\n",
      "Import feature 43: dim482\n",
      "Import feature 44: dim298\n",
      "Import feature 45: dim47\n",
      "Import feature 46: dim441\n",
      "Import feature 47: dim200\n",
      "Import feature 48: dim343\n",
      "Import feature 49: dim293\n"
     ]
    }
   ],
   "source": [
    "important_feature_values = forest_model.feature_importances_\n",
    "imp_feature_idxs = np.argsort(important_feature_values)[::-1][0:50]\n",
    "\n",
    "for idx, feature_name in enumerate(train_A.columns[imp_feature_idxs]):\n",
    "    print(\"Import feature %d: %s\" % (idx, feature_name))"
   ]
  },
  {
   "cell_type": "markdown",
   "metadata": {},
   "source": [
    "### ========== Question 1.19 --- [3 marks] ==========\n",
    "Next, we would like to test the performance of support vector machines. Train three support vector classifiers with the following kernels: linear, radial basis function, and polynomial. Report the classification accuracy of each of the three classifiers on both the training and validation sets."
   ]
  },
  {
   "cell_type": "code",
   "execution_count": 103,
   "metadata": {},
   "outputs": [
    {
     "name": "stdout",
     "output_type": "stream",
     "text": [
      "Linear SVM classification accuracy (TRAINING): 0.650741 .. (TESTING): 0.651393\n",
      "RBF SVM classification accuracy (TRAINING): 0.550884 .. (TESTING): 0.526505\n",
      "poly SVM classification accuracy (TRAINING): 0.550884 .. (TESTING): 0.526505\n"
     ]
    }
   ],
   "source": [
    "# init models\n",
    "svm_linear = LinearSVC()\n",
    "svm_rbf = SVC(kernel='rbf')\n",
    "svm_poly = SVC(kernel='poly', degree=2)\n",
    "\n",
    "# train models\n",
    "svm_linear.fit(X_tr, y_tr)\n",
    "svm_rbf.fit(X_tr, y_tr)\n",
    "svm_poly.fit(X_tr, y_tr)\n",
    "\n",
    "linear_train_score = svm_linear.score(X_tr, y_tr)\n",
    "linear_val_score = svm_linear.score(X_val, y_val)\n",
    "rbf_train_score = svm_rbf.score(X_tr, y_tr)\n",
    "rbf_val_score = svm_rbf.score(X_val, y_val)\n",
    "poly_train_score = svm_poly.score(X_tr, y_tr)\n",
    "poly_val_score = svm_poly.score(X_val, y_val)\n",
    "\n",
    "# output classification accuracy\n",
    "print(\"Linear SVM classification accuracy (TRAINING): %f .. (TESTING): %f\" % (linear_train_score, linear_val_score))\n",
    "print(\"RBF SVM classification accuracy (TRAINING): %f .. (TESTING): %f\" % (rbf_train_score, rbf_val_score))\n",
    "print(\"poly SVM classification accuracy (TRAINING): %f .. (TESTING): %f\" % (poly_train_score, poly_val_score))"
   ]
  },
  {
   "cell_type": "markdown",
   "metadata": {},
   "source": [
    "### ========== Question 1.20 --- [3 marks] ==========\n",
    "At this point, we would like to get an idea of what kind of decision boundaries we can get with the three types of SVM kernels we introduced in the previous question. For visualisation, however, we can only make use of 2D input data. For this purpose, we select to use the 21st and 76th columns of our training features (*hint: remember that Python uses 0-based indexing*). \n",
    "\n",
    "Execute the cell below to define a useful function which we will be using to plot the decision boundaries *(it is also not a bad idea to try to understand what this functions does)*. \n",
    "\n",
    "Then train three distinct SVM classifiers by using the 2D input data mentioned above and default parameters:\n",
    "* a linear SVC\n",
    "* an RBF SVC \n",
    "* a polynomial SVC\n",
    "\n",
    "Finally, create a list containing the three classifiers you have just trained. Use this list as an input to the provided function along with the used training features and observe the outcome. You can use the additional `title` parameter to set the titles in the subplots. Comment on the shape of the boundaries and what this means for classification accuracy in 1-2 sentences.\n",
    "\n",
    "*(Acknowledgement: this Question has been heavily based on [this example](http://scikit-learn.org/0.17/auto_examples/svm/plot_iris.html) from scikit-learn's documentation.)*"
   ]
  },
  {
   "cell_type": "code",
   "execution_count": 104,
   "metadata": {
    "collapsed": true
   },
   "outputs": [],
   "source": [
    "def show_svc_decision_boundaries(clfs, X, title=None):\n",
    "    \"\"\"Plots decision boundaries for classifiers with 2D inputs.\n",
    "    \n",
    "    Parameters\n",
    "    ----------\n",
    "    clf : list\n",
    "        Classifiers for which decision boundaries will be displayed.\n",
    "    X : array\n",
    "        Input features used to train the classifiers.\n",
    "    title : list, optional\n",
    "        Titles for classifiers.\n",
    "    \n",
    "    \"\"\"\n",
    "    \n",
    "    assert X.shape[1] == 2 # Input should be 2D\n",
    "    if title is not None:\n",
    "        assert len(clfs) == len(title)\n",
    "    \n",
    "    h = .04 # step size in the mesh\n",
    "    x_min, x_max = X[:, 0].min() - 1, X[:, 0].max() + 1\n",
    "    y_min, y_max = X[:, 1].min() - 1, X[:, 1].max() + 1\n",
    "    xx, yy = np.meshgrid(np.arange(x_min, x_max, h),\n",
    "                         np.arange(y_min, y_max, h))\n",
    "    plt.figure(figsize=(15,5))\n",
    "    for i, clf in enumerate(clfs):\n",
    "        plt.subplot(1, len(clfs), i + 1)\n",
    "        plt.subplots_adjust(wspace=0.4, hspace=0.4)\n",
    "        Z = clf.predict(np.c_[xx.ravel(), yy.ravel()])\n",
    "        Z = Z.reshape(xx.shape)\n",
    "        plt.contourf(xx, yy, Z, cmap=plt.cm.Paired, alpha=0.8)\n",
    "        # Training points\n",
    "        plt.scatter(X[:, 0], X[:, 1], c=y_tr, cmap=plt.cm.Paired)\n",
    "        plt.xlabel('Feature 1')\n",
    "        plt.ylabel('Feature 2')\n",
    "        plt.xlim(xx.min(), xx.max())\n",
    "        plt.ylim(yy.min(), yy.max())\n",
    "        plt.xticks(())\n",
    "        plt.yticks(())\n",
    "        if title is not None:\n",
    "            plt.title(title[i])"
   ]
  },
  {
   "cell_type": "code",
   "execution_count": 105,
   "metadata": {},
   "outputs": [
    {
     "data": {
      "image/png": "[encoded data removed]",
      "text/plain": [
       "<matplotlib.figure.Figure at 0x10c70f290>"
      ]
     },
     "metadata": {},
     "output_type": "display_data"
    }
   ],
   "source": [
    "new_svm_linear = LinearSVC()\n",
    "new_svm_rbf = SVC(kernel='rbf')\n",
    "new_svm_poly = SVC(kernel='poly')\n",
    "\n",
    "two_d_attribute_names = getColsList(['dim20', 'dim75'])\n",
    "two_dim_training_arr = train_A[two_d_attribute_names].as_matrix()\n",
    "\n",
    "trained_classifiers = []\n",
    "trained_classifiers.append(new_svm_linear.fit(two_dim_training_arr, y_tr))\n",
    "trained_classifiers.append(new_svm_rbf.fit(two_dim_training_arr, y_tr))\n",
    "trained_classifiers.append(new_svm_poly.fit(two_dim_training_arr, y_tr))\n",
    "\n",
    "show_svc_decision_boundaries(trained_classifiers, two_dim_training_arr, ['Linear SVM', 'RBF SVM', 'Poly SVM'])"
   ]
  },
  {
   "cell_type": "markdown",
   "metadata": {},
   "source": [
    "The data is so close together (clustered) that it doesn't appear as though the SVM is really able to produce a reliable decision boundary in any of the cases."
   ]
  },
  {
   "cell_type": "markdown",
   "metadata": {},
   "source": [
    "### ========== Question 1.21 --- [5 marks] ==========\n",
    "So far we have used default parameters for training the SVM classifiers. Now we want to tune the parameters by using cross-validation. \n",
    "\n",
    "By using the `K-fold` iterator from Question 1.11 and training data only, estimate the classification accuracy of an SVM classifier with RBF kernel, while you vary the penalty parameter `C` in a logarithmic range `np.logspace(-2, 3, 10)`. Set the kernel coefficient parameter `gamma` to `auto` for this question. \n",
    "\n",
    "Plot the mean cross-validated classification accuracy against the regularisation parameter `C` by using a log-scale for the x-axis. Display the highest obtained mean accuracy score and the value of `C` which yielded it. Label axes appropriately. \n",
    "\n",
    "Finally, train a classifier by using the optimal value for this parameter (without using cross-validation at this stage) and report the classification accuracy on the training and validation sets. "
   ]
  },
  {
   "cell_type": "code",
   "execution_count": 106,
   "metadata": {},
   "outputs": [
    {
     "data": {
      "image/png": "[encoded data removed]",
      "text/plain": [
       "<matplotlib.figure.Figure at 0x110c60510>"
      ]
     },
     "metadata": {},
     "output_type": "display_data"
    },
    {
     "name": "stdout",
     "output_type": "stream",
     "text": [
      "Highest accuracy: 0.588679, with optimal value c: 0.035938\n",
      "Classification Accuracy on validation set using 0.035938 as C hyperparameter: 0.526505\n"
     ]
    }
   ],
   "source": [
    "c_vals = np.logspace(-2, 3, 10)\n",
    "c_variable_rbf_svm = SVC(kernel='rbf', gamma='auto')\n",
    "\n",
    "rbf_score_array = init_multi_dim_arr(3, 10)\n",
    "\n",
    "# re-evaluate the model based on variables of C\n",
    "for fold_idx, (train_ind, test_ind) in enumerate(folds.split(valid_A)):\n",
    "    for c_idx, value in enumerate(c_vals):\n",
    "        c_variable_rbf_svm = SVC(kernel='rbf', gamma='auto', C=value).fit(X_tr[train_ind], y_tr[train_ind])\n",
    "        rbf_score_array[fold_idx][c_idx] = c_variable_rbf_svm.score(X_tr[test_ind], y_tr[test_ind])\n",
    "        \n",
    "fig = plt.figure(figsize=(14, 14))\n",
    "ax = fig.add_subplot(111)\n",
    "ax.set_xscale('log')\n",
    "ax.set_xticks(c_vals)\n",
    "ax.get_xaxis().set_major_formatter(matplotlib.ticker.ScalarFormatter())\n",
    "ax.grid(which='both')\n",
    "ax.set_ylabel('Classification Accuracy', size=16)\n",
    "ax.set_xlabel('C Value - log scale')\n",
    "\n",
    "rbf_mean_classification_performance = np.mean(rbf_score_array, axis=0)\n",
    "ax.plot(c_vals, rbf_mean_classification_performance)\n",
    "\n",
    "plt.show()\n",
    "\n",
    "highest_acc = np.max(np.mean(rbf_score_array, axis=1))\n",
    "\n",
    "opt_c = c_vals[np.argmax(np.mean(rbf_score_array, axis=1))]\n",
    "\n",
    "print(\"Highest accuracy: %f, with optimal value c: %f\" % (highest_acc, opt_c))\n",
    "\n",
    "new_rbf_svm = SVC(kernel='rbf', gamma='auto', C=opt_c)\n",
    "new_rbf_svm.fit(X_tr, y_tr)\n",
    "new_rbf_acc = new_rbf_svm.score(X_val, y_val)\n",
    "\n",
    "print(\"Classification Accuracy on validation set using %f as C hyperparameter: %f\" % (opt_c,new_rbf_acc))"
   ]
  },
  {
   "cell_type": "markdown",
   "metadata": {},
   "source": [
    "### ========== Question 1.22 --- [5 marks] ==========\n",
    "Now we turn to the kernel coefficient `gamma` parameter. By using the same procedure as in the previous question, estimate the classification accuracy of an SVM classifier with RBF kernel while you vary the `gamma` parameter in a logarithmic range `logspace(-5, 0, 10)`. Fix the penalty parameter `C=1.0`.\n",
    "\n",
    "Plot the mean cross-validated classification accuracy against the parameter `gamma` by using a log-scale for the x-axis. Display the highest obtained mean accuracy score and the value of `gamma` which yielded it.  Label axes appropriately.\n",
    "\n",
    "Finally, train a classifier by using the optimal value for this parameter (without using cross-validation at this stage) and report the classification accuracy on the training and validation sets. "
   ]
  },
  {
   "cell_type": "code",
   "execution_count": 107,
   "metadata": {},
   "outputs": [
    {
     "data": {
      "image/png": "[encoded data removed]",
      "text/plain": [
       "<matplotlib.figure.Figure at 0x1a206aca50>"
      ]
     },
     "metadata": {},
     "output_type": "display_data"
    },
    {
     "name": "stdout",
     "output_type": "stream",
     "text": [
      "Highest accuracy: 0.587601, with optimal value g: 0.000036\n",
      "Classification Accuracy on validation set using 0.000036 as C hyperparameter: 0.526505\n"
     ]
    }
   ],
   "source": [
    "gamma_vals = np.logspace(-5, 0, 10)\n",
    "\n",
    "g_variable_rbf_svm = SVC(kernel='rbf', C=1.0)\n",
    "\n",
    "g_rbf_score_array = init_multi_dim_arr(3, 10)\n",
    "\n",
    "# re-evaluate the model based on variables of C\n",
    "for fold_idx, (train_ind, test_ind) in enumerate(folds.split(valid_A)):\n",
    "    for gamma_idx, value in enumerate(gamma_vals):\n",
    "        g_variable_rbf_svm.gamma = value\n",
    "        g_variable_rbf_svm.fit(X_tr[train_ind], y_tr[train_ind])\n",
    "        g_rbf_score_array[fold_idx][gamma_idx] = g_variable_rbf_svm.score(X_tr[test_ind], y_tr[test_ind])\n",
    "        \n",
    "fig = plt.figure(figsize=(14, 14))\n",
    "ax = fig.add_subplot(111)\n",
    "ax.set_xscale('log')\n",
    "ax.set_xticks(gamma_vals)\n",
    "ax.get_xaxis().set_major_formatter(matplotlib.ticker.ScalarFormatter())\n",
    "ax.grid(which='both')\n",
    "ax.set_ylabel('Classification Accuracy', size=16)\n",
    "ax.set_xlabel('Gamma Value - log scale')\n",
    "\n",
    "g_rbf_mean_classification_performance = np.mean(g_rbf_score_array, axis=0)\n",
    "ax.plot(gamma_vals, g_rbf_mean_classification_performance)\n",
    "\n",
    "plt.show()\n",
    "\n",
    "highest_acc = np.max(np.mean(g_rbf_score_array, axis=1))\n",
    "\n",
    "opt_g = gamma_vals[np.argmax(np.mean(g_rbf_score_array, axis=1))]\n",
    "\n",
    "print(\"Highest accuracy: %f, with optimal value g: %f\" % (highest_acc, opt_g))\n",
    "\n",
    "new_rbf_svm = SVC(kernel='rbf', gamma=opt_g, C=1.0)\n",
    "new_rbf_svm.fit(X_tr, y_tr)\n",
    "new_rbf_acc = new_rbf_svm.score(X_val, y_val)\n",
    "\n",
    "print(\"Classification Accuracy on validation set using %f as C hyperparameter: %f\" % (opt_g,new_rbf_acc))"
   ]
  },
  {
   "cell_type": "markdown",
   "metadata": {},
   "source": [
    "### ========== Question 1.23 --- [7 marks] ==========\n",
    "Now we wish to tune both the `C` and `gamma` parameters simultaneously. To save computational time, we will now constrain the parameter search space. Define a `4 X 4` grid for the two parameters, as follows:\n",
    "* `C`: `np.logspace(-2, 1, 4)`\n",
    "* `gamma`: `np.logspace(-4, -1, 4)`\n",
    "\n",
    "Estimate the mean cross-validated classification accuracy by using training data only and all possible configurations for the two parameters. \n",
    "\n",
    "Use a [heatmap](https://seaborn.github.io/generated/seaborn.heatmap.html?highlight=heatmap#seaborn.heatmap) to visualise the mean cross-validated classification accuracy for all `C`-`gamma` pairs. Label axes appropriately and display the values for `C` and `gamma` for the best performing configuration. \n",
    "\n",
    "Finally, by using the optimal configuration, train a classifier (without using cross-validation) and report the classification accuracy on the training and validation sets."
   ]
  },
  {
   "cell_type": "code",
   "execution_count": 108,
   "metadata": {},
   "outputs": [
    {
     "name": "stdout",
     "output_type": "stream",
     "text": [
      "Training accuracy of final classifier: {0.550884}. Validation accuracy of final classifier: {0.526505}.\n"
     ]
    },
    {
     "data": {
      "image/png": "[encoded data removed]",
      "text/plain": [
       "<matplotlib.figure.Figure at 0x111b877d0>"
      ]
     },
     "metadata": {},
     "output_type": "display_data"
    },
    {
     "data": {
      "text/plain": [
       "<matplotlib.figure.Figure at 0x10c69cb90>"
      ]
     },
     "metadata": {},
     "output_type": "display_data"
    }
   ],
   "source": [
    "# boolean to display processing data to console\n",
    "display_stats = False\n",
    "    \n",
    "c_vals = np.logspace(-2, 1, 4)\n",
    "gamma_vals = np.logspace(-4, -1, 4)\n",
    "variable_rbf = SVC(kernel='rbf')\n",
    "\n",
    "if display_stats:\n",
    "    print(len(c_vals))\n",
    "    print(len(gamma_vals))\n",
    "    print(np.shape(rbf_arr))\n",
    "\n",
    "def init_3_d_arr(dim_1,dim_2,dim_3):\n",
    "    return [[[None for x in range(dim_3)] for y in range(dim_2)] for z in range(dim_1)]\n",
    "\n",
    "# 3 folds, 4 x 4 grid\n",
    "rbf_arr = init_3_d_arr(3, 4, 4)\n",
    "\n",
    "# re-evaluate the model based on variables of C and gamma\n",
    "for fold_idx, (train_ind, test_ind) in enumerate(folds.split(valid_A)):\n",
    "    for c_idx, c_value in enumerate(c_vals):\n",
    "        for gamma_idx, g_value in enumerate(gamma_vals):\n",
    "            variable_rbf.gamma = g_value\n",
    "            variable_rbf.C = c_value\n",
    "            variable_rbf.fit(X_tr[train_ind], y_tr[train_ind])\n",
    "            if display_stats:\n",
    "                print(\"rbf index, fold_idx {%d} . c_idx {%d} . g_idx {%d}\" % (fold_idx, c_idx, gamma_idx))\n",
    "            rbf_arr[fold_idx][c_idx][gamma_idx] = variable_rbf.score(X_tr[test_ind], y_tr[test_ind])\n",
    "            \n",
    "# I know, this is bad, I'm sorry :(\n",
    "mean_classification_total = 0\n",
    "mean_classifcation_total_across_dims = [[0 for x in range(4)] for y in range(4)]\n",
    "mean_classification_across_dims = init_multi_dim_arr(4,4)\n",
    "for dim in range(3):\n",
    "    for c_idx in range(4):\n",
    "        for g_idx in range(4):\n",
    "            mean_classification_total += rbf_arr[dim][c_idx][g_idx]\n",
    "            mean_classifcation_total_across_dims[c_idx][g_idx] += rbf_arr[dim][c_idx][g_idx]\n",
    "    for x_idx in range(4):\n",
    "        for g_idx in range(4):\n",
    "            mean_classification_across_dims[x_idx][g_idx] = (mean_classifcation_total_across_dims[x_idx][g_idx] / 4)\n",
    "    \n",
    "mean_classification = (mean_classification_total / (3 * 4 * 4))\n",
    "\n",
    "if display_stats:\n",
    "    print(mean_classification_total)\n",
    "    print(mean_classification)\n",
    "    print(np.shape(mean_classifcation_total_across_dims))\n",
    "    print(mean_classifcation_total_across_dims)\n",
    "    print(mean_classification_across_dims)\n",
    "    print(DataFrame(mean_classifcation_total_across_dims))\n",
    "    print(DataFrame(mean_classification_across_dims))\n",
    "    \n",
    "sns.heatmap(mean_classification_across_dims, xticklabels=c_vals, yticklabels=gamma_vals)\n",
    "\n",
    "plt.title('A heatmap to visualise the mean cross-validated classification accuracy for all C-gamma pairs')\n",
    "plt.ylabel('Gamme Value')\n",
    "plt.xlabel('C Value')\n",
    "plt.figure()\n",
    "\n",
    "final_classifier = SVC(kernel='rbf', C=10.0, gamma=0.1)\n",
    "final_classifier.fit(X_tr, y_tr)\n",
    "val_score = final_classifier.score(X_val, y_val)\n",
    "taining_score = final_classifier.score(X_tr, y_tr)\n",
    "print(\"Training accuracy of final classifier: {%f}. Validation accuracy of final classifier: {%f}.\" % (taining_score, val_score))"
   ]
  },
  {
   "cell_type": "markdown",
   "metadata": {},
   "source": [
    "### ========== Question 1.24 --- [3 marks] ==========\n",
    "Is the classification accuracy on the validation set higher than in previous questions (1.22-1.23)? If not, can you explain why? Can you think of a way of further improving the performance of the classifier? You don't need to implement your suggestion at this stage. Would there be any associated problems with your suggested approach? "
   ]
  },
  {
   "cell_type": "markdown",
   "metadata": {},
   "source": [
    "Insofar as I am certain that my results are inaccuracte, the classification accuracy on the optimised parameters selected in question 1.23 is actually lower than those presented in the previous two questions. This could be due to many reasons. Firstly, there could be errors in the code / data structures (as I have already stated, I'm fairly certain some of these results are wrong). But, I imagine a more appropriate answer would be that cross-validation has not been implemented in this instance. We are simply using hold-out validation across a training and a testing set, so the algorithm is probably overfitting the training data resulting in a lower generalisation across the validation set. In addition, the values of c and gamma are from two different ranges (as compared to the two previous experiments), as we have varied more than one variable in the experiment, it really discredits any potential claims we can make about the performance of the algorithm. We could improve the performance of the classifier by performing a more appropriate sensitivity analysis. This would mean varying the hyperparameters gamma and C between a larger set of values to find a more appropriate optimal pair. We could also use much more data and more folds to train the classifier. Problems associated with these approaches are: we require more compute and more data. We may not have these additional resources."
   ]
  },
  {
   "cell_type": "markdown",
   "metadata": {},
   "source": [
    "### ========== Question 1.25 --- [5 marks] ==========\n",
    "Now we want to evaluate the performance of an SVM classifier with polynomial kernel. Once again, we will tune the `degree` parameter by using cross-validation (similarly to what we did in Questions 1.21 and 1.22).\n",
    "\n",
    "By using the `K-fold` iterator from Question 1.11 and training data only, estimate the classification accuracy of polynomial SVM classifier, while you vary the `degree` parameter in the range `np.arange(1,8)`. \n",
    "\n",
    "Plot the mean cross-validated classification accuracy against the polynomial degree. Display the highest obtained mean accuracy score and the value of the `degree` parameter which yielded it. Label axes appropriately. \n",
    "\n",
    "Finally, train a classifier by using the optimal value for this parameter (without using cross-validation at this stage) and report the classification accuracy on the training and validation sets. "
   ]
  },
  {
   "cell_type": "code",
   "execution_count": 109,
   "metadata": {},
   "outputs": [
    {
     "data": {
      "image/png": "[encoded data removed]",
      "text/plain": [
       "<matplotlib.figure.Figure at 0x1a206ac9d0>"
      ]
     },
     "metadata": {},
     "output_type": "display_data"
    },
    {
     "name": "stdout",
     "output_type": "stream",
     "text": [
      "Highest accuracy: 0.560172, with optimal value degree: 1.000000\n",
      "Classification Accuracy on validation set using 1.000000 as degree hyperparameter: 0.526505\n"
     ]
    }
   ],
   "source": [
    "degree_range = np.arange(1,8)\n",
    "\n",
    "poly_d_variable_svm = SVC(kernel='poly')\n",
    "\n",
    "poly_score_array = init_multi_dim_arr(3, 7)\n",
    "\n",
    "# re-evaluate the model based on variables of degree\n",
    "for fold_idx, (train_ind, test_ind) in enumerate(folds.split(train_A)):\n",
    "    for degree_idx, value in enumerate(degree_range):\n",
    "        poly_d_variable_svm.degree = value\n",
    "        poly_d_variable_svm.fit(X_tr[train_ind], y_tr[train_ind])\n",
    "        poly_score_array[fold_idx][degree_idx] = poly_d_variable_svm.score(X_tr[test_ind], y_tr[test_ind])\n",
    "        \n",
    "fig = plt.figure(figsize=(14, 14))\n",
    "ax = fig.add_subplot(111)\n",
    "ax.set_xscale('log')\n",
    "ax.set_xticks(degree_range)\n",
    "ax.grid(which='both')\n",
    "ax.set_ylabel('Classification Accuracy', size=16)\n",
    "ax.set_xlabel('Degree Value')\n",
    "\n",
    "mean_class_performance = np.mean(poly_score_array, axis=0)\n",
    "\n",
    "ax.plot(degree_range, mean_class_performance)\n",
    "plt.show()\n",
    "\n",
    "highest_acc = np.max(np.mean(poly_score_array, axis=1))\n",
    "\n",
    "opt_degree = degree_range[np.argmax(np.mean(poly_score_array, axis=1))]\n",
    "\n",
    "print(\"Highest accuracy: %f, with optimal value degree: %f\" % (highest_acc, opt_degree))\n",
    "\n",
    "test_svm = SVC(kernel='poly', degree=opt_degree)\n",
    "test_svm.fit(X_tr, y_tr)\n",
    "new_test_svm_acc = test_svm.score(X_val, y_val)\n",
    "\n",
    "print(\"Classification Accuracy on validation set using %f as degree hyperparameter: %f\" % (opt_degree,new_test_svm_acc))"
   ]
  },
  {
   "cell_type": "markdown",
   "metadata": {},
   "source": [
    "### ========== Question 1.26 --- [4 marks] ==========\n",
    "\n",
    "You might have noticted that so far, we have used cross-validation for optimising the various tuning parameters (e.g. regularisation parameter in logistic regression, SVM kernel parameters) rather than hold-out validation, although we did have access to a validation set. Why do you think this is a good/bad idea? Give one advantage and one disadvantage of the two different approaches. Which one would you trust more in practice?"
   ]
  },
  {
   "cell_type": "markdown",
   "metadata": {},
   "source": [
    "Using more folds (KFold, or cross validation) increases the generalisation performance of an algorithm becuase as it's  being trained on different sets of data it's becoming more versitle (I suppose this is somewhat off topic, it's kind of a similar idea to dropout in deep neural nets). The reason why it's becoming more versitle is because it's not overfitting the training set. Then, when the algorithm is tested on multiple sets of unseen data (K validation sets) - you're gaining a better indication of generalisation, because you're essentially simulating a more realistic real world experience (the algorithm seeing unseen data). By taking the average accuracy across K validation folds, you're gaining a good insight into the performance of the algorithm in the real world, assuming your data is fairly representative of real world examples.\n",
    "\n",
    "In my own projects and my own experiments, I think it's a good idea because I don't have a large enough dataset to accurately represent a large enough portion of real world examples, so for me - it's going to benefit the performance of my classifer (maybe not in the above examples because I'm pretty sure there is something wrong). But it might be a bad idea for a company who has access to a huge amount of resources, just because it's additional unnecessary compute; and as a business is primarily concerned with increasing profit margins, it doesn't make any sense whatsoever to waste money on cross-validation compute when they have a large enough dataset to accuractely train a classifier that performs as well as one trained using cross-validation.\n",
    "\n",
    "I would trust using KFold / cross validation more in practice, but whether I would use it or not would depend on my use case. For small projects with limited resources - cross validation is great. For huge companies with datasets the size of the moon, perhaps not.\n",
    "\n",
    "I would be interested in knowing if there are any disadvantages in terms of classification accuracy when using KFold / cross-validation on a very large dataset (that's very representative of the data it's going to be used in real world situations) - any insights on this in the feedback would be appriciated. Thank you."
   ]
  },
  {
   "cell_type": "markdown",
   "metadata": {},
   "source": [
    "### ========== Question 1.27 --- [6 marks] ==========\n",
    "\n",
    "Reload the full training and validation data that contain all indicator variables for all object categories. Remove the `imgId` attribute but keep all of the class indicator variables in the dataset this time. Your training features should include all attributes except `is_person` which should be your target variable. \n",
    "\n",
    "Once again, use a [StandardScaler](http://scikit-learn.org/0.17/modules/generated/sklearn.preprocessing.StandardScaler.html) to standardise your training and validation features. Then train a Random Forest Classifier by using the entropy `criterion`, 500 `n_estimators`, and also set the `random_state` to 31. Report the classification accuracy on the training and validation sets.\n",
    "\n",
    "Similarly to what we did in Question 1.18, order the features by decreasing importance and display the 50 most important features. \n",
    "\n",
    "Finally, answer the following questions:\n",
    "* What do you notice by looking at the list of the best 50 features?\n",
    "* How does the performance differ with respect to the case when the additional class indicator variables are not present (Question 1.16)? Relate your observations to the observed feature ranking.\n",
    "* Would it be easy to make use of the results in practice? Briey explain your reasoning.\n",
    "\n",
    "*(Hint: you might want to look at some of the [images](http://www.inf.ed.ac.uk/teaching/courses/iaml/2014/assts/asst3/images.html) to justify your explanations.)*"
   ]
  },
  {
   "cell_type": "code",
   "execution_count": 110,
   "metadata": {},
   "outputs": [
    {
     "name": "stdout",
     "output_type": "stream",
     "text": [
      "Training Score: 1.000000, Validation Score: 0.990117.\n",
      "Import feature 0: is_motorbike\n",
      "Import feature 1: is_car\n",
      "Import feature 2: is_bicycle\n",
      "Import feature 3: dim20\n",
      "Import feature 4: dim478\n",
      "Import feature 5: dim75\n",
      "Import feature 6: dim3\n",
      "Import feature 7: dim50\n",
      "Import feature 8: dim359\n",
      "Import feature 9: dim460\n",
      "Import feature 10: dim397\n",
      "Import feature 11: dim282\n",
      "Import feature 12: dim273\n",
      "Import feature 13: dim342\n",
      "Import feature 14: dim91\n",
      "Import feature 15: dim73\n",
      "Import feature 16: dim484\n",
      "Import feature 17: dim213\n",
      "Import feature 18: dim216\n",
      "Import feature 19: dim262\n",
      "Import feature 20: dim287\n",
      "Import feature 21: dim221\n",
      "Import feature 22: dim355\n",
      "Import feature 23: dim347\n",
      "Import feature 24: dim346\n",
      "Import feature 25: dim329\n",
      "Import feature 26: dim422\n",
      "Import feature 27: dim253\n",
      "Import feature 28: dim133\n",
      "Import feature 29: dim153\n",
      "Import feature 30: dim152\n",
      "Import feature 31: dim328\n",
      "Import feature 32: dim325\n",
      "Import feature 33: dim72\n",
      "Import feature 34: dim89\n",
      "Import feature 35: dim499\n",
      "Import feature 36: dim53\n",
      "Import feature 37: dim288\n",
      "Import feature 38: dim439\n",
      "Import feature 39: dim441\n",
      "Import feature 40: dim16\n",
      "Import feature 41: dim24\n",
      "Import feature 42: dim206\n",
      "Import feature 43: dim281\n",
      "Import feature 44: dim482\n",
      "Import feature 45: dim298\n",
      "Import feature 46: dim321\n",
      "Import feature 47: dim47\n",
      "Import feature 48: dim314\n",
      "Import feature 49: dim14\n"
     ]
    }
   ],
   "source": [
    "reloaded_full_training = getDataProvider(getDataPath('train_images_partA.csv')).drop(['imgId'], axis=1)\n",
    "reloaded_full_validation = getDataProvider(getDataPath('valid_images_partA.csv')).drop(['imgId'], axis=1)\n",
    "reloaded_train = reloaded_full_training.as_matrix()\n",
    "reloaded_val = reloaded_full_validation.as_matrix()\n",
    "\n",
    "DataFrame(reloaded_full_training)\n",
    "\n",
    "scaler = StandardScaler()\n",
    "scaler.fit(reloaded_full_training[reloaded_full_training.columns[0:len(reloaded_full_training) -1]])\n",
    "\n",
    "forest_model = RandomForestClassifier(n_estimators=500, random_state=31)\n",
    "forest_model.fit(reloaded_train, y_tr)\n",
    "tr_score = forest_model.score(reloaded_train, y_tr)\n",
    "val_score = forest_model.score(reloaded_val, y_val)\n",
    "print(\"Training Score: %f, Validation Score: %f.\" % (tr_score, val_score))\n",
    "\n",
    "important_feature_values = forest_model.feature_importances_\n",
    "imp_feature_idxs = np.argsort(important_feature_values)[::-1][0:50]\n",
    "\n",
    "for idx, feature_name in enumerate(train_A.columns[imp_feature_idxs]):\n",
    "    print(\"Import feature %d: %s\" % (idx, feature_name))"
   ]
  },
  {
   "cell_type": "markdown",
   "metadata": {},
   "source": [
    "The first thing to note is that the most important features are actually candidates for target variables. The validation score is much better in this instance than in the previous instance. If your data is such that you can include X number of objects that the image is not, it allows the classifier to learn what NOT the image is and can therefore use that data to make a more accurate prediction. However, if all of the target variables are included within the validation data, it doesn't really make much sense, because you already know what the image is. It's essentially already labelled through a process of elimination. It's like saying: well, there 20 things this object could be, but it's definatly not 19 of these, therefore it must be the class that is left out. Therefore, this really isn't very practical. However, you could increase the classification accuracy by including some target variables if your data has access to them and the real world data you're going to be using on this clssifier also has access to a subset of these potential target variables. When I use the word target variables, what I'm really saying is: labels."
   ]
  },
  {
   "cell_type": "markdown",
   "metadata": {},
   "source": [
    "## Mini challenge [30%]"
   ]
  },
  {
   "cell_type": "markdown",
   "metadata": {},
   "source": [
    "*Important: You are allowed to write up to a maximum of 600 words in this part of the assignment. The thoroughness of the exploration and the quality of the resulting discussion is just as important as the final classification performance of your chosen method(s) and credit will be divided accordingly.*"
   ]
  },
  {
   "cell_type": "markdown",
   "metadata": {},
   "source": [
    "In this final part of the assignment we will have a mini object-recognition challenge. Using the data provided you are asked to find the best classiffier for the person/no person classification task. You can apply any preprocessing steps to the data that you think fit and employ any classifier you like (with the provison that you can explain what the classifier is/preprocessing steps are doing). You can also employ any lessons learnt during the course, either from previous Assignments, the Labs or the lecture material to try and squeeze out as much performance as you possibly can. The only restriction is that all steps must be performed in `Python` by using the `numpy`, `pandas` and `sklearn` packages. You can also make use of `matplotlib` and `seaborn` for visualisation. "
   ]
  },
  {
   "cell_type": "markdown",
   "metadata": {},
   "source": [
    "**Important:** The classification performance metric that we will use for this part is the *cross-entropy* or *logarithmic loss* (see the labs). You should familiarise yourself with the metric by reading the `sklearn` [user guide](http://scikit-learn.org/stable/modules/model_evaluation.html#log-loss) and [documentation](http://scikit-learn.org/stable/modules/generated/sklearn.metrics.log_loss.html#sklearn.metrics.log_loss). To estimate this metric you will need to evaluate probability outputs, as opposed to discrete predictions which we have used so far to compute classification accuracies. Most models in `sklearn` implement a `predict_proba()` method which returns the probabilities for each class. For instance, if your test set consists of `N` datapoints and there are `K` classes, the method will return a `N` x `K` matrix."
   ]
  },
  {
   "cell_type": "markdown",
   "metadata": {},
   "source": [
    "We provide you with three new data sets: a training set (`train_images_partB.csv`), a validation set (`valid_images_partB.csv`), and a test set (`test_images_partB.csv`). You must use the former two for training and evaluating your models (as you see fit). Once you have chosen your favourite model (and pre-processing steps) you should apply it to the test set (for which no labels are provided). Estimate the posterior proabilities for the data points in the test set and submit your results as part of your answer. Your results will be evaluated in terms of the logarithmic loss metric. You also need to submit a brief description of the approaches you considered, your suggested final approach, and a short explanation of why you chose it. The thoroughness of the exploration and the quality of the resulting discussion is just as important as the final score of your chosen method(s) and credit will be divided accordingly.\n",
    "\n",
    "*Hint: Feature engineering, feature combination, model combination and model parameter optimization can significantly improve performance.*"
   ]
  },
  {
   "cell_type": "markdown",
   "metadata": {},
   "source": [
    "**How to submit your results**: Store the estimated probabilities for the data points in the test set in a 2D numpy array. Then execute the provided cell at the end of this notebook which uses a provided `save_predictions` function to export your results into a `.txt` file (the function will return an error if the provided array has not the right shape). The `.txt` file will be saved where your notebook lives. Submit this file along with your notebook as detailed at the top of this file."
   ]
  },
  {
   "cell_type": "markdown",
   "metadata": {},
   "source": [
    "*Your answer goes here (max. 600 words)*\n",
    "\n"
   ]
  },
  {
   "cell_type": "code",
   "execution_count": null,
   "metadata": {
    "collapsed": true
   },
   "outputs": [],
   "source": [
    "# Your code goes here"
   ]
  },
  {
   "cell_type": "code",
   "execution_count": null,
   "metadata": {
    "collapsed": true
   },
   "outputs": [],
   "source": [
    "# Execute this cell to export your results\n",
    "from numpy import savetxt\n",
    "def save_predictions(pred_proba):\n",
    "    if pred_proba.shape != (1114,2):\n",
    "        raise ValueError('Predicted probabilities array is not the right shape.')\n",
    "    \n",
    "    savetxt('assignment_3_predictions.txt', pred_proba)\n",
    "\n",
    "# You need to replace \"test_images_partB_pred_proba\"\n",
    "# with the name of the array which contains the probability \n",
    "# estimates for the data in the test set.\n",
    "save_predictions(test_images_partB_pred_proba) "
   ]
  },
  {
   "cell_type": "markdown",
   "metadata": {
    "collapsed": true
   },
   "source": [
    "# Appendix"
   ]
  },
  {
   "cell_type": "markdown",
   "metadata": {},
   "source": [
    "## More information about visual words"
   ]
  },
  {
   "cell_type": "markdown",
   "metadata": {},
   "source": [
    "Visual words are based on [Scale-invariant feature transforms (SIFT)](https://en.wikipedia.org/wiki/Scale-invariant_feature_transform). SIFT features are essentially local orientation histograms and capture the properties of small image regions. They possess attractive invariance properties which make them well suited for our task (you can read more about SIFT features in [D.Lowe, IJCV 60(2):91- 110, 2004](http://link.springer.com/article/10.1023/B:VISI.0000029664.99615.94), but the details don't matter for the purpose of this assignment). Each SIFT feature is a 128 dimensional vector. From each image many SIFT features are extracted, typically > 2500 per image (features are extracted at regular intervals using a 15 pixel grid and at 4 different scales). To obtain visual words a representative subset of all extracted SIFT features from all images is chosen and clustered with k-means using 500 centres (such use of the k-means algorithm will be discussed in detail during the lecture). These 500 cluster centres form our visual words. The representation of a single image is obtained by first assigning each SIFT feature extracted from the image to the appropriate cluster (i.e. we determine the visual word corresponding to each feature by picking the closest cluster centre). We then count the number of features from that image assigned to each cluster (i.e. we determine how often each visual word is present in the image). This results in a 500 dimensional count vector for each image (one dimension for each visual word). The normalized version of this count vector gives the final representation of the image (normalized means that we divide the count vector by the total number of visual words in the image, i.e. the normalized counts sum to 1 for each image)"
   ]
  }
 ],
 "metadata": {
  "anaconda-cloud": {},
  "kernelspec": {
   "display_name": "Python 2",
   "language": "python",
   "name": "python2"
  },
  "language_info": {
   "codemirror_mode": {
    "name": "ipython",
    "version": 2
   },
   "file_extension": ".py",
   "mimetype": "text/x-python",
   "name": "python",
   "nbconvert_exporter": "python",
   "pygments_lexer": "ipython2",
   "version": "2.7.14"
  }
 },
 "nbformat": 4,
 "nbformat_minor": 1
}
