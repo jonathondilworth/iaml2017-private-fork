{
 "cells": [
  {
   "cell_type": "markdown",
   "metadata": {
    "collapsed": true
   },
   "source": [
    "# Introductory applied machine learning (INFR10069)"
   ]
  },
  {
   "cell_type": "markdown",
   "metadata": {},
   "source": [
    "# Assignment 1: Data analysis and visualisation"
   ]
  },
  {
   "cell_type": "markdown",
   "metadata": {},
   "source": [
    "## Marking Breakdown\n",
    "\n",
    "**70-100%** results/answer correct plus extra achievement at understanding or analysis of results. Clear explanations, evidence of creative or deeper thought will contribute to a higher grade.\n",
    "\n",
    "**60-69%** results/answer correct or nearly correct and well explained.\n",
    "\n",
    "**50-59%** results/answer in right direction but significant errors.\n",
    "\n",
    "**40-49%** some evidence that the student has gained some understanding, but not answered the questions\n",
    "properly.\n",
    "\n",
    "**0-39%** serious error or slack work."
   ]
  },
  {
   "cell_type": "markdown",
   "metadata": {},
   "source": [
    "<font color='red'>97/100</font>"
   ]
  },
  {
   "cell_type": "markdown",
   "metadata": {},
   "source": [
    "## Mechanics\n",
    "\n",
    "Fill out this notebook, save it, and **submit it electronically as described below.**\n",
    "\n",
    "On a DICE environment, open the terminal, navigate to the location of this notebook, and submit this notebook file using the following command:\n",
    "\n",
    "`submit iaml cw1 03_Assignment_1.ipynb`\n",
    "\n",
    "What actually happens in the background is that your file is placed in a folder available to markers. If you submit a file with the same name into the same location, **it will *overwrite* your previous submission**. You can check the status of your submissions with the `show_submissions` command.\n",
    "\n",
    "**Distance Learners:** To copy your work up to DICE (such that you can use the `submit` command) you can use `scp` or `rsync` (you may need to install these yourself). You can copy files up using `student.ssh.inf.ed.ac.uk`, then ssh in to submit, e.g. (in a unix terminal):\n",
    "```\n",
    "filename=03_Assignment_1.ipynb\n",
    "local_scp_filepath=~/git/iaml2017/${filename}\n",
    "UUN=s0816700\n",
    "server_address=student.ssh.inf.ed.ac.uk\n",
    "scp -r ${local_scp_filepath} ${UUN}@${server_address}:${filename}\n",
    "# rsync -rl ${local_scp_filepath} ${UUN}@${server_address}:${filename}\n",
    "ssh ${UUN}@${server_address}\n",
    "ssh student.login\n",
    "submit iaml cw1 03_Assignment_1.ipynb\n",
    "```\n",
    "\n",
    "**Late submissions:** The policy stated in the School of Informatics MSc Degree Guide is that normally you will not be allowed to submit coursework late. See http://www.inf.ed.ac.uk/teaching/years/msc/courseguide10.html#exam for exceptions to this, e.g. in case of serious medical illness or serious personal problems.\n",
    "\n",
    "**Collaboration:** You may discuss the assignment with your colleagues, provided that the writing that you submit is entirely your own. That is, you should NOT borrow actual text or code from other students. We ask that you provide a list of the people who you've had discussions with (if any).\n",
    "\n",
    "**Resubmission:** If you submit your file again, the previous submission is **overwritten**. We will mark the version that is in the submission folder at the deadline."
   ]
  },
  {
   "cell_type": "markdown",
   "metadata": {},
   "source": [
    "## Important Instructions\n",
    "\n",
    "1. You *MUST* have your environment set up as in the [README](https://github.com/JamesOwers/iaml2017) and you *must activate this environment before running this notebook*:\n",
    "```\n",
    "source activate iaml\n",
    "cd iaml_2017\n",
    "jupyter notebook\n",
    "# Navigate to this file\n",
    "```\n",
    "\n",
    "1. Wherever you are required to produce code you should use code cells, otherwise you should use markdown cells to report results and explain answers.\n",
    "\n",
    "1. The .csv files that you will be using are located at `./datasets` (the `datasets` directory is adjacent to this file).\n",
    "\n",
    "1. **IMPORTANT:** Keep your answers brief and concise. Most written questions can be answered with 2-3 lines of explanation."
   ]
  },
  {
   "cell_type": "markdown",
   "metadata": {},
   "source": [
    "## Imports\n",
    "\n",
    "Execute the cell below to import all packages you will be using in the rest of the assignemnt."
   ]
  },
  {
   "cell_type": "code",
   "execution_count": 1,
   "metadata": {
    "collapsed": true
   },
   "outputs": [],
   "source": [
    "from __future__ import print_function, division\n",
    "import os\n",
    "import numpy as np\n",
    "import pandas as pd\n",
    "import matplotlib.pyplot as plt\n",
    "import sklearn as sklearn\n",
    "import seaborn as sns\n",
    "%matplotlib inline"
   ]
  },
  {
   "cell_type": "markdown",
   "metadata": {},
   "source": [
    "## Description of the dataset\n",
    "\n",
    "This assignment is based on the 20 Newsgroups Dataset. This dataset is a collection of approximately 20,000 newsgroup documents, partitioned (nearly) evenly across 20 different newsgroups, each corresponding to a different topic. Some of the newsgroups are very closely related to each other (e.g. comp.sys.ibm.pc.hardware, comp.sys.mac.hardware), while others are highly unrelated (e.g misc.forsale, soc.religion.christian). \n",
    "\n",
    "There are three versions of the 20 Newsgroups Dataset. In this assignment we will use the `bydate` matlab version in which documents are sorted by date into training (60%) and test (40%) sets, newsgroup-identifying headers are dropped and duplicates are removed. This collection comprises roughly 61,000 different words, which results in a bag-of-words representation with frequency counts. More specifically, each document is represented by a 61,000 dimensional vector that contains the counts for each of the 61,000 different words present in the respective document. \n",
    "\n",
    "To save you time and to make the problem manageable with limited computational resources, we preprocessed the original dataset. We will use documents from only 5 out of the 20 newsgroups, which results in a 5-class problem. More specifically the 5 classes correspond to the following newsgroups: \n",
    "1. `alt.atheism`\n",
    "2. `comp.sys.ibm.pc.hardware`\n",
    "3. `comp.sys.mac.hardware`\n",
    "4. `rec.sport.baseball`\n",
    "5. `rec.sport.hockey `\n",
    "\n",
    "However, note here that classes 2-3 and 4-5 are rather closely related. Additionally, we computed the [mutual information](https://en.wikipedia.org/wiki/Mutual_information) of each word with the class attribute and selected the 520 words out of 61,000 that had highest mutual information. Therefore, our dataset is a $N \\times 520$ dimensional matrix, where $N$ is the number of documents. For very sophisticated technical reasons 1 was added to all the word counts in part A. The resulting representation is much more compact and can be used directly to perform our experiments in Python."
   ]
  },
  {
   "cell_type": "markdown",
   "metadata": {},
   "source": [
    "## 1. Exploration of the dataset [40%]"
   ]
  },
  {
   "cell_type": "markdown",
   "metadata": {},
   "source": [
    "Your first task is to get a feel for the data that you will be dealing with in the rest of the assignment."
   ]
  },
  {
   "cell_type": "markdown",
   "metadata": {},
   "source": [
    "### ========== Question 1.1 --- [5 marks] ==========\n",
    "Load the datasets `train_20news_partA.csv` and `train_20news_partB.csv` into two separate pandas DataFrames."
   ]
  },
  {
   "cell_type": "markdown",
   "metadata": {},
   "source": [
    "<font color='red'>5/5</font>"
   ]
  },
  {
   "cell_type": "code",
   "execution_count": 2,
   "metadata": {
    "collapsed": true
   },
   "outputs": [],
   "source": [
    "news_partA_path = os.path.join(os.getcwd(), 'datasets', 'train_20news_partA.csv')\n",
    "news_partA_data = pd.read_csv(news_partA_path)\n",
    "news_partB_path = os.path.join(os.getcwd(), 'datasets', 'train_20news_partB.csv')\n",
    "news_partB_data = pd.read_csv(news_partA_path)"
   ]
  },
  {
   "cell_type": "markdown",
   "metadata": {
    "collapsed": true
   },
   "source": [
    "### ========== Question 1.2 --- [3 marks] ==========\n",
    "Display basic information for dataset A such as number of columns, type, and memory usage (*hint: pandas dataframes have a built in method for this*) "
   ]
  },
  {
   "cell_type": "markdown",
   "metadata": {},
   "source": [
    "<font color='red'>3/3</font>"
   ]
  },
  {
   "cell_type": "code",
   "execution_count": 3,
   "metadata": {},
   "outputs": [
    {
     "name": "stdout",
     "output_type": "stream",
     "text": [
      "<class 'pandas.core.frame.DataFrame'>\n",
      "Int64Index: 2129 entries, 0 to 2256\n",
      "Columns: 521 entries, w1_aaa to class\n",
      "dtypes: int64(521)\n",
      "memory usage: 8.5 MB\n"
     ]
    }
   ],
   "source": [
    "# long variables names - pure CS grad, java-esque\n",
    "news_partA_data.info()\n",
    "\n",
    "# 3 marks just for this?"
   ]
  },
  {
   "cell_type": "markdown",
   "metadata": {},
   "source": [
    "### ========== Question 1.3 --- [3 marks] ==========\n",
    "How many data points and how many attributes are there in the dataset that we can use to model the target variable `class`?"
   ]
  },
  {
   "cell_type": "markdown",
   "metadata": {},
   "source": [
    "<font color='red'>3/3</font>"
   ]
  },
  {
   "cell_type": "markdown",
   "metadata": {},
   "source": [
    "As there are 521 columns and the final column is the target variable *class* - there are **520 attributes** that we can use to model the target variable *class*.\n",
    "\n",
    "Since there are 2129 entries (rows), we have 2129 instances that provide numerical values for each attribute. This indicates that there are **2129 data points**. The .info() function takes into account that the first row within the CSV datafile are column headings.\n",
    "\n",
    "*The reason why these entries are listed as 0 to 2256 when calling .info() on the DataFrame is because the value of the first entry of the first attribute (w1_aaa) within the DataFrame takes on the value zero and the final entry takes on the value 2256.*"
   ]
  },
  {
   "cell_type": "markdown",
   "metadata": {
    "collapsed": true
   },
   "source": [
    "### ========== Question 1.4 --- [3 marks] ==========\n",
    "Use a Pandas method to display the summary statistics for the `news_A` DataFrame."
   ]
  },
  {
   "cell_type": "markdown",
   "metadata": {},
   "source": [
    "<font color='red'>3/3</font>"
   ]
  },
  {
   "cell_type": "code",
   "execution_count": 4,
   "metadata": {
    "scrolled": true
   },
   "outputs": [
    {
     "data": {
      "text/html": [
       "<div>\n",
       "<style>\n",
       "    .dataframe thead tr:only-child th {\n",
       "        text-align: right;\n",
       "    }\n",
       "\n",
       "    .dataframe thead th {\n",
       "        text-align: left;\n",
       "    }\n",
       "\n",
       "    .dataframe tbody tr th {\n",
       "        vertical-align: top;\n",
       "    }\n",
       "</style>\n",
       "<table border=\"1\" class=\"dataframe\">\n",
       "  <thead>\n",
       "    <tr style=\"text-align: right;\">\n",
       "      <th></th>\n",
       "      <th>w1_aaa</th>\n",
       "      <th>w2_pins</th>\n",
       "      <th>w3_kmr</th>\n",
       "      <th>w4_notion</th>\n",
       "      <th>w5_queens</th>\n",
       "      <th>w6_dwyer</th>\n",
       "      <th>w7_defenseman</th>\n",
       "      <th>w8_gld</th>\n",
       "      <th>w9_tocchet</th>\n",
       "      <th>w10_home</th>\n",
       "      <th>...</th>\n",
       "      <th>w512_constantly</th>\n",
       "      <th>w513_generate</th>\n",
       "      <th>w514_definite</th>\n",
       "      <th>w515_lacks</th>\n",
       "      <th>w516_combination</th>\n",
       "      <th>w517_sitting</th>\n",
       "      <th>w518_surface</th>\n",
       "      <th>w519_fashion</th>\n",
       "      <th>w520_sit</th>\n",
       "      <th>class</th>\n",
       "    </tr>\n",
       "  </thead>\n",
       "  <tbody>\n",
       "    <tr>\n",
       "      <th>count</th>\n",
       "      <td>2129.000000</td>\n",
       "      <td>2129.000000</td>\n",
       "      <td>2129.000000</td>\n",
       "      <td>2129.000000</td>\n",
       "      <td>2129.000000</td>\n",
       "      <td>2129.00000</td>\n",
       "      <td>2129.000000</td>\n",
       "      <td>2129.000000</td>\n",
       "      <td>2129.000000</td>\n",
       "      <td>2129.000000</td>\n",
       "      <td>...</td>\n",
       "      <td>2129.000000</td>\n",
       "      <td>2129.000000</td>\n",
       "      <td>2129.000000</td>\n",
       "      <td>2129.000000</td>\n",
       "      <td>2129.000000</td>\n",
       "      <td>2129.000000</td>\n",
       "      <td>2129.000000</td>\n",
       "      <td>2129.000000</td>\n",
       "      <td>2129.000000</td>\n",
       "      <td>2129.000000</td>\n",
       "    </tr>\n",
       "    <tr>\n",
       "      <th>mean</th>\n",
       "      <td>5.128229</td>\n",
       "      <td>6.097698</td>\n",
       "      <td>6.120244</td>\n",
       "      <td>5.551902</td>\n",
       "      <td>5.521841</td>\n",
       "      <td>6.12776</td>\n",
       "      <td>5.633161</td>\n",
       "      <td>6.090653</td>\n",
       "      <td>5.970409</td>\n",
       "      <td>5.624706</td>\n",
       "      <td>...</td>\n",
       "      <td>9.666510</td>\n",
       "      <td>9.217473</td>\n",
       "      <td>9.061531</td>\n",
       "      <td>9.398309</td>\n",
       "      <td>9.175200</td>\n",
       "      <td>9.708783</td>\n",
       "      <td>8.807891</td>\n",
       "      <td>9.719587</td>\n",
       "      <td>9.307656</td>\n",
       "      <td>3.092532</td>\n",
       "    </tr>\n",
       "    <tr>\n",
       "      <th>std</th>\n",
       "      <td>38.292577</td>\n",
       "      <td>46.190953</td>\n",
       "      <td>46.656022</td>\n",
       "      <td>40.953913</td>\n",
       "      <td>40.978098</td>\n",
       "      <td>45.96434</td>\n",
       "      <td>41.146918</td>\n",
       "      <td>45.762060</td>\n",
       "      <td>44.266628</td>\n",
       "      <td>40.769105</td>\n",
       "      <td>...</td>\n",
       "      <td>45.844064</td>\n",
       "      <td>43.948910</td>\n",
       "      <td>40.969185</td>\n",
       "      <td>43.833064</td>\n",
       "      <td>42.403283</td>\n",
       "      <td>47.294120</td>\n",
       "      <td>39.341038</td>\n",
       "      <td>46.185082</td>\n",
       "      <td>45.059367</td>\n",
       "      <td>1.395948</td>\n",
       "    </tr>\n",
       "    <tr>\n",
       "      <th>min</th>\n",
       "      <td>1.000000</td>\n",
       "      <td>1.000000</td>\n",
       "      <td>1.000000</td>\n",
       "      <td>1.000000</td>\n",
       "      <td>1.000000</td>\n",
       "      <td>1.00000</td>\n",
       "      <td>1.000000</td>\n",
       "      <td>1.000000</td>\n",
       "      <td>1.000000</td>\n",
       "      <td>1.000000</td>\n",
       "      <td>...</td>\n",
       "      <td>1.000000</td>\n",
       "      <td>1.000000</td>\n",
       "      <td>1.000000</td>\n",
       "      <td>1.000000</td>\n",
       "      <td>1.000000</td>\n",
       "      <td>1.000000</td>\n",
       "      <td>1.000000</td>\n",
       "      <td>1.000000</td>\n",
       "      <td>1.000000</td>\n",
       "      <td>1.000000</td>\n",
       "    </tr>\n",
       "    <tr>\n",
       "      <th>25%</th>\n",
       "      <td>1.000000</td>\n",
       "      <td>1.000000</td>\n",
       "      <td>1.000000</td>\n",
       "      <td>1.000000</td>\n",
       "      <td>1.000000</td>\n",
       "      <td>1.00000</td>\n",
       "      <td>1.000000</td>\n",
       "      <td>1.000000</td>\n",
       "      <td>1.000000</td>\n",
       "      <td>1.000000</td>\n",
       "      <td>...</td>\n",
       "      <td>3.000000</td>\n",
       "      <td>2.000000</td>\n",
       "      <td>3.000000</td>\n",
       "      <td>3.000000</td>\n",
       "      <td>2.000000</td>\n",
       "      <td>3.000000</td>\n",
       "      <td>3.000000</td>\n",
       "      <td>3.000000</td>\n",
       "      <td>2.000000</td>\n",
       "      <td>2.000000</td>\n",
       "    </tr>\n",
       "    <tr>\n",
       "      <th>50%</th>\n",
       "      <td>1.000000</td>\n",
       "      <td>1.000000</td>\n",
       "      <td>1.000000</td>\n",
       "      <td>1.000000</td>\n",
       "      <td>1.000000</td>\n",
       "      <td>1.00000</td>\n",
       "      <td>1.000000</td>\n",
       "      <td>1.000000</td>\n",
       "      <td>1.000000</td>\n",
       "      <td>1.000000</td>\n",
       "      <td>...</td>\n",
       "      <td>5.000000</td>\n",
       "      <td>5.000000</td>\n",
       "      <td>5.000000</td>\n",
       "      <td>5.000000</td>\n",
       "      <td>5.000000</td>\n",
       "      <td>5.000000</td>\n",
       "      <td>5.000000</td>\n",
       "      <td>5.000000</td>\n",
       "      <td>4.000000</td>\n",
       "      <td>3.000000</td>\n",
       "    </tr>\n",
       "    <tr>\n",
       "      <th>75%</th>\n",
       "      <td>1.000000</td>\n",
       "      <td>1.000000</td>\n",
       "      <td>1.000000</td>\n",
       "      <td>1.000000</td>\n",
       "      <td>1.000000</td>\n",
       "      <td>1.00000</td>\n",
       "      <td>1.000000</td>\n",
       "      <td>1.000000</td>\n",
       "      <td>1.000000</td>\n",
       "      <td>1.000000</td>\n",
       "      <td>...</td>\n",
       "      <td>7.000000</td>\n",
       "      <td>7.000000</td>\n",
       "      <td>7.000000</td>\n",
       "      <td>7.000000</td>\n",
       "      <td>7.000000</td>\n",
       "      <td>7.000000</td>\n",
       "      <td>7.000000</td>\n",
       "      <td>7.000000</td>\n",
       "      <td>6.000000</td>\n",
       "      <td>4.000000</td>\n",
       "    </tr>\n",
       "    <tr>\n",
       "      <th>max</th>\n",
       "      <td>572.000000</td>\n",
       "      <td>583.000000</td>\n",
       "      <td>579.000000</td>\n",
       "      <td>580.000000</td>\n",
       "      <td>591.000000</td>\n",
       "      <td>600.00000</td>\n",
       "      <td>546.000000</td>\n",
       "      <td>591.000000</td>\n",
       "      <td>578.000000</td>\n",
       "      <td>578.000000</td>\n",
       "      <td>...</td>\n",
       "      <td>590.000000</td>\n",
       "      <td>587.000000</td>\n",
       "      <td>577.000000</td>\n",
       "      <td>598.000000</td>\n",
       "      <td>568.000000</td>\n",
       "      <td>599.000000</td>\n",
       "      <td>585.000000</td>\n",
       "      <td>600.000000</td>\n",
       "      <td>597.000000</td>\n",
       "      <td>5.000000</td>\n",
       "    </tr>\n",
       "  </tbody>\n",
       "</table>\n",
       "<p>8 rows × 521 columns</p>\n",
       "</div>"
      ],
      "text/plain": [
       "            w1_aaa      w2_pins       w3_kmr    w4_notion    w5_queens  \\\n",
       "count  2129.000000  2129.000000  2129.000000  2129.000000  2129.000000   \n",
       "mean      5.128229     6.097698     6.120244     5.551902     5.521841   \n",
       "std      38.292577    46.190953    46.656022    40.953913    40.978098   \n",
       "min       1.000000     1.000000     1.000000     1.000000     1.000000   \n",
       "25%       1.000000     1.000000     1.000000     1.000000     1.000000   \n",
       "50%       1.000000     1.000000     1.000000     1.000000     1.000000   \n",
       "75%       1.000000     1.000000     1.000000     1.000000     1.000000   \n",
       "max     572.000000   583.000000   579.000000   580.000000   591.000000   \n",
       "\n",
       "         w6_dwyer  w7_defenseman       w8_gld   w9_tocchet     w10_home  \\\n",
       "count  2129.00000    2129.000000  2129.000000  2129.000000  2129.000000   \n",
       "mean      6.12776       5.633161     6.090653     5.970409     5.624706   \n",
       "std      45.96434      41.146918    45.762060    44.266628    40.769105   \n",
       "min       1.00000       1.000000     1.000000     1.000000     1.000000   \n",
       "25%       1.00000       1.000000     1.000000     1.000000     1.000000   \n",
       "50%       1.00000       1.000000     1.000000     1.000000     1.000000   \n",
       "75%       1.00000       1.000000     1.000000     1.000000     1.000000   \n",
       "max     600.00000     546.000000   591.000000   578.000000   578.000000   \n",
       "\n",
       "          ...       w512_constantly  w513_generate  w514_definite  \\\n",
       "count     ...           2129.000000    2129.000000    2129.000000   \n",
       "mean      ...              9.666510       9.217473       9.061531   \n",
       "std       ...             45.844064      43.948910      40.969185   \n",
       "min       ...              1.000000       1.000000       1.000000   \n",
       "25%       ...              3.000000       2.000000       3.000000   \n",
       "50%       ...              5.000000       5.000000       5.000000   \n",
       "75%       ...              7.000000       7.000000       7.000000   \n",
       "max       ...            590.000000     587.000000     577.000000   \n",
       "\n",
       "        w515_lacks  w516_combination  w517_sitting  w518_surface  \\\n",
       "count  2129.000000       2129.000000   2129.000000   2129.000000   \n",
       "mean      9.398309          9.175200      9.708783      8.807891   \n",
       "std      43.833064         42.403283     47.294120     39.341038   \n",
       "min       1.000000          1.000000      1.000000      1.000000   \n",
       "25%       3.000000          2.000000      3.000000      3.000000   \n",
       "50%       5.000000          5.000000      5.000000      5.000000   \n",
       "75%       7.000000          7.000000      7.000000      7.000000   \n",
       "max     598.000000        568.000000    599.000000    585.000000   \n",
       "\n",
       "       w519_fashion     w520_sit        class  \n",
       "count   2129.000000  2129.000000  2129.000000  \n",
       "mean       9.719587     9.307656     3.092532  \n",
       "std       46.185082    45.059367     1.395948  \n",
       "min        1.000000     1.000000     1.000000  \n",
       "25%        3.000000     2.000000     2.000000  \n",
       "50%        5.000000     4.000000     3.000000  \n",
       "75%        7.000000     6.000000     4.000000  \n",
       "max      600.000000   597.000000     5.000000  \n",
       "\n",
       "[8 rows x 521 columns]"
      ]
     },
     "execution_count": 4,
     "metadata": {},
     "output_type": "execute_result"
    }
   ],
   "source": [
    "news_partA_data.describe()"
   ]
  },
  {
   "cell_type": "markdown",
   "metadata": {
    "collapsed": true
   },
   "source": [
    "### ========== Question 1.5 --- [3 marks] ==========\n",
    "Display the first 7 instances of dataset A."
   ]
  },
  {
   "cell_type": "markdown",
   "metadata": {},
   "source": [
    "<font color='red'>3/3</font>"
   ]
  },
  {
   "cell_type": "code",
   "execution_count": 5,
   "metadata": {
    "scrolled": true
   },
   "outputs": [
    {
     "data": {
      "text/html": [
       "<div>\n",
       "<style>\n",
       "    .dataframe thead tr:only-child th {\n",
       "        text-align: right;\n",
       "    }\n",
       "\n",
       "    .dataframe thead th {\n",
       "        text-align: left;\n",
       "    }\n",
       "\n",
       "    .dataframe tbody tr th {\n",
       "        vertical-align: top;\n",
       "    }\n",
       "</style>\n",
       "<table border=\"1\" class=\"dataframe\">\n",
       "  <thead>\n",
       "    <tr style=\"text-align: right;\">\n",
       "      <th></th>\n",
       "      <th>w1_aaa</th>\n",
       "      <th>w2_pins</th>\n",
       "      <th>w3_kmr</th>\n",
       "      <th>w4_notion</th>\n",
       "      <th>w5_queens</th>\n",
       "      <th>w6_dwyer</th>\n",
       "      <th>w7_defenseman</th>\n",
       "      <th>w8_gld</th>\n",
       "      <th>w9_tocchet</th>\n",
       "      <th>w10_home</th>\n",
       "      <th>...</th>\n",
       "      <th>w512_constantly</th>\n",
       "      <th>w513_generate</th>\n",
       "      <th>w514_definite</th>\n",
       "      <th>w515_lacks</th>\n",
       "      <th>w516_combination</th>\n",
       "      <th>w517_sitting</th>\n",
       "      <th>w518_surface</th>\n",
       "      <th>w519_fashion</th>\n",
       "      <th>w520_sit</th>\n",
       "      <th>class</th>\n",
       "    </tr>\n",
       "  </thead>\n",
       "  <tbody>\n",
       "    <tr>\n",
       "      <th>0</th>\n",
       "      <td>1</td>\n",
       "      <td>1</td>\n",
       "      <td>1</td>\n",
       "      <td>1</td>\n",
       "      <td>1</td>\n",
       "      <td>1</td>\n",
       "      <td>1</td>\n",
       "      <td>1</td>\n",
       "      <td>1</td>\n",
       "      <td>1</td>\n",
       "      <td>...</td>\n",
       "      <td>1</td>\n",
       "      <td>5</td>\n",
       "      <td>3</td>\n",
       "      <td>6</td>\n",
       "      <td>8</td>\n",
       "      <td>4</td>\n",
       "      <td>6</td>\n",
       "      <td>4</td>\n",
       "      <td>8</td>\n",
       "      <td>4</td>\n",
       "    </tr>\n",
       "    <tr>\n",
       "      <th>1</th>\n",
       "      <td>1</td>\n",
       "      <td>1</td>\n",
       "      <td>1</td>\n",
       "      <td>1</td>\n",
       "      <td>1</td>\n",
       "      <td>1</td>\n",
       "      <td>1</td>\n",
       "      <td>1</td>\n",
       "      <td>1</td>\n",
       "      <td>1</td>\n",
       "      <td>...</td>\n",
       "      <td>2</td>\n",
       "      <td>3</td>\n",
       "      <td>6</td>\n",
       "      <td>8</td>\n",
       "      <td>3</td>\n",
       "      <td>4</td>\n",
       "      <td>5</td>\n",
       "      <td>6</td>\n",
       "      <td>5</td>\n",
       "      <td>4</td>\n",
       "    </tr>\n",
       "    <tr>\n",
       "      <th>2</th>\n",
       "      <td>1</td>\n",
       "      <td>1</td>\n",
       "      <td>1</td>\n",
       "      <td>1</td>\n",
       "      <td>1</td>\n",
       "      <td>1</td>\n",
       "      <td>1</td>\n",
       "      <td>1</td>\n",
       "      <td>1</td>\n",
       "      <td>2</td>\n",
       "      <td>...</td>\n",
       "      <td>4</td>\n",
       "      <td>2</td>\n",
       "      <td>6</td>\n",
       "      <td>5</td>\n",
       "      <td>2</td>\n",
       "      <td>5</td>\n",
       "      <td>5</td>\n",
       "      <td>7</td>\n",
       "      <td>8</td>\n",
       "      <td>2</td>\n",
       "    </tr>\n",
       "    <tr>\n",
       "      <th>3</th>\n",
       "      <td>1</td>\n",
       "      <td>1</td>\n",
       "      <td>1</td>\n",
       "      <td>1</td>\n",
       "      <td>1</td>\n",
       "      <td>1</td>\n",
       "      <td>1</td>\n",
       "      <td>1</td>\n",
       "      <td>1</td>\n",
       "      <td>1</td>\n",
       "      <td>...</td>\n",
       "      <td>6</td>\n",
       "      <td>3</td>\n",
       "      <td>6</td>\n",
       "      <td>1</td>\n",
       "      <td>1</td>\n",
       "      <td>8</td>\n",
       "      <td>1</td>\n",
       "      <td>8</td>\n",
       "      <td>4</td>\n",
       "      <td>3</td>\n",
       "    </tr>\n",
       "    <tr>\n",
       "      <th>4</th>\n",
       "      <td>1</td>\n",
       "      <td>1</td>\n",
       "      <td>1</td>\n",
       "      <td>1</td>\n",
       "      <td>1</td>\n",
       "      <td>1</td>\n",
       "      <td>1</td>\n",
       "      <td>1</td>\n",
       "      <td>1</td>\n",
       "      <td>1</td>\n",
       "      <td>...</td>\n",
       "      <td>6</td>\n",
       "      <td>1</td>\n",
       "      <td>7</td>\n",
       "      <td>8</td>\n",
       "      <td>6</td>\n",
       "      <td>3</td>\n",
       "      <td>1</td>\n",
       "      <td>8</td>\n",
       "      <td>4</td>\n",
       "      <td>3</td>\n",
       "    </tr>\n",
       "    <tr>\n",
       "      <th>5</th>\n",
       "      <td>1</td>\n",
       "      <td>1</td>\n",
       "      <td>1</td>\n",
       "      <td>1</td>\n",
       "      <td>1</td>\n",
       "      <td>1</td>\n",
       "      <td>1</td>\n",
       "      <td>1</td>\n",
       "      <td>1</td>\n",
       "      <td>1</td>\n",
       "      <td>...</td>\n",
       "      <td>7</td>\n",
       "      <td>5</td>\n",
       "      <td>4</td>\n",
       "      <td>5</td>\n",
       "      <td>5</td>\n",
       "      <td>7</td>\n",
       "      <td>7</td>\n",
       "      <td>7</td>\n",
       "      <td>2</td>\n",
       "      <td>2</td>\n",
       "    </tr>\n",
       "    <tr>\n",
       "      <th>6</th>\n",
       "      <td>1</td>\n",
       "      <td>1</td>\n",
       "      <td>1</td>\n",
       "      <td>1</td>\n",
       "      <td>2</td>\n",
       "      <td>1</td>\n",
       "      <td>1</td>\n",
       "      <td>1</td>\n",
       "      <td>1</td>\n",
       "      <td>1</td>\n",
       "      <td>...</td>\n",
       "      <td>3</td>\n",
       "      <td>6</td>\n",
       "      <td>8</td>\n",
       "      <td>8</td>\n",
       "      <td>3</td>\n",
       "      <td>5</td>\n",
       "      <td>2</td>\n",
       "      <td>1</td>\n",
       "      <td>2</td>\n",
       "      <td>1</td>\n",
       "    </tr>\n",
       "  </tbody>\n",
       "</table>\n",
       "<p>7 rows × 521 columns</p>\n",
       "</div>"
      ],
      "text/plain": [
       "   w1_aaa  w2_pins  w3_kmr  w4_notion  w5_queens  w6_dwyer  w7_defenseman  \\\n",
       "0       1        1       1          1          1         1              1   \n",
       "1       1        1       1          1          1         1              1   \n",
       "2       1        1       1          1          1         1              1   \n",
       "3       1        1       1          1          1         1              1   \n",
       "4       1        1       1          1          1         1              1   \n",
       "5       1        1       1          1          1         1              1   \n",
       "6       1        1       1          1          2         1              1   \n",
       "\n",
       "   w8_gld  w9_tocchet  w10_home  ...    w512_constantly  w513_generate  \\\n",
       "0       1           1         1  ...                  1              5   \n",
       "1       1           1         1  ...                  2              3   \n",
       "2       1           1         2  ...                  4              2   \n",
       "3       1           1         1  ...                  6              3   \n",
       "4       1           1         1  ...                  6              1   \n",
       "5       1           1         1  ...                  7              5   \n",
       "6       1           1         1  ...                  3              6   \n",
       "\n",
       "   w514_definite  w515_lacks  w516_combination  w517_sitting  w518_surface  \\\n",
       "0              3           6                 8             4             6   \n",
       "1              6           8                 3             4             5   \n",
       "2              6           5                 2             5             5   \n",
       "3              6           1                 1             8             1   \n",
       "4              7           8                 6             3             1   \n",
       "5              4           5                 5             7             7   \n",
       "6              8           8                 3             5             2   \n",
       "\n",
       "   w519_fashion  w520_sit  class  \n",
       "0             4         8      4  \n",
       "1             6         5      4  \n",
       "2             7         8      2  \n",
       "3             8         4      3  \n",
       "4             8         4      3  \n",
       "5             7         2      2  \n",
       "6             1         2      1  \n",
       "\n",
       "[7 rows x 521 columns]"
      ]
     },
     "execution_count": 5,
     "metadata": {},
     "output_type": "execute_result"
    }
   ],
   "source": [
    "news_partA_data.head(7)"
   ]
  },
  {
   "cell_type": "markdown",
   "metadata": {},
   "source": [
    "### ========== Question 1.6 --- [5 marks] ==========\n",
    "Display the names of the first 100 attributes in dataset A. \n",
    "\n",
    "You might observe that each attribute consists of two parts:\n",
    "1. `w<x>_` (where x is an index corresponding to each word)\n",
    "2. the actual name of the word"
   ]
  },
  {
   "cell_type": "markdown",
   "metadata": {},
   "source": [
    "<font color='red'>5/5</font>"
   ]
  },
  {
   "cell_type": "code",
   "execution_count": 6,
   "metadata": {},
   "outputs": [
    {
     "name": "stdout",
     "output_type": "stream",
     "text": [
      "['w1_aaa' 'w2_pins' 'w3_kmr' 'w4_notion' 'w5_queens' 'w6_dwyer'\n",
      " 'w7_defenseman' 'w8_gld' 'w9_tocchet' 'w10_home' 'w11_buying'\n",
      " 'w12_internet' 'w13_slots' 'w14_compatible' 'w15_transfer' 'w16_baltimore'\n",
      " 'w17_mean' 'w18_person' 'w19_performance' 'w20_support' 'w21_tor' 'w22_gm'\n",
      " 'w23_mouse' 'w24_base' 'w25_population' 'w26_bob' 'w27_set' 'w28_it'\n",
      " 'w29_earth' 'w30_faith' 'w31_steve' 'w32_caps' 'w33_printer' 'w34_east'\n",
      " 'w35_cable' 'w36_adapter' 'w37_mss' 'w38_catcher' 'w39_bullpen' 'w40_obp'\n",
      " 'w41_innocent' 'w42_european' 'w43_angeles' 'w44_settings' 'w45_words'\n",
      " 'w46_rit' 'w47_shots' 'w48_ports' 'w49_vga' 'w50_coverage' 'w51_jumpers'\n",
      " 'w52_bases' 'w53_sea' 'w54_pts' 'w55_behavior' 'w56_domi' 'w57_sabres'\n",
      " 'w58_yzerman' 'w59_messier' 'w60_goalies' 'w61_hawks' 'w62_our' 'w63_sx'\n",
      " 'w64_view' 'w65_hitters' 'w66_richard' 'w67_point' 'w68_nyi' 'w69_mvp'\n",
      " 'w70_kill' 'w71_nl' 'w72_field' 'w73_connector' 'w74_stars' 'w75_th'\n",
      " 'w76_install' 'w77_traded' 'w78_configuration' 'w79_standard'\n",
      " 'w80_rotation' 'w81_ultb' 'w82_sports' 'w83_pds' 'w84_canada' 'w85_did'\n",
      " 'w86_clock' 'w87_first' 'w88_switch' 'w89_tonight' 'w90_record'\n",
      " 'w91_singer' 'w92_majors' 'w93_royals' 'w94_does' 'w95_flames' 'w96_of'\n",
      " 'w97_series' 'w98_plays' 'w99_det' 'w100_pitched']\n",
      "['w1', 'aaa']\n",
      "['w2', 'pins']\n",
      "['w3', 'kmr']\n",
      "['w4', 'notion']\n",
      "['w5', 'queens']\n",
      "['w6', 'dwyer']\n",
      "['w7', 'defenseman']\n",
      "['w8', 'gld']\n",
      "['w9', 'tocchet']\n",
      "['w10', 'home']\n",
      "['w11', 'buying']\n",
      "['w12', 'internet']\n",
      "['w13', 'slots']\n",
      "['w14', 'compatible']\n",
      "['w15', 'transfer']\n",
      "['w16', 'baltimore']\n",
      "['w17', 'mean']\n",
      "['w18', 'person']\n",
      "['w19', 'performance']\n",
      "['w20', 'support']\n",
      "['w21', 'tor']\n",
      "['w22', 'gm']\n",
      "['w23', 'mouse']\n",
      "['w24', 'base']\n",
      "['w25', 'population']\n",
      "['w26', 'bob']\n",
      "['w27', 'set']\n",
      "['w28', 'it']\n",
      "['w29', 'earth']\n",
      "['w30', 'faith']\n",
      "['w31', 'steve']\n",
      "['w32', 'caps']\n",
      "['w33', 'printer']\n",
      "['w34', 'east']\n",
      "['w35', 'cable']\n",
      "['w36', 'adapter']\n",
      "['w37', 'mss']\n",
      "['w38', 'catcher']\n",
      "['w39', 'bullpen']\n",
      "['w40', 'obp']\n",
      "['w41', 'innocent']\n",
      "['w42', 'european']\n",
      "['w43', 'angeles']\n",
      "['w44', 'settings']\n",
      "['w45', 'words']\n",
      "['w46', 'rit']\n",
      "['w47', 'shots']\n",
      "['w48', 'ports']\n",
      "['w49', 'vga']\n",
      "['w50', 'coverage']\n",
      "['w51', 'jumpers']\n",
      "['w52', 'bases']\n",
      "['w53', 'sea']\n",
      "['w54', 'pts']\n",
      "['w55', 'behavior']\n",
      "['w56', 'domi']\n",
      "['w57', 'sabres']\n",
      "['w58', 'yzerman']\n",
      "['w59', 'messier']\n",
      "['w60', 'goalies']\n",
      "['w61', 'hawks']\n",
      "['w62', 'our']\n",
      "['w63', 'sx']\n",
      "['w64', 'view']\n",
      "['w65', 'hitters']\n",
      "['w66', 'richard']\n",
      "['w67', 'point']\n",
      "['w68', 'nyi']\n",
      "['w69', 'mvp']\n",
      "['w70', 'kill']\n",
      "['w71', 'nl']\n",
      "['w72', 'field']\n",
      "['w73', 'connector']\n",
      "['w74', 'stars']\n",
      "['w75', 'th']\n",
      "['w76', 'install']\n",
      "['w77', 'traded']\n",
      "['w78', 'configuration']\n",
      "['w79', 'standard']\n",
      "['w80', 'rotation']\n",
      "['w81', 'ultb']\n",
      "['w82', 'sports']\n",
      "['w83', 'pds']\n",
      "['w84', 'canada']\n",
      "['w85', 'did']\n",
      "['w86', 'clock']\n",
      "['w87', 'first']\n",
      "['w88', 'switch']\n",
      "['w89', 'tonight']\n",
      "['w90', 'record']\n",
      "['w91', 'singer']\n",
      "['w92', 'majors']\n",
      "['w93', 'royals']\n",
      "['w94', 'does']\n",
      "['w95', 'flames']\n",
      "['w96', 'of']\n",
      "['w97', 'series']\n",
      "['w98', 'plays']\n",
      "['w99', 'det']\n",
      "['w100', 'pitched']\n",
      "aaa\n",
      "pins\n",
      "kmr\n",
      "notion\n",
      "queens\n",
      "dwyer\n",
      "defenseman\n",
      "gld\n",
      "tocchet\n",
      "home\n",
      "buying\n",
      "internet\n",
      "slots\n",
      "compatible\n",
      "transfer\n",
      "baltimore\n",
      "mean\n",
      "person\n",
      "performance\n",
      "support\n",
      "tor\n",
      "gm\n",
      "mouse\n",
      "base\n",
      "population\n",
      "bob\n",
      "set\n",
      "it\n",
      "earth\n",
      "faith\n",
      "steve\n",
      "caps\n",
      "printer\n",
      "east\n",
      "cable\n",
      "adapter\n",
      "mss\n",
      "catcher\n",
      "bullpen\n",
      "obp\n",
      "innocent\n",
      "european\n",
      "angeles\n",
      "settings\n",
      "words\n",
      "rit\n",
      "shots\n",
      "ports\n",
      "vga\n",
      "coverage\n",
      "jumpers\n",
      "bases\n",
      "sea\n",
      "pts\n",
      "behavior\n",
      "domi\n",
      "sabres\n",
      "yzerman\n",
      "messier\n",
      "goalies\n",
      "hawks\n",
      "our\n",
      "sx\n",
      "view\n",
      "hitters\n",
      "richard\n",
      "point\n",
      "nyi\n",
      "mvp\n",
      "kill\n",
      "nl\n",
      "field\n",
      "connector\n",
      "stars\n",
      "th\n",
      "install\n",
      "traded\n",
      "configuration\n",
      "standard\n",
      "rotation\n",
      "ultb\n",
      "sports\n",
      "pds\n",
      "canada\n",
      "did\n",
      "clock\n",
      "first\n",
      "switch\n",
      "tonight\n",
      "record\n",
      "singer\n",
      "majors\n",
      "royals\n",
      "does\n",
      "flames\n",
      "of\n",
      "series\n",
      "plays\n",
      "det\n",
      "pitched\n"
     ]
    }
   ],
   "source": [
    "import string as s\n",
    "\n",
    "# raw output\n",
    "news_partA_data.columns.values[0:100]\n",
    "\n",
    "# printed output\n",
    "print(news_partA_data.columns.values[0:100])\n",
    "\n",
    "# formatted output consisting of both attribute word index and name\n",
    "for attribute_name in news_partA_data.columns.values[0:100]:\n",
    "    print(s.split(attribute_name,'_',1))\n",
    "\n",
    "# formatted output that only prints the actual name of the word\n",
    "for attribute_name in news_partA_data.columns.values[0:100]:\n",
    "    print(s.split(attribute_name,'_',1)[1])\n"
   ]
  },
  {
   "cell_type": "markdown",
   "metadata": {},
   "source": [
    "### ========== Question 1.7 --- [4 marks] ==========\n",
    "Familiarise yourself with the [`stripplot`](https://seaborn.github.io/generated/seaborn.stripplot.html?highlight=stripplot#seaborn.stripplot) function in `seaborn`. Pick one attribute of your choice (except `class`) and display a stripplot for that attribute for dataset A. Demonstrate the distribution of the data separately for each class (by making appropriate use of the `x` argument in `stripplot`). Set the `jitter` argument to `True` and the `alpha` argument to an appropriate value (to add transparency). When the jitter parameter is enabled a small amount of noise is added to the data so that there is less overlap and the distribution is easier to visualise."
   ]
  },
  {
   "cell_type": "markdown",
   "metadata": {},
   "source": [
    "<font color='red'>4/4</font>"
   ]
  },
  {
   "cell_type": "code",
   "execution_count": 7,
   "metadata": {
    "scrolled": true
   },
   "outputs": [
    {
     "data": {
      "text/plain": [
       "<matplotlib.axes._subplots.AxesSubplot at 0x11090ec90>"
      ]
     },
     "execution_count": 7,
     "metadata": {},
     "output_type": "execute_result"
    },
    {
     "data": {
      "image/png": "[encoded data removed]",
      "text/plain": [
       "<matplotlib.figure.Figure at 0x110884f10>"
      ]
     },
     "metadata": {},
     "output_type": "display_data"
    }
   ],
   "source": [
    "sns.stripplot(x=\"class\", y=\"w30_faith\", data=news_partA_data, jitter=True, alpha=0.5)"
   ]
  },
  {
   "cell_type": "markdown",
   "metadata": {},
   "source": [
    "### ========== Question 1.8 --- [4 marks] ==========\n",
    "The stripplot illustrates the distribution of a single attribute. We can also visualise the joint distribution of two variables by using a scatter plot. Again, we want to add a bit of noise into the data so that is easier to see which parts of the space (2-dimensional in our case) have larger probability densities. \n",
    "\n",
    "For this, you will be using the function `scatter_jitter` provided below. This function takes as input two numpy arrays containing the features of interest. Pick two attributes of your choice from dataset A and use the provided function to plot their joint distribution. You can play around with the amount of noise added by tweaking the `jitter` parameter. Alternatively, you can just use its default value which is set to 0.2."
   ]
  },
  {
   "cell_type": "markdown",
   "metadata": {},
   "source": [
    "<font color='red'>3/4 What words did you pick?</font>"
   ]
  },
  {
   "cell_type": "code",
   "execution_count": 8,
   "metadata": {
    "collapsed": true
   },
   "outputs": [],
   "source": [
    "def scatter_jitter(arr1, arr2, jitter=0.2):\n",
    "    \"\"\" Plots a joint scatter plot of two arrays by adding small noise to each example. \n",
    "    Noise is proportional to variance in each dimension. \"\"\"\n",
    "    arr1 = np.asarray(arr1)\n",
    "    arr2 = np.asarray(arr2)\n",
    "    arr1 = arr1 + jitter*arr1.std(axis=0)*np.random.standard_normal(arr1.shape)\n",
    "    arr2 = arr2 + jitter*arr2.std(axis=0)*np.random.standard_normal(arr2.shape)\n",
    "    plt.scatter(arr1, arr2, marker=4)"
   ]
  },
  {
   "cell_type": "code",
   "execution_count": 9,
   "metadata": {},
   "outputs": [
    {
     "data": {
      "image/png": "[encoded data removed]",
      "text/plain": [
       "<matplotlib.figure.Figure at 0x110932f90>"
      ]
     },
     "metadata": {},
     "output_type": "display_data"
    }
   ],
   "source": [
    "feature_one = news_partA_data.iloc[124]\n",
    "feature_two = news_partA_data.iloc[248]\n",
    "scatter_jitter(feature_one, feature_two)\n",
    "\n",
    "# Ideally I would like a new plot for each value between 0.1 and 1\n",
    "# Come back to this if there is time..\n",
    "# for i in map(lambda x: x/10.0, range(1,10,1)):\n",
    "#    scatter_jitter(feature_one, feature_two, i)"
   ]
  },
  {
   "cell_type": "markdown",
   "metadata": {},
   "source": [
    "### ========== Question 1.9 --- [7 marks] ==========\n",
    "From the strip and scatter plots above you might observe that there is something peculiar about the data. Indeed most attributes take very small values (usually in the range 1-10) but there are some data points (i.e. rows) in the dataset where the attributes take very large values. These data points are called [outliers](https://en.wikipedia.org/wiki/Outlier).\n",
    "\n",
    "You might think that the presence of outliers in the dataset has been a resut of noise contamination (you wouldn't expect the same word to appear 600 times within an e-mail, would you?). Your job now is to create a new dataset from dataset A (name it `news_A_clean`) and remove the outliers. Create some metric to find the outliers and check that your metric is reasonable. Be careful not to alter the original `news_A`...we may require it in its dirty format later..."
   ]
  },
  {
   "cell_type": "markdown",
   "metadata": {},
   "source": [
    "<font color='red'>7/7</font>"
   ]
  },
  {
   "cell_type": "code",
   "execution_count": 10,
   "metadata": {},
   "outputs": [
    {
     "data": {
      "text/html": [
       "<div>\n",
       "<style>\n",
       "    .dataframe thead tr:only-child th {\n",
       "        text-align: right;\n",
       "    }\n",
       "\n",
       "    .dataframe thead th {\n",
       "        text-align: left;\n",
       "    }\n",
       "\n",
       "    .dataframe tbody tr th {\n",
       "        vertical-align: top;\n",
       "    }\n",
       "</style>\n",
       "<table border=\"1\" class=\"dataframe\">\n",
       "  <thead>\n",
       "    <tr style=\"text-align: right;\">\n",
       "      <th></th>\n",
       "      <th>w1_aaa</th>\n",
       "      <th>w2_pins</th>\n",
       "      <th>w3_kmr</th>\n",
       "      <th>w4_notion</th>\n",
       "      <th>w5_queens</th>\n",
       "      <th>w6_dwyer</th>\n",
       "      <th>w7_defenseman</th>\n",
       "      <th>w8_gld</th>\n",
       "      <th>w9_tocchet</th>\n",
       "      <th>w10_home</th>\n",
       "      <th>...</th>\n",
       "      <th>w512_constantly</th>\n",
       "      <th>w513_generate</th>\n",
       "      <th>w514_definite</th>\n",
       "      <th>w515_lacks</th>\n",
       "      <th>w516_combination</th>\n",
       "      <th>w517_sitting</th>\n",
       "      <th>w518_surface</th>\n",
       "      <th>w519_fashion</th>\n",
       "      <th>w520_sit</th>\n",
       "      <th>class</th>\n",
       "    </tr>\n",
       "  </thead>\n",
       "  <tbody>\n",
       "    <tr>\n",
       "      <th>count</th>\n",
       "      <td>2076.000000</td>\n",
       "      <td>2076.000000</td>\n",
       "      <td>2076.000000</td>\n",
       "      <td>2076.000000</td>\n",
       "      <td>2076.000000</td>\n",
       "      <td>2076.000000</td>\n",
       "      <td>2076.000000</td>\n",
       "      <td>2076.000000</td>\n",
       "      <td>2076.000000</td>\n",
       "      <td>2076.000000</td>\n",
       "      <td>...</td>\n",
       "      <td>2076.000000</td>\n",
       "      <td>2076.000000</td>\n",
       "      <td>2076.000000</td>\n",
       "      <td>2076.000000</td>\n",
       "      <td>2076.000000</td>\n",
       "      <td>2076.000000</td>\n",
       "      <td>2076.000000</td>\n",
       "      <td>2076.000000</td>\n",
       "      <td>2076.000000</td>\n",
       "      <td>2076.000000</td>\n",
       "    </tr>\n",
       "    <tr>\n",
       "      <th>mean</th>\n",
       "      <td>1.025530</td>\n",
       "      <td>1.014451</td>\n",
       "      <td>1.014933</td>\n",
       "      <td>1.007225</td>\n",
       "      <td>1.006262</td>\n",
       "      <td>1.010597</td>\n",
       "      <td>1.013487</td>\n",
       "      <td>1.024566</td>\n",
       "      <td>1.012524</td>\n",
       "      <td>1.070328</td>\n",
       "      <td>...</td>\n",
       "      <td>4.576108</td>\n",
       "      <td>4.475434</td>\n",
       "      <td>4.536609</td>\n",
       "      <td>4.569846</td>\n",
       "      <td>4.536127</td>\n",
       "      <td>4.517341</td>\n",
       "      <td>4.516378</td>\n",
       "      <td>4.521676</td>\n",
       "      <td>4.412331</td>\n",
       "      <td>3.100674</td>\n",
       "    </tr>\n",
       "    <tr>\n",
       "      <th>std</th>\n",
       "      <td>0.280831</td>\n",
       "      <td>0.157643</td>\n",
       "      <td>0.173604</td>\n",
       "      <td>0.105034</td>\n",
       "      <td>0.078904</td>\n",
       "      <td>0.134911</td>\n",
       "      <td>0.190904</td>\n",
       "      <td>0.275722</td>\n",
       "      <td>0.154724</td>\n",
       "      <td>0.317924</td>\n",
       "      <td>...</td>\n",
       "      <td>2.284466</td>\n",
       "      <td>2.273763</td>\n",
       "      <td>2.329922</td>\n",
       "      <td>2.291826</td>\n",
       "      <td>2.332617</td>\n",
       "      <td>2.253605</td>\n",
       "      <td>2.289467</td>\n",
       "      <td>2.300343</td>\n",
       "      <td>2.296256</td>\n",
       "      <td>1.390494</td>\n",
       "    </tr>\n",
       "    <tr>\n",
       "      <th>min</th>\n",
       "      <td>1.000000</td>\n",
       "      <td>1.000000</td>\n",
       "      <td>1.000000</td>\n",
       "      <td>1.000000</td>\n",
       "      <td>1.000000</td>\n",
       "      <td>1.000000</td>\n",
       "      <td>1.000000</td>\n",
       "      <td>1.000000</td>\n",
       "      <td>1.000000</td>\n",
       "      <td>1.000000</td>\n",
       "      <td>...</td>\n",
       "      <td>1.000000</td>\n",
       "      <td>1.000000</td>\n",
       "      <td>1.000000</td>\n",
       "      <td>1.000000</td>\n",
       "      <td>1.000000</td>\n",
       "      <td>1.000000</td>\n",
       "      <td>1.000000</td>\n",
       "      <td>1.000000</td>\n",
       "      <td>1.000000</td>\n",
       "      <td>1.000000</td>\n",
       "    </tr>\n",
       "    <tr>\n",
       "      <th>25%</th>\n",
       "      <td>1.000000</td>\n",
       "      <td>1.000000</td>\n",
       "      <td>1.000000</td>\n",
       "      <td>1.000000</td>\n",
       "      <td>1.000000</td>\n",
       "      <td>1.000000</td>\n",
       "      <td>1.000000</td>\n",
       "      <td>1.000000</td>\n",
       "      <td>1.000000</td>\n",
       "      <td>1.000000</td>\n",
       "      <td>...</td>\n",
       "      <td>3.000000</td>\n",
       "      <td>2.000000</td>\n",
       "      <td>3.000000</td>\n",
       "      <td>3.000000</td>\n",
       "      <td>2.000000</td>\n",
       "      <td>3.000000</td>\n",
       "      <td>2.750000</td>\n",
       "      <td>3.000000</td>\n",
       "      <td>2.000000</td>\n",
       "      <td>2.000000</td>\n",
       "    </tr>\n",
       "    <tr>\n",
       "      <th>50%</th>\n",
       "      <td>1.000000</td>\n",
       "      <td>1.000000</td>\n",
       "      <td>1.000000</td>\n",
       "      <td>1.000000</td>\n",
       "      <td>1.000000</td>\n",
       "      <td>1.000000</td>\n",
       "      <td>1.000000</td>\n",
       "      <td>1.000000</td>\n",
       "      <td>1.000000</td>\n",
       "      <td>1.000000</td>\n",
       "      <td>...</td>\n",
       "      <td>5.000000</td>\n",
       "      <td>4.000000</td>\n",
       "      <td>5.000000</td>\n",
       "      <td>5.000000</td>\n",
       "      <td>5.000000</td>\n",
       "      <td>4.000000</td>\n",
       "      <td>5.000000</td>\n",
       "      <td>5.000000</td>\n",
       "      <td>4.000000</td>\n",
       "      <td>3.000000</td>\n",
       "    </tr>\n",
       "    <tr>\n",
       "      <th>75%</th>\n",
       "      <td>1.000000</td>\n",
       "      <td>1.000000</td>\n",
       "      <td>1.000000</td>\n",
       "      <td>1.000000</td>\n",
       "      <td>1.000000</td>\n",
       "      <td>1.000000</td>\n",
       "      <td>1.000000</td>\n",
       "      <td>1.000000</td>\n",
       "      <td>1.000000</td>\n",
       "      <td>1.000000</td>\n",
       "      <td>...</td>\n",
       "      <td>7.000000</td>\n",
       "      <td>6.000000</td>\n",
       "      <td>7.000000</td>\n",
       "      <td>7.000000</td>\n",
       "      <td>7.000000</td>\n",
       "      <td>6.000000</td>\n",
       "      <td>7.000000</td>\n",
       "      <td>7.000000</td>\n",
       "      <td>6.000000</td>\n",
       "      <td>4.000000</td>\n",
       "    </tr>\n",
       "    <tr>\n",
       "      <th>max</th>\n",
       "      <td>8.000000</td>\n",
       "      <td>5.000000</td>\n",
       "      <td>5.000000</td>\n",
       "      <td>4.000000</td>\n",
       "      <td>2.000000</td>\n",
       "      <td>4.000000</td>\n",
       "      <td>7.000000</td>\n",
       "      <td>5.000000</td>\n",
       "      <td>4.000000</td>\n",
       "      <td>4.000000</td>\n",
       "      <td>...</td>\n",
       "      <td>8.000000</td>\n",
       "      <td>8.000000</td>\n",
       "      <td>8.000000</td>\n",
       "      <td>8.000000</td>\n",
       "      <td>8.000000</td>\n",
       "      <td>8.000000</td>\n",
       "      <td>8.000000</td>\n",
       "      <td>8.000000</td>\n",
       "      <td>8.000000</td>\n",
       "      <td>5.000000</td>\n",
       "    </tr>\n",
       "  </tbody>\n",
       "</table>\n",
       "<p>8 rows × 521 columns</p>\n",
       "</div>"
      ],
      "text/plain": [
       "            w1_aaa      w2_pins       w3_kmr    w4_notion    w5_queens  \\\n",
       "count  2076.000000  2076.000000  2076.000000  2076.000000  2076.000000   \n",
       "mean      1.025530     1.014451     1.014933     1.007225     1.006262   \n",
       "std       0.280831     0.157643     0.173604     0.105034     0.078904   \n",
       "min       1.000000     1.000000     1.000000     1.000000     1.000000   \n",
       "25%       1.000000     1.000000     1.000000     1.000000     1.000000   \n",
       "50%       1.000000     1.000000     1.000000     1.000000     1.000000   \n",
       "75%       1.000000     1.000000     1.000000     1.000000     1.000000   \n",
       "max       8.000000     5.000000     5.000000     4.000000     2.000000   \n",
       "\n",
       "          w6_dwyer  w7_defenseman       w8_gld   w9_tocchet     w10_home  \\\n",
       "count  2076.000000    2076.000000  2076.000000  2076.000000  2076.000000   \n",
       "mean      1.010597       1.013487     1.024566     1.012524     1.070328   \n",
       "std       0.134911       0.190904     0.275722     0.154724     0.317924   \n",
       "min       1.000000       1.000000     1.000000     1.000000     1.000000   \n",
       "25%       1.000000       1.000000     1.000000     1.000000     1.000000   \n",
       "50%       1.000000       1.000000     1.000000     1.000000     1.000000   \n",
       "75%       1.000000       1.000000     1.000000     1.000000     1.000000   \n",
       "max       4.000000       7.000000     5.000000     4.000000     4.000000   \n",
       "\n",
       "          ...       w512_constantly  w513_generate  w514_definite  \\\n",
       "count     ...           2076.000000    2076.000000    2076.000000   \n",
       "mean      ...              4.576108       4.475434       4.536609   \n",
       "std       ...              2.284466       2.273763       2.329922   \n",
       "min       ...              1.000000       1.000000       1.000000   \n",
       "25%       ...              3.000000       2.000000       3.000000   \n",
       "50%       ...              5.000000       4.000000       5.000000   \n",
       "75%       ...              7.000000       6.000000       7.000000   \n",
       "max       ...              8.000000       8.000000       8.000000   \n",
       "\n",
       "        w515_lacks  w516_combination  w517_sitting  w518_surface  \\\n",
       "count  2076.000000       2076.000000   2076.000000   2076.000000   \n",
       "mean      4.569846          4.536127      4.517341      4.516378   \n",
       "std       2.291826          2.332617      2.253605      2.289467   \n",
       "min       1.000000          1.000000      1.000000      1.000000   \n",
       "25%       3.000000          2.000000      3.000000      2.750000   \n",
       "50%       5.000000          5.000000      4.000000      5.000000   \n",
       "75%       7.000000          7.000000      6.000000      7.000000   \n",
       "max       8.000000          8.000000      8.000000      8.000000   \n",
       "\n",
       "       w519_fashion     w520_sit        class  \n",
       "count   2076.000000  2076.000000  2076.000000  \n",
       "mean       4.521676     4.412331     3.100674  \n",
       "std        2.300343     2.296256     1.390494  \n",
       "min        1.000000     1.000000     1.000000  \n",
       "25%        3.000000     2.000000     2.000000  \n",
       "50%        5.000000     4.000000     3.000000  \n",
       "75%        7.000000     6.000000     4.000000  \n",
       "max        8.000000     8.000000     5.000000  \n",
       "\n",
       "[8 rows x 521 columns]"
      ]
     },
     "execution_count": 10,
     "metadata": {},
     "output_type": "execute_result"
    }
   ],
   "source": [
    "from statsmodels import robust\n",
    "\n",
    "# Initially, looking at the data in Excel or a text editor can give you a good indication of outliers\n",
    "# furthermore, examining the mean and the standard deviation of each row will also give you a fairly good indication:\n",
    "\n",
    "# Uncomment this block to see the mean and standard deviation for all data points\n",
    "\n",
    "'''\n",
    "for x in xrange(0, len(news_partA_data)):\n",
    "   print(\"Row: \", x, \" .. \", news_partA_data.iloc[x].mean(), news_partA_data.iloc[x].std())\n",
    "'''\n",
    "\n",
    "# Ideally, we should be able to say: 'when the standard deviation exceeds a certain threshold, that row is an outlier'\n",
    "\n",
    "'''\n",
    "for x in xrange(0, len(news_partA_data)):\n",
    "    threshold = 10\n",
    "    if (news_partA_data.iloc[x].std() > 10):\n",
    "        print(\"row: \", x)\n",
    "'''\n",
    "\n",
    "# I'm currently setting the threshold as 7 by default and then visually comparing agaisnt the actual data to test \n",
    "# to see if this is a clean dataset. If I have time I will return to this question and try and follow up with a metric.\n",
    "# I have listed some ideas at the bottom, but I found this question quite difficult.\n",
    "\n",
    "# I REALLY don't like exceeding three levels of indentation..\n",
    "\n",
    "# UPDATE: best value of 't' - threshold is 3, see below\n",
    "def cleanDataFrame(df, threshold=7, print_on_itr=True):\n",
    "    rows_to_be_dropped = []\n",
    "    for index in xrange(0, len(df)):\n",
    "        if (print_on_itr and df.iloc[index].std() > threshold):\n",
    "            print(\"Row to be dropped: \", index)\n",
    "            rows_to_be_dropped.append(index)\n",
    "        elif (df.iloc[index].std() > threshold):\n",
    "            rows_to_be_dropped.append(index)\n",
    "\n",
    "    if (print_on_itr):\n",
    "        print(\"total rows to be dropped: \", len(rows_to_be_dropped))\n",
    "    \n",
    "    return df.drop(df.index[rows_to_be_dropped])\n",
    "\n",
    "# UPDATE: I came back to this question when running the classifier later in the exercise and performed a sensitivity \n",
    "# analysis, essentially observing how modifying t affected the accuracy of the classifer. I found that 3 was the\n",
    "# optimal value to set the threshold at, it provided 89% accuracy on the training set.\n",
    "\n",
    "clean_partA_data = cleanDataFrame(news_partA_data, threshold=3, print_on_itr=False)\n",
    "\n",
    "# NOTE: I spent quite a long time on this question. Would very much appriciate some feedback.\n",
    "\n",
    "# Exporting to view visually.\n",
    "clean_partA_path = os.path.join(os.getcwd(), 'datasets', 'clean_news_partA.tsv')\n",
    "clean_partA_data.to_csv(clean_partA_path, '\\t')\n",
    "\n",
    "\n",
    "\n",
    "\n",
    "# Thoughts for some kind of metric:\n",
    "\n",
    "# checking the describe of the resultant 'clean' set agaisnt the original\n",
    "clean_partA_data.describe()\n",
    "\n",
    "# checking the mean and standard deviation of each datapoint agaisnt the original\n",
    "\n",
    "#for x in xrange(0, len(clean_partA_data)):\n",
    "#   print(\"Row: \", x, \" .. \", clean_partA_data.iloc[x].mean(), clean_partA_data.iloc[x].std())\n",
    "\n",
    "# It may be sensible to do some kind of sensitivity analysis of the value of the threshold?\n",
    "\n",
    "# This could be done by completing the classifier in the next section and then checking it's accuracy by modifying\n",
    "# the threshold value of the cleanDataFrame function. In this respect, this function threshold can be thought of\n",
    "# as a hyperparameter that requires tuning.\n",
    "\n",
    "# if there's time look into: MAD and ICQ methods\n",
    "#(abs(news_partA_data[0:100] - news_partA_data[0:100].median())) / robust.mad(news_partA_data[0:100])"
   ]
  },
  {
   "cell_type": "markdown",
   "metadata": {},
   "source": [
    "### ========== Question 1.10 --- [3 marks] ==========\n",
    "Write code to return the number of data points in the clean dataset, and the number of documents that have been excluded as outliers"
   ]
  },
  {
   "cell_type": "markdown",
   "metadata": {},
   "source": [
    "<font color='red'>3/3</font>"
   ]
  },
  {
   "cell_type": "code",
   "execution_count": 11,
   "metadata": {},
   "outputs": [
    {
     "name": "stdout",
     "output_type": "stream",
     "text": [
      "Number of clean data points:  2076\n",
      "Number of excluded documents (outliers):  53\n"
     ]
    }
   ],
   "source": [
    "clean_data_points_length = len(clean_partA_data)\n",
    "dirty_data_points_length = len(news_partA_data)\n",
    "number_of_outliers = dirty_data_points_length - clean_data_points_length\n",
    "print(\"Number of clean data points: \", clean_data_points_length)\n",
    "print(\"Number of excluded documents (outliers): \", number_of_outliers)"
   ]
  },
  {
   "cell_type": "markdown",
   "metadata": {},
   "source": [
    "## 2. Naive Bayes classification [60%]\n",
    "Now we want to fit a Gaussian Naive Bayes model to the cleaned dataset A. You might want first to familiarise yourself with the [`GaussianNB`](http://scikit-learn.org/stable/modules/generated/sklearn.naive_bayes.GaussianNB.html) class in `Sklearn`."
   ]
  },
  {
   "cell_type": "markdown",
   "metadata": {},
   "source": [
    "### ========== Question 2.1 --- [4 marks] ==========\n",
    "\n",
    "By using the `scatter_jitter` function provided above, display a scatter plot of the features `w281_ico` and `w273_tek` for the cleaned dataset A. Set the jitter value to something small (e.g. 0.1). Label axes appropriately."
   ]
  },
  {
   "cell_type": "markdown",
   "metadata": {},
   "source": [
    "<font color='red'>4/4</font>"
   ]
  },
  {
   "cell_type": "code",
   "execution_count": 12,
   "metadata": {},
   "outputs": [
    {
     "data": {
      "text/plain": [
       "<matplotlib.text.Text at 0x1a1bc83dd0>"
      ]
     },
     "execution_count": 12,
     "metadata": {},
     "output_type": "execute_result"
    },
    {
     "data": {
      "image/png": "[encoded data removed]",
      "text/plain": [
       "<matplotlib.figure.Figure at 0x11092b350>"
      ]
     },
     "metadata": {},
     "output_type": "display_data"
    }
   ],
   "source": [
    "feature_one = clean_partA_data[\"w281_ico\"]\n",
    "feature_two = clean_partA_data[\"w273_tek\"]\n",
    "scatter_jitter(feature_one, feature_two, jitter=0.1)\n",
    "plt.xlabel('w281_ico attribute values', fontsize=12)\n",
    "plt.ylabel('w273_tek attribute values', fontsize=12)"
   ]
  },
  {
   "cell_type": "markdown",
   "metadata": {},
   "source": [
    "### ========== Question 2.2 --- [6 marks] ==========\n",
    "What do you observe? \n",
    "\n",
    "How does that relate to the Naive Bayes assumption? \n",
    "\n",
    "What would be the main issue we would have to face if we didn't make this assumption?"
   ]
  },
  {
   "cell_type": "markdown",
   "metadata": {},
   "source": [
    "<font color='red'>6/6</font>"
   ]
  },
  {
   "cell_type": "markdown",
   "metadata": {},
   "source": [
    "The words **'ico' (w281) and 'tek' (w273) appear mainly in documents one and two**. There are about the same number of occurrences in document three and five, with minimal occurrences in document four.\n",
    "\n",
    "The Naive Bayes assumption states that all classes are **conditionally independent**, which is to say that words (attributes) are not characterised as being in anyway similar to one another, for any class. In this instance, **the words 'ico' and 'tek' actually do have some similarity.** This claim can be made because the above visualisation demonstrates that both words occur mostly in documents of type 1 and 2, thereby refuting the assumption made by the Naive Bayes classifier.\n",
    "\n",
    "The main issue encountered if this assumption is not made is that the model would have to take into consideration the similarity between words and represent these similarities as attributes, or some kind of model state. This would mean: if we had 5 classes and 520 features, there would be 5^520 different possible combinations - which is **completely infeasible to model**, there would not be data available to cover all possible combinations for training the model and there would likely not be sufficient compute and or storage available.\n"
   ]
  },
  {
   "cell_type": "markdown",
   "metadata": {},
   "source": [
    "### ========== Question 2.3 --- [5 marks] ==========\n",
    "Fit a Gaussian Naive Bayes model to the cleaned dataset A. Your input features should be all the attributes in the dataset except the `class` attribute which will be your target. Display the classification accuracy on the training dataset."
   ]
  },
  {
   "cell_type": "markdown",
   "metadata": {},
   "source": [
    "<font color='red'>5/5</font>"
   ]
  },
  {
   "cell_type": "code",
   "execution_count": 13,
   "metadata": {
    "scrolled": true
   },
   "outputs": [
    {
     "name": "stdout",
     "output_type": "stream",
     "text": [
      "Mean classification accuracy on TRAINING set (A - CLEAN):  0.890173410405\n"
     ]
    }
   ],
   "source": [
    "from sklearn.naive_bayes import GaussianNB\n",
    "\n",
    "clf = GaussianNB()\n",
    "\n",
    "# number of data points\n",
    "row_index_length = len(clean_partA_data)\n",
    "# number of input features, -1 because the final column is class\n",
    "column_index_length = len(clean_partA_data.columns) - 1\n",
    "\n",
    "def getColumnNames(df, final_column_index):\n",
    "    column_names = []\n",
    "    for attribute_name in df.columns.values[0:final_column_index]:\n",
    "        column_names.append(attribute_name)\n",
    "    return column_names\n",
    "\n",
    "column_names = getColumnNames(clean_partA_data, column_index_length)\n",
    "\n",
    "input_features = clean_partA_data[:][column_names]\n",
    "\n",
    "targets = clean_partA_data[:]['class']\n",
    "\n",
    "clf.fit(input_features, targets)\n",
    "\n",
    "mean_classification_accuracy = clf.score(input_features, targets)\n",
    "\n",
    "print(\"Mean classification accuracy on TRAINING set (A - CLEAN): \", mean_classification_accuracy)"
   ]
  },
  {
   "cell_type": "markdown",
   "metadata": {},
   "source": [
    "### ========== Question 2.4 --- [5 marks] ==========\n",
    "Plot the (normalised) confusion matrix for the training data. Label axes appropriately."
   ]
  },
  {
   "cell_type": "markdown",
   "metadata": {},
   "source": [
    "<font color='red'>5/5</font>"
   ]
  },
  {
   "cell_type": "code",
   "execution_count": 14,
   "metadata": {},
   "outputs": [
    {
     "data": {
      "image/png": "[encoded data removed]",
      "text/plain": [
       "<matplotlib.figure.Figure at 0x109f71c90>"
      ]
     },
     "metadata": {},
     "output_type": "display_data"
    }
   ],
   "source": [
    "from sklearn.metrics import accuracy_score, confusion_matrix\n",
    "\n",
    "# using the function from the previous lab\n",
    "def plot_confusion_matrix(cm, classes=None, title='Confusion matrix'):\n",
    "    \"\"\"Plots a confusion matrix.\"\"\"\n",
    "    if classes is not None:\n",
    "        sns.heatmap(cm, xticklabels=classes, yticklabels=classes, vmin=0., vmax=1., annot=True)\n",
    "    else:\n",
    "        sns.heatmap(cm, vmin=0., vmax=1.)\n",
    "    plt.title(title)\n",
    "    plt.ylabel('True label')\n",
    "    plt.xlabel('Predicted label')\n",
    "\n",
    "clf_predict = clf.predict(input_features)\n",
    "conf_matrix = confusion_matrix(targets, clf_predict)\n",
    "conf_matrix_norm = conf_matrix / conf_matrix.sum(axis=1)[:, np.newaxis]\n",
    "\n",
    "plt.figure()\n",
    "\n",
    "# classes are 1,2,3,4,5 - you know this by observing the class column in the data\n",
    "# e.g: print(targets)\n",
    "\n",
    "plot_confusion_matrix(conf_matrix_norm, classes=[1,2,3,4,5])\n"
   ]
  },
  {
   "cell_type": "markdown",
   "metadata": {},
   "source": [
    "### ========== Question 2.5 --- [3 marks] ==========\n",
    "\n",
    "Comment on the confusion matrix from the previous question. Does it look like what you would have expected? Explain."
   ]
  },
  {
   "cell_type": "markdown",
   "metadata": {},
   "source": [
    "<font color='red'>3/3</font>"
   ]
  },
  {
   "cell_type": "markdown",
   "metadata": {},
   "source": [
    "**Yes the confusion matrix looks like what I would expect.** The reason is because if you add all the values found in the matrix where the predicted labels meet the true label (diagonally down from left to right) up and divide by the number of squares, you get a value very close to classification accuracy. It's a little out due to the occasional misclassification of surrounding labels, mainly 2's being misclassified as 3's.\n",
    "\n",
    "**(0.97 + 0.71 + 0.98 + 0.92 + 0.89) / 5 = 0.894** \n",
    "\n",
    "=> 0.894 ~= 0.89"
   ]
  },
  {
   "cell_type": "markdown",
   "metadata": {},
   "source": [
    "### ========== Question 2.6 --- [5 marks] ==========\n",
    "Fit a Gaussian Naive Bayes model to the original dataset A (including the outliers). Display the classification accuracy on the training dataset."
   ]
  },
  {
   "cell_type": "markdown",
   "metadata": {},
   "source": [
    "<font color='red'>5/5</font>"
   ]
  },
  {
   "cell_type": "code",
   "execution_count": 15,
   "metadata": {},
   "outputs": [
    {
     "name": "stdout",
     "output_type": "stream",
     "text": [
      "Mean classification accuracy on TRAINING set (A - UNCLEAN):  0.205260685768\n"
     ]
    }
   ],
   "source": [
    "clf_old_data = GaussianNB()\n",
    "\n",
    "old_row_index_length = len(news_partA_data)\n",
    "old_column_index_length = len(news_partA_data.columns) - 1\n",
    "\n",
    "old_column_names = getColumnNames(news_partA_data, old_column_index_length)\n",
    "\n",
    "old_input_features = news_partA_data[:][old_column_names]\n",
    "\n",
    "old_targets = news_partA_data[:]['class']\n",
    "\n",
    "clf_old_data.fit(old_input_features, old_targets)\n",
    "\n",
    "mean_classification_accuracy_of_old_data = clf_old_data.score(old_input_features, old_targets)\n",
    "\n",
    "print(\"Mean classification accuracy on TRAINING set (A - UNCLEAN): \", mean_classification_accuracy_of_old_data)"
   ]
  },
  {
   "cell_type": "markdown",
   "metadata": {},
   "source": [
    "### ========== Question 2.7 --- [4 marks] ==========\n",
    "Comment on the above results (Questions 2.3 & 2.6). In particular explain why you think that cleaning the data helps in this case."
   ]
  },
  {
   "cell_type": "markdown",
   "metadata": {},
   "source": [
    "<font color='red'>4/4</font>"
   ]
  },
  {
   "cell_type": "markdown",
   "metadata": {},
   "source": [
    "There is a **huge increase in classification accuracy** with regards to the cleaned dataset as appose to the uncleaned dataset. \n",
    "\n",
    "This is because the dataset that contains outliers **skews the model representations for each class**. You could visualise this in 2d space (theoretically - not with this actual model) as the boundary that encloses any particular class. **The clean version would have pretty good model boundaries (representations), whilst the unclean version would likely have boundaries that cross over one another**. Therefore the **probability distribution that provides a prediction** would be **potentially** fairly even across all classes, meaning that the model will be more likely to mispredict (to some degree) any incoming data, as it would be **in a state of confusion / indecisiveness**.\n",
    "\n",
    "In this particular example, the classification accuracy is so low on the model trained with uncleaned data **because the outliers were particularly large when compared with non-outliers**.\n",
    "\n",
    "*Apologies, I found it hard to make this answer concise.*\n"
   ]
  },
  {
   "cell_type": "markdown",
   "metadata": {},
   "source": [
    "### ========== Question 2.8 --- [5 marks] ==========\n",
    "\n",
    "Now we want to evaluate the generalisation of the classifier on new (i.e. unseen data). Use the classifier you trained in Question 2.5 (i.e. on the cleaned dataset) and test its performance on dataset `train_20news_partB`. \n",
    "\n",
    "Display the (normalized) confusion matrix and the classification accuracy on the Dataset B."
   ]
  },
  {
   "cell_type": "markdown",
   "metadata": {},
   "source": [
    "<font color='red'>5/5</font>"
   ]
  },
  {
   "cell_type": "code",
   "execution_count": 16,
   "metadata": {},
   "outputs": [
    {
     "name": "stdout",
     "output_type": "stream",
     "text": [
      "Mean classification accuracy on TESTING set:  0.882104274307\n"
     ]
    },
    {
     "data": {
      "image/png": "[encoded data removed]",
      "text/plain": [
       "<matplotlib.figure.Figure at 0x110963d90>"
      ]
     },
     "metadata": {},
     "output_type": "display_data"
    }
   ],
   "source": [
    "# uns for unseen\n",
    "\n",
    "uns_row_index_length = len(news_partB_data)\n",
    "uns_column_index_length = len(news_partB_data.columns) - 1\n",
    "uns_column_names = getColumnNames(news_partB_data, uns_column_index_length)\n",
    "uns_input_features = news_partB_data[:][uns_column_names]\n",
    "uns_targets = news_partB_data[:]['class']\n",
    "<font color='red'>5/5</font><font color='red'>5/5</font>\n",
    "mca_uns_data = clf.score(uns_input_features,uns_targets)\n",
    "print(\"Mean classification accuracy on TESTING set: \", mca_uns_data)\n",
    "\n",
    "clf_uns_predict = clf.predict(uns_input_features)\n",
    "uns_conf_matrix = confusion_matrix(uns_targets, clf_uns_predict)\n",
    "uns_conf_matrix_norm = uns_conf_matrix / uns_conf_matrix.sum(axis=1)[:, np.newaxis]\n",
    "\n",
    "plt.figure()\n",
    "\n",
    "plot_confusion_matrix(uns_conf_matrix_norm, classes=[1,2,3,4,5])\n"
   ]
  },
  {
   "cell_type": "markdown",
   "metadata": {},
   "source": [
    "### ========== Question 2.9 --- [4 marks] ==========\n",
    "\n",
    "Comment on the results from the previous question. Do you think this is an acceptable level of performance? Which are the easiest and most difficult classes to predict correctly? "
   ]
  },
  {
   "cell_type": "markdown",
   "metadata": {},
   "source": [
    "<font color='red'>4/4</font>"
   ]
  },
  {
   "cell_type": "markdown",
   "metadata": {},
   "source": [
    "Since the classification accuracy on the testing set is almost as good as the accuracy on the training set, **yes this is an acceptable level of performance**. The classifier has the **most trouble misclassifying the true label 2 as the predicted label 3**. I would say it has a *pretty good* performance on all other classes, but the **easiest classes to predict are 1 and 3**.\n",
    "\n",
    "The classifier may have a slight bias towards predicting 3's, as it misclassifies at least one of every label as a three. This *could* (but doesn't necessarily) indicate why the prediction accuracy on label 3 is so high.\n",
    "\n",
    "*(Note: I'm **not too sure** about the point I just made, I believe it's valid - but some feedback would be great, thanks)*"
   ]
  },
  {
   "cell_type": "markdown",
   "metadata": {},
   "source": [
    "### ========== Question 2.10 --- [4 marks] ==========\n",
    "What is a reasonable baseline against which to compare the classiffication performance? *Hint: What is the simplest classiffier you can think of and what would its performance be on this dataset?* "
   ]
  },
  {
   "cell_type": "markdown",
   "metadata": {},
   "source": [
    "<font color='red'>4/4</font>"
   ]
  },
  {
   "cell_type": "markdown",
   "metadata": {},
   "source": [
    "From reviewing the SciKit Learn documentation, I found the 'dummy classifier', which is described as:\n",
    "\n",
    "\"a classifier that makes predictions using simple rules. This classifier is useful as a simple baseline to compare with other (real) classifiers. Do not use it for real problems.\"\n",
    "\n",
    "Directly quoted from: http://scikit-learn.org/stable/modules/generated/sklearn.dummy.DummyClassifier.html\n",
    "\n",
    "My intuition would lead me to believe that it's good to use as a baseline classifier (or at least an initial one) because if the classifier being trained is underperforming in comparison to the dummy classifier, it must be **absolutely terrible**. I would probably use the dummy classifier as an initial test to make sure my classifier at least worked in the most basic sense, but would then probably compare it with something a little more sophisticated."
   ]
  },
  {
   "cell_type": "markdown",
   "metadata": {},
   "source": [
    "### ========== Question 2.11 --- [4 marks] ==========\n",
    "\n",
    "Estimate the baseline performance."
   ]
  },
  {
   "cell_type": "markdown",
   "metadata": {},
   "source": [
    "<font color='red'>4/4</font>"
   ]
  },
  {
   "cell_type": "code",
   "execution_count": 17,
   "metadata": {},
   "outputs": [
    {
     "name": "stdout",
     "output_type": "stream",
     "text": [
      "----dummy - BASELINE ----\n",
      "dummy performance: (CLEANED DATA) 0.199421965318\n",
      "dummy performance: (UNCLEANED DATA) 0.209018318459\n",
      "dummy performance: (UNSEEN DATA) 0.201972757163\n",
      "----clf----\n",
      "clf performance (CLEANED DATA):  0.890173410405\n",
      "clf performance (UNCLEANED DATA):  0.205260685768\n",
      "clf performance (UNSEEN DATA):  0.882104274307\n"
     ]
    }
   ],
   "source": [
    "from sklearn.naive_bayes import MultinomialNB\n",
    "from sklearn.dummy import DummyClassifier\n",
    "\n",
    "print(\"----dummy - BASELINE ----\")\n",
    "dummy = DummyClassifier()\n",
    "dummy.fit(input_features, targets)\n",
    "print(\"dummy performance: (CLEANED DATA)\", dummy.score(input_features, targets))\n",
    "old_dummy = DummyClassifier()\n",
    "old_dummy.fit(old_input_features, old_targets)\n",
    "print(\"dummy performance: (UNCLEANED DATA)\", dummy.score(old_input_features, old_targets))\n",
    "print(\"dummy performance: (UNSEEN DATA)\", dummy.score(uns_input_features, uns_targets))\n",
    "\n",
    "print(\"----clf----\")\n",
    "\n",
    "print(\"clf performance (CLEANED DATA): \", clf.score(input_features, targets))\n",
    "print(\"clf performance (UNCLEANED DATA): \", clf_old_data.score(old_input_features, old_targets))\n",
    "print(\"clf performance (UNSEEN DATA): \", clf.score(uns_input_features, uns_targets))\n"
   ]
  },
  {
   "cell_type": "markdown",
   "metadata": {},
   "source": [
    "### ========== Question 2.12 --- [3 marks] ==========\n",
    "\n",
    "Execute the cell below to get the prediction on the test dataset by using a different classifier which we will be introducing in this class later on. By using this prediction provided below (`rf_prediction`) plot the confusion matrix and display the classification accuracy on the test dataset. *Important: Make sure the test dataset is loaded in a DataFrame called `news_B` otherwise execution will return an error. In that case replace the DataFrame name in the third line.*"
   ]
  },
  {
   "cell_type": "markdown",
   "metadata": {},
   "source": [
    "<font color='red'>3/3</font>"
   ]
  },
  {
   "cell_type": "code",
   "execution_count": 18,
   "metadata": {},
   "outputs": [
    {
     "name": "stdout",
     "output_type": "stream",
     "text": [
      "classification accuracy:  0.988727101926\n"
     ]
    },
    {
     "data": {
      "image/png": "[encoded data removed]",
      "text/plain": [
       "<matplotlib.figure.Figure at 0x1a1fa15f10>"
      ]
     },
     "metadata": {},
     "output_type": "display_data"
    }
   ],
   "source": [
    "news_A_clean = clean_partA_data\n",
    "news_B = news_partB_data\n",
    "\n",
    "from sklearn.ensemble import RandomForestClassifier\n",
    "rf = RandomForestClassifier(n_estimators = 50).fit(X=news_A_clean.drop(\"class\", axis=1), y=news_A_clean[\"class\"])\n",
    "X_ts = news_B.drop('class', axis=1)\n",
    "rf_prediction = rf.predict(X=X_ts)\n",
    "\n",
    "# classification accuracy\n",
    "\n",
    "targets = news_B[:]['class']\n",
    "classification_accuracy = accuracy_score(targets, rf_prediction)\n",
    "print (\"classification accuracy: \", classification_accuracy)\n",
    "\n",
    "# confusion matrix\n",
    "\n",
    "rf_conf_matrix = confusion_matrix(targets, rf_prediction)\n",
    "rf_conf_matrix_norm = rf_conf_matrix / rf_conf_matrix.sum(axis=1)[:, np.newaxis]\n",
    "plt.figure()\n",
    "plot_confusion_matrix(rf_conf_matrix_norm, classes=[1,2,3,4,5])"
   ]
  },
  {
   "cell_type": "markdown",
   "metadata": {},
   "source": [
    "### ========== Question 2.13 --- [8 marks] ==========\n",
    "\n",
    "Which classifier (Naive Bayes or Random Forest) would you trust if you had to choose? What are the reasons you believe the Gaussian Naive Bayes classifier does not perofm so well in this particular problem? You are not expected to justify the performance level achieved by the Random Forest classifier. Feel free to use code and plots to illustrate your points."
   ]
  },
  {
   "cell_type": "markdown",
   "metadata": {},
   "source": [
    "<font color='red'>6/8</font>"
   ]
  },
  {
   "cell_type": "markdown",
   "metadata": {},
   "source": [
    "If I had to choose between Naive Bayes or Random Forest, I would choose **Random Forest** based on the **classification accuracy** presented in the previous question. In addition, **the confusion matrix above shows that the Random Forest classifier makes very few mistakes on almost every label**.\n",
    "\n",
    "I believe the Gaussian Naive Bayes classifier does not perform well due to the independence assumption (class conditional independence). As demonstrated in Q2.2, this assumption is easily refuted and opting for a more sophisticated classifier that can model similarities between words (word2vec-esque?) may be advantageous.\n",
    "\n",
    "Another reason as to why the **Gaussian** Naive Bayes classifier does a poor job for this particular problem is because word counts should not be treated as continuous data. Perhaps something like the Multinomial Naive Bayes classifier would be more suited to this particular type of problem.\n",
    "\n",
    "The classifier accuracy could *potentially* be improved by using tf-idf weights instead of simple word counts."
   ]
  },
  {
   "cell_type": "code",
   "execution_count": 19,
   "metadata": {},
   "outputs": [
    {
     "name": "stdout",
     "output_type": "stream",
     "text": [
      "tfidf training accuracy:  0.848747591522\n",
      "tfidf testing accuracy:  0.838891498356\n"
     ]
    }
   ],
   "source": [
    "# Trying tf-idf weights rather than counts.. Summary: tf-idf doesn't appear to be the way to go with Naive Bayes.\n",
    "# At least, not with this dataset.\n",
    "\n",
    "from sklearn.feature_extraction.text import TfidfTransformer\n",
    "transformer = TfidfTransformer(smooth_idf=False)\n",
    "\n",
    "# pre-processing\n",
    "\n",
    "clean_data = clean_partA_data\n",
    "clean_data_row_index_len = len(clean_data)\n",
    "clean_data_col_index_len = len(clean_data.columns) - 1\n",
    "\n",
    "tfidf_column_names = getColumnNames(clean_data, clean_data_col_index_len)\n",
    "\n",
    "tfidf_clean_data = clean_data\n",
    "tfidf_clean_training_data = tfidf_clean_data.drop(\"class\", axis=1)\n",
    "\n",
    "tfidf = transformer.fit_transform(tfidf_clean_training_data)\n",
    "\n",
    "tfidf_normalised_training_data = tfidf.toarray()\n",
    "\n",
    "tfidf_training_features = tfidf_normalised_training_data\n",
    "\n",
    "tfidf_training_targets = clean_data[:]['class']\n",
    "\n",
    "# training\n",
    "\n",
    "tfidf_clf = GaussianNB()\n",
    "tfidf_clf.fit(tfidf_training_features, tfidf_training_targets)\n",
    "\n",
    "# score on training set\n",
    "\n",
    "training_score = tfidf_clf.score(tfidf_training_features, tfidf_training_targets)\n",
    "\n",
    "print(\"tfidf training accuracy: \", training_score)\n",
    "\n",
    "# testing set - preprocessing\n",
    "\n",
    "uns_data = news_partB_data\n",
    "uns_data_row_index_len = len(uns_data)\n",
    "uns_data_col_index_len = len(uns_data.columns) - 1\n",
    "\n",
    "tfidf_uns_data = uns_data\n",
    "tfidf_uns_testing_data = tfidf_uns_data.drop(\"class\", axis=1)\n",
    "\n",
    "tfidf_testing = transformer.fit_transform(tfidf_uns_testing_data)\n",
    "\n",
    "tfidf_normalised_testing_data = tfidf_testing.toarray()\n",
    "\n",
    "tfidf_testing_features = tfidf_normalised_testing_data\n",
    "\n",
    "tfidf_testing_targets = uns_data[:]['class']\n",
    "\n",
    "# score on testing set\n",
    "\n",
    "tfidf_testing_score = tfidf_clf.score(tfidf_testing_features, tfidf_testing_targets)\n",
    "\n",
    "print(\"tfidf testing accuracy: \", tfidf_testing_score)\n",
    "\n",
    "# Well, that was a lot of work for nothing! tf-idf doesn't appear to be as good as just useing standard counts.\n",
    "# Unless I've missed something.."
   ]
  }
 ],
 "metadata": {
  "kernelspec": {
   "display_name": "Python 2",
   "language": "python",
   "name": "python2"
  },
  "language_info": {
   "codemirror_mode": {
    "name": "ipython",
    "version": 2
   },
   "file_extension": ".py",
   "mimetype": "text/x-python",
   "name": "python",
   "nbconvert_exporter": "python",
   "pygments_lexer": "ipython2",
   "version": "2.7.14"
  }
 },
 "nbformat": 4,
 "nbformat_minor": 1
}
